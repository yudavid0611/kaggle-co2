{
 "cells": [
  {
   "cell_type": "code",
   "execution_count": 1,
   "metadata": {},
   "outputs": [],
   "source": [
    "import os\n",
    "import pandas as pd\n",
    "from tools.dataset import score_dataset\n",
    "from tools.preprocessing.missing_values import get_missing_raio, delete_columns, impute_missing_values\n",
    "from tools.preprocessing.outliers import delete_outliers, impute_outliers, get_limits"
   ]
  },
  {
   "cell_type": "markdown",
   "metadata": {},
   "source": [
    "# 1. 데이터 로드"
   ]
  },
  {
   "cell_type": "code",
   "execution_count": 2,
   "metadata": {},
   "outputs": [
    {
     "name": "stdout",
     "output_type": "stream",
     "text": [
      "train shape: (79023, 76)\n",
      "test shape: (24353, 75)\n"
     ]
    }
   ],
   "source": [
    "DATA_PATH = './data'\n",
    "\n",
    "train = pd.read_csv(os.path.join(DATA_PATH, 'train.csv'))\n",
    "test = pd.read_csv(os.path.join(DATA_PATH, 'test.csv'))\n",
    "\n",
    "# train_origin = train.copy()\n",
    "# test_origin = test.copy()\n",
    "\n",
    "print(f'train shape: {train.shape}')\n",
    "print(f'test shape: {test.shape}')"
   ]
  },
  {
   "cell_type": "code",
   "execution_count": 3,
   "metadata": {},
   "outputs": [
    {
     "data": {
      "text/html": [
       "<div>\n",
       "<style scoped>\n",
       "    .dataframe tbody tr th:only-of-type {\n",
       "        vertical-align: middle;\n",
       "    }\n",
       "\n",
       "    .dataframe tbody tr th {\n",
       "        vertical-align: top;\n",
       "    }\n",
       "\n",
       "    .dataframe thead th {\n",
       "        text-align: right;\n",
       "    }\n",
       "</style>\n",
       "<table border=\"1\" class=\"dataframe\">\n",
       "  <thead>\n",
       "    <tr style=\"text-align: right;\">\n",
       "      <th></th>\n",
       "      <th>ID_LAT_LON_YEAR_WEEK</th>\n",
       "      <th>latitude</th>\n",
       "      <th>longitude</th>\n",
       "      <th>year</th>\n",
       "      <th>week_no</th>\n",
       "      <th>SulphurDioxide_SO2_column_number_density</th>\n",
       "      <th>SulphurDioxide_SO2_column_number_density_amf</th>\n",
       "      <th>SulphurDioxide_SO2_slant_column_number_density</th>\n",
       "      <th>SulphurDioxide_cloud_fraction</th>\n",
       "      <th>SulphurDioxide_sensor_azimuth_angle</th>\n",
       "      <th>...</th>\n",
       "      <th>Cloud_cloud_top_height</th>\n",
       "      <th>Cloud_cloud_base_pressure</th>\n",
       "      <th>Cloud_cloud_base_height</th>\n",
       "      <th>Cloud_cloud_optical_depth</th>\n",
       "      <th>Cloud_surface_albedo</th>\n",
       "      <th>Cloud_sensor_azimuth_angle</th>\n",
       "      <th>Cloud_sensor_zenith_angle</th>\n",
       "      <th>Cloud_solar_azimuth_angle</th>\n",
       "      <th>Cloud_solar_zenith_angle</th>\n",
       "      <th>emission</th>\n",
       "    </tr>\n",
       "  </thead>\n",
       "  <tbody>\n",
       "    <tr>\n",
       "      <th>0</th>\n",
       "      <td>ID_-0.510_29.290_2019_00</td>\n",
       "      <td>-0.51</td>\n",
       "      <td>29.29</td>\n",
       "      <td>2019</td>\n",
       "      <td>0</td>\n",
       "      <td>-0.000108</td>\n",
       "      <td>0.603019</td>\n",
       "      <td>-0.000065</td>\n",
       "      <td>0.255668</td>\n",
       "      <td>-98.593887</td>\n",
       "      <td>...</td>\n",
       "      <td>3664.436218</td>\n",
       "      <td>61085.809570</td>\n",
       "      <td>2615.120483</td>\n",
       "      <td>15.568533</td>\n",
       "      <td>0.272292</td>\n",
       "      <td>-12.628986</td>\n",
       "      <td>35.632416</td>\n",
       "      <td>-138.786423</td>\n",
       "      <td>30.752140</td>\n",
       "      <td>3.750994</td>\n",
       "    </tr>\n",
       "    <tr>\n",
       "      <th>1</th>\n",
       "      <td>ID_-0.510_29.290_2019_01</td>\n",
       "      <td>-0.51</td>\n",
       "      <td>29.29</td>\n",
       "      <td>2019</td>\n",
       "      <td>1</td>\n",
       "      <td>0.000021</td>\n",
       "      <td>0.728214</td>\n",
       "      <td>0.000014</td>\n",
       "      <td>0.130988</td>\n",
       "      <td>16.592861</td>\n",
       "      <td>...</td>\n",
       "      <td>3651.190311</td>\n",
       "      <td>66969.478735</td>\n",
       "      <td>3174.572424</td>\n",
       "      <td>8.690601</td>\n",
       "      <td>0.256830</td>\n",
       "      <td>30.359375</td>\n",
       "      <td>39.557633</td>\n",
       "      <td>-145.183930</td>\n",
       "      <td>27.251779</td>\n",
       "      <td>4.025176</td>\n",
       "    </tr>\n",
       "    <tr>\n",
       "      <th>2</th>\n",
       "      <td>ID_-0.510_29.290_2019_02</td>\n",
       "      <td>-0.51</td>\n",
       "      <td>29.29</td>\n",
       "      <td>2019</td>\n",
       "      <td>2</td>\n",
       "      <td>0.000514</td>\n",
       "      <td>0.748199</td>\n",
       "      <td>0.000385</td>\n",
       "      <td>0.110018</td>\n",
       "      <td>72.795837</td>\n",
       "      <td>...</td>\n",
       "      <td>4216.986492</td>\n",
       "      <td>60068.894448</td>\n",
       "      <td>3516.282669</td>\n",
       "      <td>21.103410</td>\n",
       "      <td>0.251101</td>\n",
       "      <td>15.377883</td>\n",
       "      <td>30.401823</td>\n",
       "      <td>-142.519545</td>\n",
       "      <td>26.193296</td>\n",
       "      <td>4.231381</td>\n",
       "    </tr>\n",
       "    <tr>\n",
       "      <th>3</th>\n",
       "      <td>ID_-0.510_29.290_2019_03</td>\n",
       "      <td>-0.51</td>\n",
       "      <td>29.29</td>\n",
       "      <td>2019</td>\n",
       "      <td>3</td>\n",
       "      <td>NaN</td>\n",
       "      <td>NaN</td>\n",
       "      <td>NaN</td>\n",
       "      <td>NaN</td>\n",
       "      <td>NaN</td>\n",
       "      <td>...</td>\n",
       "      <td>5228.507736</td>\n",
       "      <td>51064.547339</td>\n",
       "      <td>4180.973322</td>\n",
       "      <td>15.386899</td>\n",
       "      <td>0.262043</td>\n",
       "      <td>-11.293399</td>\n",
       "      <td>24.380357</td>\n",
       "      <td>-132.665828</td>\n",
       "      <td>28.829155</td>\n",
       "      <td>4.305286</td>\n",
       "    </tr>\n",
       "    <tr>\n",
       "      <th>4</th>\n",
       "      <td>ID_-0.510_29.290_2019_04</td>\n",
       "      <td>-0.51</td>\n",
       "      <td>29.29</td>\n",
       "      <td>2019</td>\n",
       "      <td>4</td>\n",
       "      <td>-0.000079</td>\n",
       "      <td>0.676296</td>\n",
       "      <td>-0.000048</td>\n",
       "      <td>0.121164</td>\n",
       "      <td>4.121269</td>\n",
       "      <td>...</td>\n",
       "      <td>3980.598120</td>\n",
       "      <td>63751.125781</td>\n",
       "      <td>3355.710107</td>\n",
       "      <td>8.114694</td>\n",
       "      <td>0.235847</td>\n",
       "      <td>38.532263</td>\n",
       "      <td>37.392979</td>\n",
       "      <td>-141.509805</td>\n",
       "      <td>22.204612</td>\n",
       "      <td>4.347317</td>\n",
       "    </tr>\n",
       "  </tbody>\n",
       "</table>\n",
       "<p>5 rows × 76 columns</p>\n",
       "</div>"
      ],
      "text/plain": [
       "       ID_LAT_LON_YEAR_WEEK  latitude  longitude  year  week_no  \\\n",
       "0  ID_-0.510_29.290_2019_00     -0.51      29.29  2019        0   \n",
       "1  ID_-0.510_29.290_2019_01     -0.51      29.29  2019        1   \n",
       "2  ID_-0.510_29.290_2019_02     -0.51      29.29  2019        2   \n",
       "3  ID_-0.510_29.290_2019_03     -0.51      29.29  2019        3   \n",
       "4  ID_-0.510_29.290_2019_04     -0.51      29.29  2019        4   \n",
       "\n",
       "   SulphurDioxide_SO2_column_number_density  \\\n",
       "0                                 -0.000108   \n",
       "1                                  0.000021   \n",
       "2                                  0.000514   \n",
       "3                                       NaN   \n",
       "4                                 -0.000079   \n",
       "\n",
       "   SulphurDioxide_SO2_column_number_density_amf  \\\n",
       "0                                      0.603019   \n",
       "1                                      0.728214   \n",
       "2                                      0.748199   \n",
       "3                                           NaN   \n",
       "4                                      0.676296   \n",
       "\n",
       "   SulphurDioxide_SO2_slant_column_number_density  \\\n",
       "0                                       -0.000065   \n",
       "1                                        0.000014   \n",
       "2                                        0.000385   \n",
       "3                                             NaN   \n",
       "4                                       -0.000048   \n",
       "\n",
       "   SulphurDioxide_cloud_fraction  SulphurDioxide_sensor_azimuth_angle  ...  \\\n",
       "0                       0.255668                           -98.593887  ...   \n",
       "1                       0.130988                            16.592861  ...   \n",
       "2                       0.110018                            72.795837  ...   \n",
       "3                            NaN                                  NaN  ...   \n",
       "4                       0.121164                             4.121269  ...   \n",
       "\n",
       "   Cloud_cloud_top_height  Cloud_cloud_base_pressure  Cloud_cloud_base_height  \\\n",
       "0             3664.436218               61085.809570              2615.120483   \n",
       "1             3651.190311               66969.478735              3174.572424   \n",
       "2             4216.986492               60068.894448              3516.282669   \n",
       "3             5228.507736               51064.547339              4180.973322   \n",
       "4             3980.598120               63751.125781              3355.710107   \n",
       "\n",
       "   Cloud_cloud_optical_depth  Cloud_surface_albedo  \\\n",
       "0                  15.568533              0.272292   \n",
       "1                   8.690601              0.256830   \n",
       "2                  21.103410              0.251101   \n",
       "3                  15.386899              0.262043   \n",
       "4                   8.114694              0.235847   \n",
       "\n",
       "   Cloud_sensor_azimuth_angle  Cloud_sensor_zenith_angle  \\\n",
       "0                  -12.628986                  35.632416   \n",
       "1                   30.359375                  39.557633   \n",
       "2                   15.377883                  30.401823   \n",
       "3                  -11.293399                  24.380357   \n",
       "4                   38.532263                  37.392979   \n",
       "\n",
       "   Cloud_solar_azimuth_angle  Cloud_solar_zenith_angle  emission  \n",
       "0                -138.786423                 30.752140  3.750994  \n",
       "1                -145.183930                 27.251779  4.025176  \n",
       "2                -142.519545                 26.193296  4.231381  \n",
       "3                -132.665828                 28.829155  4.305286  \n",
       "4                -141.509805                 22.204612  4.347317  \n",
       "\n",
       "[5 rows x 76 columns]"
      ]
     },
     "execution_count": 3,
     "metadata": {},
     "output_type": "execute_result"
    }
   ],
   "source": [
    "# 데이터 일부 확인\n",
    "train.head()"
   ]
  },
  {
   "cell_type": "markdown",
   "metadata": {},
   "source": [
    "# 2. 결측값 처리"
   ]
  },
  {
   "cell_type": "markdown",
   "metadata": {},
   "source": [
    "결측값 비율이 높은 칼럼 삭제"
   ]
  },
  {
   "cell_type": "code",
   "execution_count": 3,
   "metadata": {},
   "outputs": [
    {
     "name": "stdout",
     "output_type": "stream",
     "text": [
      "삭제된 칼럼 개수: 19\n"
     ]
    }
   ],
   "source": [
    "train_deleted, deleted_columns = delete_columns(train, 0.2, target='emission')\n",
    "\n",
    "print(f'삭제된 칼럼 개수: {len(deleted_columns)}')"
   ]
  },
  {
   "cell_type": "code",
   "execution_count": 4,
   "metadata": {},
   "outputs": [],
   "source": [
    "# 테스트 데이터에도 적용\n",
    "test_deleted = test.drop(deleted_columns, axis=1)"
   ]
  },
  {
   "cell_type": "code",
   "execution_count": 5,
   "metadata": {},
   "outputs": [
    {
     "ename": "KeyboardInterrupt",
     "evalue": "",
     "output_type": "error",
     "traceback": [
      "\u001b[1;31m---------------------------------------------------------------------------\u001b[0m",
      "\u001b[1;31mKeyboardInterrupt\u001b[0m                         Traceback (most recent call last)",
      "Cell \u001b[1;32mIn[5], line 6\u001b[0m\n\u001b[0;32m      3\u001b[0m results \u001b[39m=\u001b[39m []\n\u001b[0;32m      5\u001b[0m \u001b[39mfor\u001b[39;00m name, data \u001b[39min\u001b[39;00m data_list:\n\u001b[1;32m----> 6\u001b[0m     score \u001b[39m=\u001b[39m score_dataset(data, \u001b[39m'\u001b[39;49m\u001b[39memission\u001b[39;49m\u001b[39m'\u001b[39;49m)\n\u001b[0;32m      7\u001b[0m     results\u001b[39m.\u001b[39mappend([name, score])\n\u001b[0;32m      9\u001b[0m results\n",
      "File \u001b[1;32mc:\\Users\\loven\\dev\\kaggle_competition\\carbon\\tools\\dataset.py:25\u001b[0m, in \u001b[0;36mscore_dataset\u001b[1;34m(df, target, numertic_only)\u001b[0m\n\u001b[0;32m     22\u001b[0m     \u001b[39mfor\u001b[39;00m colname \u001b[39min\u001b[39;00m X\u001b[39m.\u001b[39mselect_dtypes([\u001b[39m\"\u001b[39m\u001b[39mcategory\u001b[39m\u001b[39m\"\u001b[39m, \u001b[39m\"\u001b[39m\u001b[39mobject\u001b[39m\u001b[39m\"\u001b[39m]):\n\u001b[0;32m     23\u001b[0m         X[colname], _ \u001b[39m=\u001b[39m X[colname]\u001b[39m.\u001b[39mfactorize()\n\u001b[1;32m---> 25\u001b[0m score \u001b[39m=\u001b[39m cross_val_score(\n\u001b[0;32m     26\u001b[0m     model, X, y, cv\u001b[39m=\u001b[39;49m\u001b[39m3\u001b[39;49m, scoring\u001b[39m=\u001b[39;49m\u001b[39m\"\u001b[39;49m\u001b[39mneg_mean_absolute_error\u001b[39;49m\u001b[39m\"\u001b[39;49m,\n\u001b[0;32m     27\u001b[0m )\n\u001b[0;32m     29\u001b[0m score \u001b[39m=\u001b[39m \u001b[39m-\u001b[39m\u001b[39m1\u001b[39m \u001b[39m*\u001b[39m score\u001b[39m.\u001b[39mmean()\n\u001b[0;32m     30\u001b[0m score \u001b[39m=\u001b[39m np\u001b[39m.\u001b[39msqrt(score)\n",
      "File \u001b[1;32mc:\\Users\\loven\\dev\\kaggle_competition\\carbon\\carbon\\lib\\site-packages\\sklearn\\model_selection\\_validation.py:562\u001b[0m, in \u001b[0;36mcross_val_score\u001b[1;34m(estimator, X, y, groups, scoring, cv, n_jobs, verbose, fit_params, pre_dispatch, error_score)\u001b[0m\n\u001b[0;32m    559\u001b[0m \u001b[39m# To ensure multimetric format is not supported\u001b[39;00m\n\u001b[0;32m    560\u001b[0m scorer \u001b[39m=\u001b[39m check_scoring(estimator, scoring\u001b[39m=\u001b[39mscoring)\n\u001b[1;32m--> 562\u001b[0m cv_results \u001b[39m=\u001b[39m cross_validate(\n\u001b[0;32m    563\u001b[0m     estimator\u001b[39m=\u001b[39;49mestimator,\n\u001b[0;32m    564\u001b[0m     X\u001b[39m=\u001b[39;49mX,\n\u001b[0;32m    565\u001b[0m     y\u001b[39m=\u001b[39;49my,\n\u001b[0;32m    566\u001b[0m     groups\u001b[39m=\u001b[39;49mgroups,\n\u001b[0;32m    567\u001b[0m     scoring\u001b[39m=\u001b[39;49m{\u001b[39m\"\u001b[39;49m\u001b[39mscore\u001b[39;49m\u001b[39m\"\u001b[39;49m: scorer},\n\u001b[0;32m    568\u001b[0m     cv\u001b[39m=\u001b[39;49mcv,\n\u001b[0;32m    569\u001b[0m     n_jobs\u001b[39m=\u001b[39;49mn_jobs,\n\u001b[0;32m    570\u001b[0m     verbose\u001b[39m=\u001b[39;49mverbose,\n\u001b[0;32m    571\u001b[0m     fit_params\u001b[39m=\u001b[39;49mfit_params,\n\u001b[0;32m    572\u001b[0m     pre_dispatch\u001b[39m=\u001b[39;49mpre_dispatch,\n\u001b[0;32m    573\u001b[0m     error_score\u001b[39m=\u001b[39;49merror_score,\n\u001b[0;32m    574\u001b[0m )\n\u001b[0;32m    575\u001b[0m \u001b[39mreturn\u001b[39;00m cv_results[\u001b[39m\"\u001b[39m\u001b[39mtest_score\u001b[39m\u001b[39m\"\u001b[39m]\n",
      "File \u001b[1;32mc:\\Users\\loven\\dev\\kaggle_competition\\carbon\\carbon\\lib\\site-packages\\sklearn\\utils\\_param_validation.py:211\u001b[0m, in \u001b[0;36mvalidate_params.<locals>.decorator.<locals>.wrapper\u001b[1;34m(*args, **kwargs)\u001b[0m\n\u001b[0;32m    205\u001b[0m \u001b[39mtry\u001b[39;00m:\n\u001b[0;32m    206\u001b[0m     \u001b[39mwith\u001b[39;00m config_context(\n\u001b[0;32m    207\u001b[0m         skip_parameter_validation\u001b[39m=\u001b[39m(\n\u001b[0;32m    208\u001b[0m             prefer_skip_nested_validation \u001b[39mor\u001b[39;00m global_skip_validation\n\u001b[0;32m    209\u001b[0m         )\n\u001b[0;32m    210\u001b[0m     ):\n\u001b[1;32m--> 211\u001b[0m         \u001b[39mreturn\u001b[39;00m func(\u001b[39m*\u001b[39;49margs, \u001b[39m*\u001b[39;49m\u001b[39m*\u001b[39;49mkwargs)\n\u001b[0;32m    212\u001b[0m \u001b[39mexcept\u001b[39;00m InvalidParameterError \u001b[39mas\u001b[39;00m e:\n\u001b[0;32m    213\u001b[0m     \u001b[39m# When the function is just a wrapper around an estimator, we allow\u001b[39;00m\n\u001b[0;32m    214\u001b[0m     \u001b[39m# the function to delegate validation to the estimator, but we replace\u001b[39;00m\n\u001b[0;32m    215\u001b[0m     \u001b[39m# the name of the estimator by the name of the function in the error\u001b[39;00m\n\u001b[0;32m    216\u001b[0m     \u001b[39m# message to avoid confusion.\u001b[39;00m\n\u001b[0;32m    217\u001b[0m     msg \u001b[39m=\u001b[39m re\u001b[39m.\u001b[39msub(\n\u001b[0;32m    218\u001b[0m         \u001b[39mr\u001b[39m\u001b[39m\"\u001b[39m\u001b[39mparameter of \u001b[39m\u001b[39m\\\u001b[39m\u001b[39mw+ must be\u001b[39m\u001b[39m\"\u001b[39m,\n\u001b[0;32m    219\u001b[0m         \u001b[39mf\u001b[39m\u001b[39m\"\u001b[39m\u001b[39mparameter of \u001b[39m\u001b[39m{\u001b[39;00mfunc\u001b[39m.\u001b[39m\u001b[39m__qualname__\u001b[39m\u001b[39m}\u001b[39;00m\u001b[39m must be\u001b[39m\u001b[39m\"\u001b[39m,\n\u001b[0;32m    220\u001b[0m         \u001b[39mstr\u001b[39m(e),\n\u001b[0;32m    221\u001b[0m     )\n",
      "File \u001b[1;32mc:\\Users\\loven\\dev\\kaggle_competition\\carbon\\carbon\\lib\\site-packages\\sklearn\\model_selection\\_validation.py:309\u001b[0m, in \u001b[0;36mcross_validate\u001b[1;34m(estimator, X, y, groups, scoring, cv, n_jobs, verbose, fit_params, pre_dispatch, return_train_score, return_estimator, return_indices, error_score)\u001b[0m\n\u001b[0;32m    306\u001b[0m \u001b[39m# We clone the estimator to make sure that all the folds are\u001b[39;00m\n\u001b[0;32m    307\u001b[0m \u001b[39m# independent, and that it is pickle-able.\u001b[39;00m\n\u001b[0;32m    308\u001b[0m parallel \u001b[39m=\u001b[39m Parallel(n_jobs\u001b[39m=\u001b[39mn_jobs, verbose\u001b[39m=\u001b[39mverbose, pre_dispatch\u001b[39m=\u001b[39mpre_dispatch)\n\u001b[1;32m--> 309\u001b[0m results \u001b[39m=\u001b[39m parallel(\n\u001b[0;32m    310\u001b[0m     delayed(_fit_and_score)(\n\u001b[0;32m    311\u001b[0m         clone(estimator),\n\u001b[0;32m    312\u001b[0m         X,\n\u001b[0;32m    313\u001b[0m         y,\n\u001b[0;32m    314\u001b[0m         scorers,\n\u001b[0;32m    315\u001b[0m         train,\n\u001b[0;32m    316\u001b[0m         test,\n\u001b[0;32m    317\u001b[0m         verbose,\n\u001b[0;32m    318\u001b[0m         \u001b[39mNone\u001b[39;49;00m,\n\u001b[0;32m    319\u001b[0m         fit_params,\n\u001b[0;32m    320\u001b[0m         return_train_score\u001b[39m=\u001b[39;49mreturn_train_score,\n\u001b[0;32m    321\u001b[0m         return_times\u001b[39m=\u001b[39;49m\u001b[39mTrue\u001b[39;49;00m,\n\u001b[0;32m    322\u001b[0m         return_estimator\u001b[39m=\u001b[39;49mreturn_estimator,\n\u001b[0;32m    323\u001b[0m         error_score\u001b[39m=\u001b[39;49merror_score,\n\u001b[0;32m    324\u001b[0m     )\n\u001b[0;32m    325\u001b[0m     \u001b[39mfor\u001b[39;49;00m train, test \u001b[39min\u001b[39;49;00m indices\n\u001b[0;32m    326\u001b[0m )\n\u001b[0;32m    328\u001b[0m _warn_or_raise_about_fit_failures(results, error_score)\n\u001b[0;32m    330\u001b[0m \u001b[39m# For callable scoring, the return type is only know after calling. If the\u001b[39;00m\n\u001b[0;32m    331\u001b[0m \u001b[39m# return type is a dictionary, the error scores can now be inserted with\u001b[39;00m\n\u001b[0;32m    332\u001b[0m \u001b[39m# the correct key.\u001b[39;00m\n",
      "File \u001b[1;32mc:\\Users\\loven\\dev\\kaggle_competition\\carbon\\carbon\\lib\\site-packages\\sklearn\\utils\\parallel.py:65\u001b[0m, in \u001b[0;36mParallel.__call__\u001b[1;34m(self, iterable)\u001b[0m\n\u001b[0;32m     60\u001b[0m config \u001b[39m=\u001b[39m get_config()\n\u001b[0;32m     61\u001b[0m iterable_with_config \u001b[39m=\u001b[39m (\n\u001b[0;32m     62\u001b[0m     (_with_config(delayed_func, config), args, kwargs)\n\u001b[0;32m     63\u001b[0m     \u001b[39mfor\u001b[39;00m delayed_func, args, kwargs \u001b[39min\u001b[39;00m iterable\n\u001b[0;32m     64\u001b[0m )\n\u001b[1;32m---> 65\u001b[0m \u001b[39mreturn\u001b[39;00m \u001b[39msuper\u001b[39;49m()\u001b[39m.\u001b[39;49m\u001b[39m__call__\u001b[39;49m(iterable_with_config)\n",
      "File \u001b[1;32mc:\\Users\\loven\\dev\\kaggle_competition\\carbon\\carbon\\lib\\site-packages\\joblib\\parallel.py:1855\u001b[0m, in \u001b[0;36mParallel.__call__\u001b[1;34m(self, iterable)\u001b[0m\n\u001b[0;32m   1853\u001b[0m     output \u001b[39m=\u001b[39m \u001b[39mself\u001b[39m\u001b[39m.\u001b[39m_get_sequential_output(iterable)\n\u001b[0;32m   1854\u001b[0m     \u001b[39mnext\u001b[39m(output)\n\u001b[1;32m-> 1855\u001b[0m     \u001b[39mreturn\u001b[39;00m output \u001b[39mif\u001b[39;00m \u001b[39mself\u001b[39m\u001b[39m.\u001b[39mreturn_generator \u001b[39melse\u001b[39;00m \u001b[39mlist\u001b[39;49m(output)\n\u001b[0;32m   1857\u001b[0m \u001b[39m# Let's create an ID that uniquely identifies the current call. If the\u001b[39;00m\n\u001b[0;32m   1858\u001b[0m \u001b[39m# call is interrupted early and that the same instance is immediately\u001b[39;00m\n\u001b[0;32m   1859\u001b[0m \u001b[39m# re-used, this id will be used to prevent workers that were\u001b[39;00m\n\u001b[0;32m   1860\u001b[0m \u001b[39m# concurrently finalizing a task from the previous call to run the\u001b[39;00m\n\u001b[0;32m   1861\u001b[0m \u001b[39m# callback.\u001b[39;00m\n\u001b[0;32m   1862\u001b[0m \u001b[39mwith\u001b[39;00m \u001b[39mself\u001b[39m\u001b[39m.\u001b[39m_lock:\n",
      "File \u001b[1;32mc:\\Users\\loven\\dev\\kaggle_competition\\carbon\\carbon\\lib\\site-packages\\joblib\\parallel.py:1784\u001b[0m, in \u001b[0;36mParallel._get_sequential_output\u001b[1;34m(self, iterable)\u001b[0m\n\u001b[0;32m   1782\u001b[0m \u001b[39mself\u001b[39m\u001b[39m.\u001b[39mn_dispatched_batches \u001b[39m+\u001b[39m\u001b[39m=\u001b[39m \u001b[39m1\u001b[39m\n\u001b[0;32m   1783\u001b[0m \u001b[39mself\u001b[39m\u001b[39m.\u001b[39mn_dispatched_tasks \u001b[39m+\u001b[39m\u001b[39m=\u001b[39m \u001b[39m1\u001b[39m\n\u001b[1;32m-> 1784\u001b[0m res \u001b[39m=\u001b[39m func(\u001b[39m*\u001b[39;49margs, \u001b[39m*\u001b[39;49m\u001b[39m*\u001b[39;49mkwargs)\n\u001b[0;32m   1785\u001b[0m \u001b[39mself\u001b[39m\u001b[39m.\u001b[39mn_completed_tasks \u001b[39m+\u001b[39m\u001b[39m=\u001b[39m \u001b[39m1\u001b[39m\n\u001b[0;32m   1786\u001b[0m \u001b[39mself\u001b[39m\u001b[39m.\u001b[39mprint_progress()\n",
      "File \u001b[1;32mc:\\Users\\loven\\dev\\kaggle_competition\\carbon\\carbon\\lib\\site-packages\\sklearn\\utils\\parallel.py:127\u001b[0m, in \u001b[0;36m_FuncWrapper.__call__\u001b[1;34m(self, *args, **kwargs)\u001b[0m\n\u001b[0;32m    125\u001b[0m     config \u001b[39m=\u001b[39m {}\n\u001b[0;32m    126\u001b[0m \u001b[39mwith\u001b[39;00m config_context(\u001b[39m*\u001b[39m\u001b[39m*\u001b[39mconfig):\n\u001b[1;32m--> 127\u001b[0m     \u001b[39mreturn\u001b[39;00m \u001b[39mself\u001b[39;49m\u001b[39m.\u001b[39;49mfunction(\u001b[39m*\u001b[39;49margs, \u001b[39m*\u001b[39;49m\u001b[39m*\u001b[39;49mkwargs)\n",
      "File \u001b[1;32mc:\\Users\\loven\\dev\\kaggle_competition\\carbon\\carbon\\lib\\site-packages\\sklearn\\model_selection\\_validation.py:732\u001b[0m, in \u001b[0;36m_fit_and_score\u001b[1;34m(estimator, X, y, scorer, train, test, verbose, parameters, fit_params, return_train_score, return_parameters, return_n_test_samples, return_times, return_estimator, split_progress, candidate_progress, error_score)\u001b[0m\n\u001b[0;32m    730\u001b[0m         estimator\u001b[39m.\u001b[39mfit(X_train, \u001b[39m*\u001b[39m\u001b[39m*\u001b[39mfit_params)\n\u001b[0;32m    731\u001b[0m     \u001b[39melse\u001b[39;00m:\n\u001b[1;32m--> 732\u001b[0m         estimator\u001b[39m.\u001b[39;49mfit(X_train, y_train, \u001b[39m*\u001b[39;49m\u001b[39m*\u001b[39;49mfit_params)\n\u001b[0;32m    734\u001b[0m \u001b[39mexcept\u001b[39;00m \u001b[39mException\u001b[39;00m:\n\u001b[0;32m    735\u001b[0m     \u001b[39m# Note fit time as time until error\u001b[39;00m\n\u001b[0;32m    736\u001b[0m     fit_time \u001b[39m=\u001b[39m time\u001b[39m.\u001b[39mtime() \u001b[39m-\u001b[39m start_time\n",
      "File \u001b[1;32mc:\\Users\\loven\\dev\\kaggle_competition\\carbon\\carbon\\lib\\site-packages\\xgboost\\core.py:620\u001b[0m, in \u001b[0;36mrequire_keyword_args.<locals>.throw_if.<locals>.inner_f\u001b[1;34m(*args, **kwargs)\u001b[0m\n\u001b[0;32m    618\u001b[0m \u001b[39mfor\u001b[39;00m k, arg \u001b[39min\u001b[39;00m \u001b[39mzip\u001b[39m(sig\u001b[39m.\u001b[39mparameters, args):\n\u001b[0;32m    619\u001b[0m     kwargs[k] \u001b[39m=\u001b[39m arg\n\u001b[1;32m--> 620\u001b[0m \u001b[39mreturn\u001b[39;00m func(\u001b[39m*\u001b[39;49m\u001b[39m*\u001b[39;49mkwargs)\n",
      "File \u001b[1;32mc:\\Users\\loven\\dev\\kaggle_competition\\carbon\\carbon\\lib\\site-packages\\xgboost\\sklearn.py:1025\u001b[0m, in \u001b[0;36mXGBModel.fit\u001b[1;34m(self, X, y, sample_weight, base_margin, eval_set, eval_metric, early_stopping_rounds, verbose, xgb_model, sample_weight_eval_set, base_margin_eval_set, feature_weights, callbacks)\u001b[0m\n\u001b[0;32m   1014\u001b[0m     obj \u001b[39m=\u001b[39m \u001b[39mNone\u001b[39;00m\n\u001b[0;32m   1016\u001b[0m (\n\u001b[0;32m   1017\u001b[0m     model,\n\u001b[0;32m   1018\u001b[0m     metric,\n\u001b[1;32m   (...)\u001b[0m\n\u001b[0;32m   1023\u001b[0m     xgb_model, eval_metric, params, early_stopping_rounds, callbacks\n\u001b[0;32m   1024\u001b[0m )\n\u001b[1;32m-> 1025\u001b[0m \u001b[39mself\u001b[39m\u001b[39m.\u001b[39m_Booster \u001b[39m=\u001b[39m train(\n\u001b[0;32m   1026\u001b[0m     params,\n\u001b[0;32m   1027\u001b[0m     train_dmatrix,\n\u001b[0;32m   1028\u001b[0m     \u001b[39mself\u001b[39;49m\u001b[39m.\u001b[39;49mget_num_boosting_rounds(),\n\u001b[0;32m   1029\u001b[0m     evals\u001b[39m=\u001b[39;49mevals,\n\u001b[0;32m   1030\u001b[0m     early_stopping_rounds\u001b[39m=\u001b[39;49mearly_stopping_rounds,\n\u001b[0;32m   1031\u001b[0m     evals_result\u001b[39m=\u001b[39;49mevals_result,\n\u001b[0;32m   1032\u001b[0m     obj\u001b[39m=\u001b[39;49mobj,\n\u001b[0;32m   1033\u001b[0m     custom_metric\u001b[39m=\u001b[39;49mmetric,\n\u001b[0;32m   1034\u001b[0m     verbose_eval\u001b[39m=\u001b[39;49mverbose,\n\u001b[0;32m   1035\u001b[0m     xgb_model\u001b[39m=\u001b[39;49mmodel,\n\u001b[0;32m   1036\u001b[0m     callbacks\u001b[39m=\u001b[39;49mcallbacks,\n\u001b[0;32m   1037\u001b[0m )\n\u001b[0;32m   1039\u001b[0m \u001b[39mself\u001b[39m\u001b[39m.\u001b[39m_set_evaluation_result(evals_result)\n\u001b[0;32m   1040\u001b[0m \u001b[39mreturn\u001b[39;00m \u001b[39mself\u001b[39m\n",
      "File \u001b[1;32mc:\\Users\\loven\\dev\\kaggle_competition\\carbon\\carbon\\lib\\site-packages\\xgboost\\core.py:620\u001b[0m, in \u001b[0;36mrequire_keyword_args.<locals>.throw_if.<locals>.inner_f\u001b[1;34m(*args, **kwargs)\u001b[0m\n\u001b[0;32m    618\u001b[0m \u001b[39mfor\u001b[39;00m k, arg \u001b[39min\u001b[39;00m \u001b[39mzip\u001b[39m(sig\u001b[39m.\u001b[39mparameters, args):\n\u001b[0;32m    619\u001b[0m     kwargs[k] \u001b[39m=\u001b[39m arg\n\u001b[1;32m--> 620\u001b[0m \u001b[39mreturn\u001b[39;00m func(\u001b[39m*\u001b[39;49m\u001b[39m*\u001b[39;49mkwargs)\n",
      "File \u001b[1;32mc:\\Users\\loven\\dev\\kaggle_competition\\carbon\\carbon\\lib\\site-packages\\xgboost\\training.py:185\u001b[0m, in \u001b[0;36mtrain\u001b[1;34m(params, dtrain, num_boost_round, evals, obj, feval, maximize, early_stopping_rounds, evals_result, verbose_eval, xgb_model, callbacks, custom_metric)\u001b[0m\n\u001b[0;32m    183\u001b[0m \u001b[39mif\u001b[39;00m cb_container\u001b[39m.\u001b[39mbefore_iteration(bst, i, dtrain, evals):\n\u001b[0;32m    184\u001b[0m     \u001b[39mbreak\u001b[39;00m\n\u001b[1;32m--> 185\u001b[0m bst\u001b[39m.\u001b[39;49mupdate(dtrain, i, obj)\n\u001b[0;32m    186\u001b[0m \u001b[39mif\u001b[39;00m cb_container\u001b[39m.\u001b[39mafter_iteration(bst, i, dtrain, evals):\n\u001b[0;32m    187\u001b[0m     \u001b[39mbreak\u001b[39;00m\n",
      "File \u001b[1;32mc:\\Users\\loven\\dev\\kaggle_competition\\carbon\\carbon\\lib\\site-packages\\xgboost\\core.py:1918\u001b[0m, in \u001b[0;36mBooster.update\u001b[1;34m(self, dtrain, iteration, fobj)\u001b[0m\n\u001b[0;32m   1915\u001b[0m \u001b[39mself\u001b[39m\u001b[39m.\u001b[39m_validate_dmatrix_features(dtrain)\n\u001b[0;32m   1917\u001b[0m \u001b[39mif\u001b[39;00m fobj \u001b[39mis\u001b[39;00m \u001b[39mNone\u001b[39;00m:\n\u001b[1;32m-> 1918\u001b[0m     _check_call(_LIB\u001b[39m.\u001b[39;49mXGBoosterUpdateOneIter(\u001b[39mself\u001b[39;49m\u001b[39m.\u001b[39;49mhandle,\n\u001b[0;32m   1919\u001b[0m                                             ctypes\u001b[39m.\u001b[39;49mc_int(iteration),\n\u001b[0;32m   1920\u001b[0m                                             dtrain\u001b[39m.\u001b[39;49mhandle))\n\u001b[0;32m   1921\u001b[0m \u001b[39melse\u001b[39;00m:\n\u001b[0;32m   1922\u001b[0m     pred \u001b[39m=\u001b[39m \u001b[39mself\u001b[39m\u001b[39m.\u001b[39mpredict(dtrain, output_margin\u001b[39m=\u001b[39m\u001b[39mTrue\u001b[39;00m, training\u001b[39m=\u001b[39m\u001b[39mTrue\u001b[39;00m)\n",
      "\u001b[1;31mKeyboardInterrupt\u001b[0m: "
     ]
    }
   ],
   "source": [
    "# 결측값 제거 결과\n",
    "data_list = [['train', train], ['train_deleted', train_deleted]]\n",
    "results = []\n",
    "\n",
    "for name, data in data_list:\n",
    "    score = score_dataset(data, 'emission')\n",
    "    results.append([name, score])\n",
    "\n",
    "results"
   ]
  },
  {
   "cell_type": "markdown",
   "metadata": {},
   "source": [
    "칼럼을 삭제한 데이터셋의 스코어가 더 좋다."
   ]
  },
  {
   "cell_type": "markdown",
   "metadata": {},
   "source": [
    "가장 이상적인 결측값 대체법 찾기 "
   ]
  },
  {
   "cell_type": "code",
   "execution_count": 7,
   "metadata": {},
   "outputs": [
    {
     "ename": "AttributeError",
     "evalue": "'tuple' object has no attribute 'drop'",
     "output_type": "error",
     "traceback": [
      "\u001b[1;31m---------------------------------------------------------------------------\u001b[0m",
      "\u001b[1;31mAttributeError\u001b[0m                            Traceback (most recent call last)",
      "Cell \u001b[1;32mIn[7], line 6\u001b[0m\n\u001b[0;32m      4\u001b[0m \u001b[39mfor\u001b[39;00m method \u001b[39min\u001b[39;00m methods:\n\u001b[0;32m      5\u001b[0m     train_imputed \u001b[39m=\u001b[39m impute(train_deleted, method)\n\u001b[1;32m----> 6\u001b[0m     score \u001b[39m=\u001b[39m score_dataset(train_imputed, \u001b[39m'\u001b[39;49m\u001b[39memission\u001b[39;49m\u001b[39m'\u001b[39;49m)\n\u001b[0;32m      7\u001b[0m     results\u001b[39m.\u001b[39mappend([method, score])\n\u001b[0;32m      8\u001b[0m     \u001b[39mprint\u001b[39m(\u001b[39mf\u001b[39m\u001b[39m'\u001b[39m\u001b[39mmethod \u001b[39m\u001b[39m\"\u001b[39m\u001b[39m{\u001b[39;00mmethod\u001b[39m}\u001b[39;00m\u001b[39m\"\u001b[39m\u001b[39m 계산 완료\u001b[39m\u001b[39m'\u001b[39m)\n",
      "File \u001b[1;32mc:\\Users\\loven\\dev\\kaggle_competition\\carbon\\tools\\dataset.py:8\u001b[0m, in \u001b[0;36mscore_dataset\u001b[1;34m(df, target, numertic_only)\u001b[0m\n\u001b[0;32m      7\u001b[0m \u001b[39mdef\u001b[39;00m \u001b[39mscore_dataset\u001b[39m(df, target, numertic_only\u001b[39m=\u001b[39m\u001b[39mTrue\u001b[39;00m):\n\u001b[1;32m----> 8\u001b[0m     X \u001b[39m=\u001b[39m df\u001b[39m.\u001b[39;49mdrop(target, axis\u001b[39m=\u001b[39m\u001b[39m1\u001b[39m)\n\u001b[0;32m      9\u001b[0m     y \u001b[39m=\u001b[39m df[target]\n\u001b[0;32m     11\u001b[0m     model \u001b[39m=\u001b[39m XGBRegressor(\n\u001b[0;32m     12\u001b[0m         max_depth\u001b[39m=\u001b[39m\u001b[39m5\u001b[39m,\n\u001b[0;32m     13\u001b[0m         n_estimators\u001b[39m=\u001b[39m\u001b[39m100\u001b[39m,\n\u001b[0;32m     14\u001b[0m         eval_metric\u001b[39m=\u001b[39m\u001b[39m'\u001b[39m\u001b[39mrmsle\u001b[39m\u001b[39m'\u001b[39m,\n\u001b[0;32m     15\u001b[0m         random_state\u001b[39m=\u001b[39m\u001b[39m1\u001b[39m\n\u001b[0;32m     16\u001b[0m     )\n",
      "\u001b[1;31mAttributeError\u001b[0m: 'tuple' object has no attribute 'drop'"
     ]
    }
   ],
   "source": [
    "methods = ['mean', 'median', 'linear']\n",
    "results = []\n",
    "\n",
    "for method in methods:\n",
    "    train_imputed = impute_missing_values(train_deleted, method)\n",
    "    score = score_dataset(train_imputed, 'emission')\n",
    "    results.append([method, score])\n",
    "    print(f'method \"{method}\" 계산 완료')\n",
    "\n",
    "results"
   ]
  },
  {
   "cell_type": "markdown",
   "metadata": {},
   "source": [
    "'mean'으로 대체할 때 가장 좋은 score 기록"
   ]
  },
  {
   "cell_type": "code",
   "execution_count": 5,
   "metadata": {},
   "outputs": [],
   "source": [
    "train_imputed, tool = impute_missing_values(train_deleted, 'mean')\n",
    "\n",
    "test_imputed = test_deleted.fillna(tool)"
   ]
  },
  {
   "cell_type": "code",
   "execution_count": 23,
   "metadata": {},
   "outputs": [
    {
     "data": {
      "text/plain": [
       "8.75663387517149"
      ]
     },
     "execution_count": 23,
     "metadata": {},
     "output_type": "execute_result"
    }
   ],
   "source": [
    "score_dataset(train_imputed, 'emission')"
   ]
  },
  {
   "cell_type": "markdown",
   "metadata": {},
   "source": [
    "# 3. 이상치 처리"
   ]
  },
  {
   "cell_type": "markdown",
   "metadata": {},
   "source": [
    "numeric 칼럼에 대해 이상치 처리"
   ]
  },
  {
   "cell_type": "code",
   "execution_count": 6,
   "metadata": {},
   "outputs": [
    {
     "data": {
      "text/plain": [
       "['latitude',\n",
       " 'longitude',\n",
       " 'year',\n",
       " 'week_no',\n",
       " 'SulphurDioxide_SO2_column_number_density',\n",
       " 'SulphurDioxide_SO2_column_number_density_amf',\n",
       " 'SulphurDioxide_SO2_slant_column_number_density',\n",
       " 'SulphurDioxide_cloud_fraction',\n",
       " 'SulphurDioxide_sensor_azimuth_angle',\n",
       " 'SulphurDioxide_sensor_zenith_angle']"
      ]
     },
     "execution_count": 6,
     "metadata": {},
     "output_type": "execute_result"
    }
   ],
   "source": [
    "outliers_columns = list(train_imputed.select_dtypes(exclude=['O']).columns)\n",
    "outliers_columns.remove('emission')\n",
    "outliers_columns[:10]"
   ]
  },
  {
   "cell_type": "markdown",
   "metadata": {},
   "source": [
    "이상치 기준이 되는 상한, 하한 구하기"
   ]
  },
  {
   "cell_type": "code",
   "execution_count": 7,
   "metadata": {},
   "outputs": [
    {
     "data": {
      "text/plain": [
       "dict_items([('latitude', [0.41900000000000026, -4.173]), ('longitude', [32.2845, 27.448500000000003]), ('year', [2024.0, 2016.0]), ('week_no', [78.0, -26.0]), ('SulphurDioxide_SO2_column_number_density', [0.0003911345979763542, -0.00033896669728099033]), ('SulphurDioxide_SO2_column_number_density_amf', [1.1669939597287828, 0.4693074770428757]), ('SulphurDioxide_SO2_slant_column_number_density', [0.00031344770484945946, -0.0002734028406228577]), ('SulphurDioxide_cloud_fraction', [0.3137327257603556, 0.009091709129575035]), ('SulphurDioxide_sensor_azimuth_angle', [140.1330893219491, -150.97045989778013]), ('SulphurDioxide_sensor_zenith_angle', [65.45264699107074, 10.663640519012876]), ('SulphurDioxide_solar_azimuth_angle', [43.523391257981416, -208.53374808358552]), ('SulphurDioxide_solar_zenith_angle', [40.21798721033717, 15.809738889080622]), ('SulphurDioxide_SO2_column_number_density_15km', [0.0001327659731399024, -0.00011663270986185858]), ('CarbonMonoxide_CO_column_number_density', [0.045953644880869234, 0.019089383959146618]), ('CarbonMonoxide_H2O_column_number_density', [3456.9707457036984, 660.0486086659146]), ('CarbonMonoxide_cloud_height', [4895.229842598959, 777.53339326789]), ('CarbonMonoxide_sensor_altitude', [830406.1480165408, 829472.6679482954]), ('CarbonMonoxide_sensor_azimuth_angle', [108.45839024997909, -129.78895318105648]), ('CarbonMonoxide_sensor_zenith_angle', [62.9626626199624, 13.09421590479911]), ('CarbonMonoxide_solar_azimuth_angle', [65.46441334532443, -237.7809929457813]), ('CarbonMonoxide_solar_zenith_angle', [42.3793148815829, 13.526484787212114]), ('Formaldehyde_tropospheric_HCHO_column_number_density', [0.00031370085162644594, -6.422220373474328e-05]), ('Formaldehyde_tropospheric_HCHO_column_number_density_amf', [1.863454775535122, 0.6004249190279605]), ('Formaldehyde_HCHO_slant_column_number_density', [0.0002871783667115601, -0.00011813970376646687]), ('Formaldehyde_cloud_fraction', [0.4697284217915495, -0.013830303523332171]), ('Formaldehyde_solar_zenith_angle', [42.47070956967656, 13.782898561269665]), ('Formaldehyde_solar_azimuth_angle', [57.624096121295054, -227.25179000218685]), ('Formaldehyde_sensor_zenith_angle', [70.15382321016676, 12.060362297020227]), ('Formaldehyde_sensor_azimuth_angle', [137.45357262569954, -149.7506347863572]), ('UvAerosolIndex_absorbing_aerosol_index', [-0.15982501084001233, -2.526509468657225]), ('UvAerosolIndex_sensor_altitude', [830372.1293367194, 829572.2542303824]), ('UvAerosolIndex_sensor_azimuth_angle', [38.56487017270769, -64.13650886587851]), ('UvAerosolIndex_sensor_zenith_angle', [56.11245116870805, 23.201869546819264]), ('UvAerosolIndex_solar_azimuth_angle', [67.55633099771498, -241.13250056673135]), ('UvAerosolIndex_solar_zenith_angle', [41.657885894991736, 14.738478722155161]), ('Ozone_O3_column_number_density', [0.1251114476730637, 0.11025172896502435]), ('Ozone_O3_column_number_density_amf', [2.945358648686392, 2.267015162739399]), ('Ozone_O3_slant_column_number_density', [0.355383548173029, 0.26499546456909795]), ('Ozone_O3_effective_temperature', [234.95068847088885, 222.53724474020783]), ('Ozone_cloud_fraction', [1.1228313290497807, 0.023656300475652037]), ('Ozone_sensor_azimuth_angle', [38.585994762193685, -64.19585502723064]), ('Ozone_sensor_zenith_angle', [55.11152272654111, 23.70158922201402]), ('Ozone_solar_azimuth_angle', [67.22814503959398, -240.82309771261544]), ('Ozone_solar_zenith_angle', [41.65923412829627, 14.820005244721651]), ('Cloud_cloud_fraction', [1.1635425046538923, 0.04312186790957934]), ('Cloud_cloud_top_pressure', [76263.66725882023, 29628.68287120433]), ('Cloud_cloud_top_height', [9432.01137234144, 1706.1735490433066]), ('Cloud_cloud_base_pressure', [84203.30763906548, 34628.4037015917]), ('Cloud_cloud_base_height', [8383.460767592369, 870.9468848668089]), ('Cloud_cloud_optical_depth', [44.25763815370888, -10.541029507303401]), ('Cloud_surface_albedo', [0.3941392741875344, 0.15023475307937678]), ('Cloud_sensor_azimuth_angle', [68.54124394512007, -89.56698543314029]), ('Cloud_sensor_zenith_angle', [57.283324102638474, 22.990948120509]), ('Cloud_solar_azimuth_angle', [68.02362544179556, -242.12999217737234]), ('Cloud_solar_zenith_angle', [41.63331882886428, 14.562147703208872])])"
      ]
     },
     "execution_count": 7,
     "metadata": {},
     "output_type": "execute_result"
    }
   ],
   "source": [
    "limits = get_limits(train_imputed, outliers_columns)\n",
    "limits.items()"
   ]
  },
  {
   "cell_type": "code",
   "execution_count": 8,
   "metadata": {},
   "outputs": [
    {
     "name": "stdout",
     "output_type": "stream",
     "text": [
      "Index([], dtype='int64')\n",
      "Index([], dtype='int64')\n",
      "Index([], dtype='int64')\n",
      "Index([], dtype='int64')\n",
      "Index([    2,    21,    51,    55,    56,    67,    68,    81,    83,    86,\n",
      "       ...\n",
      "       78894, 78911, 78915, 78941, 78942, 78949, 78985, 78992, 79001, 79003],\n",
      "      dtype='int64', length=6857)\n",
      "Index([   48,   102,   158,   415,   454,   511,   570,   579,   597,   655,\n",
      "       ...\n",
      "       78937, 78983, 78986, 78987, 78988, 78989, 78990, 79015, 79016, 79018],\n",
      "      dtype='int64', length=3799)\n",
      "Index([    2,    21,    32,    51,    56,    67,    81,    83,    99,   102,\n",
      "       ...\n",
      "       78894, 78907, 78915, 78941, 78942, 78949, 78985, 78991, 78992, 79018],\n",
      "      dtype='int64', length=6016)\n",
      "Index([   14,   114,   116,   147,   148,   149,   228,   257,   272,   280,\n",
      "       ...\n",
      "       78823, 78835, 78857, 78858, 78882, 78915, 78952, 78964, 78997, 79022],\n",
      "      dtype='int64', length=2344)\n",
      "Index([27072], dtype='int64')\n",
      "Index([   45,    47,    57,    81,   130,   157,   204,   257,   365,   414,\n",
      "       ...\n",
      "       78698, 78727, 78857, 78902, 78964, 78985, 79002, 79003, 79017, 79022],\n",
      "      dtype='int64', length=3118)\n",
      "Index([], dtype='int64')\n",
      "Index([    6,    10,   116,   169,   512,   593,   621,   646,   699,   751,\n",
      "       ...\n",
      "       78624, 78661, 78662, 78665, 78820, 78821, 78824, 78875, 78940, 78978],\n",
      "      dtype='int64', length=1576)\n",
      "Index([    2,    32,    51,    56,    67,    81,    99,   124,   131,   135,\n",
      "       ...\n",
      "       78856, 78870, 78894, 78915, 78941, 78942, 78949, 78985, 78991, 78992],\n",
      "      dtype='int64', length=5993)\n",
      "Index([   56,    85,   112,   162,   164,   168,   188,   189,   192,   215,\n",
      "       ...\n",
      "       78687, 78730, 78767, 78790, 78794, 78817, 78843, 78846, 78949, 79002],\n",
      "      dtype='int64', length=3380)\n",
      "Index([   12,    21,    47,    56,    81,   169,   179,   193,   197,   202,\n",
      "       ...\n",
      "       78716, 78717, 78801, 78867, 78871, 78884, 78906, 78932, 78977, 78985],\n",
      "      dtype='int64', length=2386)\n",
      "Index([  150,   206,   298,   326,   404,   411,   460,   469,   629,   903,\n",
      "       ...\n",
      "       78101, 78152, 78361, 78464, 78467, 78503, 78527, 78679, 78997, 79000],\n",
      "      dtype='int64', length=760)\n",
      "Index([    6,    70,   267,   360,   420,   517,   572,   573,   602,   618,\n",
      "       ...\n",
      "       78377, 78577, 78580, 78610, 78736, 78739, 78769, 78860, 78970, 79012],\n",
      "      dtype='int64', length=531)\n",
      "Index([], dtype='int64')\n",
      "Index([   47,    70,   186,   204,   206,   240,   251,   259,   267,   302,\n",
      "       ...\n",
      "       78396, 78484, 78536, 78549, 78698, 78857, 78859, 78909, 78911, 78970],\n",
      "      dtype='int64', length=1642)\n",
      "Index([], dtype='int64')\n",
      "Index([ 2714,  3140,  3243,  3720,  5572,  6741,  6900,  7483,  8228,  9074,\n",
      "       ...\n",
      "       71824, 72567, 72885, 72937, 73415, 74001, 76009, 77496, 77986, 78503],\n",
      "      dtype='int64', length=109)\n",
      "Index([   14,    16,   113,   159,   210,   238,   288,   289,   295,   357,\n",
      "       ...\n",
      "       78757, 78796, 78838, 78846, 78966, 78981, 78985, 79016, 79020, 79022],\n",
      "      dtype='int64', length=3110)\n",
      "Index([   48,   422,   511,   579,   645,   658,   677,   684,   689,   693,\n",
      "       ...\n",
      "       78617, 78658, 78828, 78863, 78922, 78925, 78927, 78936, 78976, 78989],\n",
      "      dtype='int64', length=2154)\n",
      "Index([   57,   102,   113,   210,   288,   420,   422,   429,   447,   520,\n",
      "       ...\n",
      "       78766, 78796, 78801, 78925, 78966, 78985, 79002, 79016, 79020, 79022],\n",
      "      dtype='int64', length=3299)\n",
      "Index([ 1361,  1563,  1572,  1722,  1897,  2162,  2629,  3119,  3120,  3267,\n",
      "       ...\n",
      "       76733, 76952, 76962, 77110, 77264, 77883, 78297, 78469, 78640, 78799],\n",
      "      dtype='int64', length=492)\n",
      "Index([  621,   914,  1176,  1391,  1550,  1575,  1919,  2395,  2714,  3402,\n",
      "       ...\n",
      "       77334, 77496, 77549, 77867, 77986, 78028, 78132, 78450, 78499, 78502],\n",
      "      dtype='int64', length=510)\n",
      "Index([], dtype='int64')\n",
      "Index([   45,    47,    57,   157,   204,   206,   240,   365,   414,   467,\n",
      "       ...\n",
      "       78396, 78514, 78517, 78536, 78650, 78698, 78803, 78857, 79002, 79022],\n",
      "      dtype='int64', length=1698)\n",
      "Index([], dtype='int64')\n",
      "Index([   91,   104,   246,   250,   445,   543,  2824,  2830,  2949,  2964,\n",
      "       ...\n",
      "       77568, 77578, 78204, 78214, 78373, 78417, 78502, 78652, 78917, 79009],\n",
      "      dtype='int64', length=597)\n",
      "Index([ 2585,  3221,  3922,  6784,  7037,  9169, 11395, 12508, 14893, 15370,\n",
      "       ...\n",
      "       78259, 78334, 78486, 78493, 78577, 78652, 78736, 78811, 78895, 78970],\n",
      "      dtype='int64', length=172)\n",
      "Index([   41,    72,    91,   106,   131,   231,   250,   265,   290,   291,\n",
      "       ...\n",
      "       78887, 78894, 78895, 78909, 78919, 78951, 78970, 78985, 79009, 79016],\n",
      "      dtype='int64', length=3048)\n",
      "Index([   16,   106,   265,   290,   350,   390,   424,   449,   583,   742,\n",
      "       ...\n",
      "       78536, 78591, 78652, 78698, 78750, 78811, 78857, 78909, 78970, 78997],\n",
      "      dtype='int64', length=1025)\n",
      "Index([], dtype='int64')\n",
      "Index([], dtype='int64')\n",
      "Index([   49,    52,    53,    55,   211,   316,   370,   526,   529,   586,\n",
      "       ...\n",
      "       78282, 78324, 78439, 78597, 78598, 78756, 78757, 78814, 78916, 78973],\n",
      "      dtype='int64', length=1759)\n",
      "Index([   16,    30,   106,   265,   327,   350,   424,   583,   666,   677,\n",
      "       ...\n",
      "       78417, 78486, 78493, 78504, 78531, 78652, 78793, 78811, 78870, 78970],\n",
      "      dtype='int64', length=956)\n",
      "Index([   30,   106,   231,   265,   390,   424,   583,   666,   677,   742,\n",
      "       ...\n",
      "       78202, 78213, 78305, 78334, 78417, 78493, 78531, 78652, 78811, 78970],\n",
      "      dtype='int64', length=919)\n",
      "Index([  105,   210,   231,   233,   265,   392,   473,   513,   583,   586,\n",
      "       ...\n",
      "       78651, 78652, 78810, 78811, 78900, 78918, 78969, 78970, 78974, 78997],\n",
      "      dtype='int64', length=932)\n",
      "Index([ 9774, 19154, 23448, 24545, 30509, 31557, 32352, 33208, 33685, 36388,\n",
      "       40367, 41096, 41097, 44501, 44754, 44819, 44913, 46409, 47775, 49841,\n",
      "       49842, 50796, 53976, 54836, 60929, 61559, 62721, 63516, 67173, 70512,\n",
      "       70671],\n",
      "      dtype='int64')\n",
      "Index([   41,    72,    91,   106,   131,   231,   250,   265,   290,   291,\n",
      "       ...\n",
      "       78887, 78894, 78895, 78909, 78919, 78951, 78970, 78985, 79009, 79016],\n",
      "      dtype='int64', length=2940)\n",
      "Index([   16,   106,   265,   290,   350,   390,   424,   449,   583,   742,\n",
      "       ...\n",
      "       78591, 78652, 78698, 78750, 78811, 78828, 78857, 78909, 78970, 78997],\n",
      "      dtype='int64', length=1145)\n",
      "Index([], dtype='int64')\n",
      "Index([], dtype='int64')\n",
      "Index([ 8749, 24490, 30509, 31557, 35143, 40390, 44432, 44501, 49453, 53428,\n",
      "       55018, 58834, 62721, 71602],\n",
      "      dtype='int64')\n",
      "Index([   52,   183,   184,   211,   310,   342,   343,   350,   395,   424,\n",
      "       ...\n",
      "       77934, 78093, 78252, 78439, 78623, 78729, 78780, 78782, 78888, 78941],\n",
      "      dtype='int64', length=658)\n",
      "Index([  145,   204,   222,   225,   265,   337,   339,   350,   405,   424,\n",
      "       ...\n",
      "       76485, 76802, 76850, 76872, 78031, 78182, 78295, 78593, 78852, 78888],\n",
      "      dtype='int64', length=501)\n",
      "Index([  204,   225,   310,   343,   350,   424,   431,   638,   816,   839,\n",
      "       ...\n",
      "       75517, 75536, 75843, 76193, 76802, 76850, 76979, 76988, 77762, 78888],\n",
      "      dtype='int64', length=269)\n",
      "Index([  145,   204,   222,   225,   265,   337,   339,   405,   424,   431,\n",
      "       ...\n",
      "       75412, 75433, 75517, 76802, 77812, 78031, 78182, 78295, 78593, 78852],\n",
      "      dtype='int64', length=459)\n",
      "Index([   55,   139,   173,   216,   292,   349,   368,   416,   423,   465,\n",
      "       ...\n",
      "       78766, 78804, 78811, 78852, 78910, 78911, 78916, 78919, 78921, 78953],\n",
      "      dtype='int64', length=4678)\n",
      "Index([   43,   399,   400,   437,   446,   495,   574,   575,   576,   579,\n",
      "       ...\n",
      "       74623, 75259, 75790, 76529, 76869, 77296, 77341, 78280, 78366, 78916],\n",
      "      dtype='int64', length=1618)\n",
      "Index([   44,    50,    52,    91,   104,   121,   140,   219,   250,   264,\n",
      "       ...\n",
      "       78400, 78423, 78470, 78527, 78551, 78720, 78758, 78916, 78997, 79000],\n",
      "      dtype='int64', length=1461)\n",
      "Index([   52,   106,   181,   211,   231,   251,   265,   288,   294,   370,\n",
      "       ...\n",
      "       78493, 78504, 78652, 78698, 78750, 78811, 78909, 78916, 78970, 78999],\n",
      "      dtype='int64', length=1410)\n",
      "Index([], dtype='int64')\n",
      "Index([ 1176,  6055, 17712, 22748, 24390, 24708, 25185, 35838, 42837, 43470,\n",
      "       48558, 49035, 49841, 50307, 52215, 57939, 66048, 68115, 73680, 73998,\n",
      "       75429, 77496],\n",
      "      dtype='int64')\n"
     ]
    }
   ],
   "source": [
    "train_outliers_deleted, deleted_indices = delete_outliers(train_imputed, outliers_columns, limits)\n",
    "train_impute_outliers = impute_outliers(train_imputed, outliers_columns, limits)"
   ]
  },
  {
   "cell_type": "code",
   "execution_count": 12,
   "metadata": {},
   "outputs": [
    {
     "data": {
      "text/plain": [
       "43388"
      ]
     },
     "execution_count": 12,
     "metadata": {},
     "output_type": "execute_result"
    }
   ],
   "source": [
    "# 삭제된 행의 개수\n",
    "len(train_outliers_deleted)"
   ]
  },
  {
   "cell_type": "markdown",
   "metadata": {},
   "source": [
    "이상치 처리 비교(이상치 처리 전: 8.75663387517149)"
   ]
  },
  {
   "cell_type": "code",
   "execution_count": 15,
   "metadata": {},
   "outputs": [
    {
     "data": {
      "text/plain": [
       "[['deleted', 8.49429524751788], ['imputed', 8.7388773949861]]"
      ]
     },
     "execution_count": 15,
     "metadata": {},
     "output_type": "execute_result"
    }
   ],
   "source": [
    "outliers_dfs = [['deleted', train_outliers_deleted], ['imputed', train_impute_outliers]]\n",
    "results = []\n",
    "\n",
    "for name, outliers_df in outliers_dfs:\n",
    "    score = score_dataset(outliers_df, 'emission')\n",
    "    results.append([name, score])\n",
    "\n",
    "results"
   ]
  },
  {
   "cell_type": "markdown",
   "metadata": {},
   "source": [
    "이상치가 있는 행을 제거했을 때가 가장 이상적인 score 기록"
   ]
  },
  {
   "cell_type": "code",
   "execution_count": 16,
   "metadata": {},
   "outputs": [
    {
     "name": "stdout",
     "output_type": "stream",
     "text": [
      "Index([], dtype='int64')\n",
      "Index([], dtype='int64')\n",
      "Index([], dtype='int64')\n",
      "Index([], dtype='int64')\n",
      "Index([    1,    12,    21,    22,    30,    41,    51,    56,    61,    79,\n",
      "       ...\n",
      "       24239, 24267, 24285, 24290, 24299, 24307, 24329, 24337, 24347, 24348],\n",
      "      dtype='int64', length=1839)\n",
      "Index([   16,    30,   116,   168,   215,   310,   315,   330,   332,   405,\n",
      "       ...\n",
      "       24150, 24161, 24176, 24207, 24225, 24231, 24253, 24264, 24305, 24323],\n",
      "      dtype='int64', length=749)\n",
      "Index([    1,    12,    21,    22,    41,    56,    61,    79,   105,   144,\n",
      "       ...\n",
      "       24180, 24207, 24210, 24212, 24223, 24228, 24267, 24290, 24299, 24348],\n",
      "      dtype='int64', length=1397)\n",
      "Index([    1,    12,    39,    42,    54,    60,    61,    82,    88,    91,\n",
      "       ...\n",
      "       24012, 24013, 24076, 24100, 24111, 24145, 24168, 24199, 24210, 24267],\n",
      "      dtype='int64', length=1265)\n",
      "Index([3852], dtype='int64')\n",
      "Index([   17,   131,   164,   168,   180,   201,   218,   262,   315,   317,\n",
      "       ...\n",
      "       24131, 24179, 24190, 24199, 24207, 24225, 24248, 24272, 24297, 24306],\n",
      "      dtype='int64', length=1060)\n",
      "Index([], dtype='int64')\n",
      "Index([   11,    12,    60,    61,   109,   207,   208,   282,   303,   355,\n",
      "       ...\n",
      "       24021, 24022, 24070, 24071, 24120, 24168, 24169, 24217, 24313, 24316],\n",
      "      dtype='int64', length=898)\n",
      "Index([    1,    12,    16,    17,    21,    22,    41,    56,    57,    61,\n",
      "       ...\n",
      "       24210, 24223, 24228, 24239, 24267, 24290, 24307, 24329, 24337, 24348],\n",
      "      dtype='int64', length=1515)\n",
      "Index([   55,    56,    57,    77,    78,   104,   105,   125,   126,   127,\n",
      "       ...\n",
      "       23896, 23920, 23967, 23969, 23994, 24067, 24164, 24165, 24262, 24263],\n",
      "      dtype='int64', length=939)\n",
      "Index([   11,    60,    68,    86,   109,   117,   133,   137,   143,   154,\n",
      "       ...\n",
      "       23681, 23684, 23685, 23722, 23724, 23788, 23792, 23807, 23957, 24133],\n",
      "      dtype='int64', length=321)\n",
      "Index([   57,    58,    71,    76,   124,   125,   381,   391,   472,   654,\n",
      "       ...\n",
      "       24091, 24093, 24135, 24140, 24142, 24165, 24233, 24282, 24331, 24338],\n",
      "      dtype='int64', length=500)\n",
      "Index([   83,   119,   120,   189,   199,   266,   315,   324,   325,   364,\n",
      "       ...\n",
      "       23987, 24023, 24055, 24121, 24198, 24254, 24268, 24281, 24317, 24349],\n",
      "      dtype='int64', length=235)\n",
      "Index([], dtype='int64')\n",
      "Index([   33,    44,    55,    82,    87,   136,   148,   164,   180,   229,\n",
      "       ...\n",
      "       23870, 23896, 23973, 24017, 24058, 24085, 24190, 24248, 24297, 24352],\n",
      "      dtype='int64', length=781)\n",
      "Index([], dtype='int64')\n",
      "Index([  404,   747,  1187,  1482,  2067,  2069,  2214,  2511,  2560,  2658,\n",
      "       ...\n",
      "       18677, 19118, 19465, 20788, 21176, 22062, 22253, 22306, 23283, 23335],\n",
      "      dtype='int64', length=107)\n",
      "Index([   54,    56,    78,   127,   172,   202,   208,   248,   262,   277,\n",
      "       ...\n",
      "       23992, 23994, 24027, 24031, 24103, 24139, 24152, 24182, 24257, 24325],\n",
      "      dtype='int64', length=919)\n",
      "Index([  263,   265,   310,   405,   409,   452,   550,   554,   557,   683,\n",
      "       ...\n",
      "       23782, 23881, 23883, 23958, 23979, 24121, 24150, 24182, 24207, 24305],\n",
      "      dtype='int64', length=446)\n",
      "Index([   54,    57,    76,    78,   127,   172,   262,   292,   313,   332,\n",
      "       ...\n",
      "       24076, 24078, 24139, 24152, 24161, 24174, 24202, 24277, 24296, 24325],\n",
      "      dtype='int64', length=925)\n",
      "Index([  447,   545,   657,   952,   985,  1192,  1231,  1329,  1390,  1473,\n",
      "       ...\n",
      "       23000, 23343, 23491, 23634, 24055, 24080, 24121, 24178, 24182, 24224],\n",
      "      dtype='int64', length=166)\n",
      "Index([   11,   207,   208,   401,   403,   502,   698,   747,   796,   893,\n",
      "       ...\n",
      "       23629, 23630, 23679, 23777, 24022, 24023, 24070, 24121, 24169, 24315],\n",
      "      dtype='int64', length=359)\n",
      "Index([], dtype='int64')\n",
      "Index([   33,    82,   131,   164,   168,   180,   262,   311,   315,   342,\n",
      "       ...\n",
      "       23954, 24003, 24052, 24085, 24207, 24248, 24272, 24297, 24306, 24311],\n",
      "      dtype='int64', length=749)\n",
      "Index([], dtype='int64')\n",
      "Index([   55,   104,   107,   126,   153,   175,   195,   251,   255,   280,\n",
      "       ...\n",
      "       23894, 24010, 24058, 24059, 24087, 24143, 24182, 24206, 24241, 24255],\n",
      "      dtype='int64', length=694)\n",
      "Index([   21,   217,   361,   766,   903,  2442,  7832, 19648, 19746, 19795,\n",
      "       20187, 20236, 20285, 20334, 20383, 20432, 20530, 20579, 20628, 20775,\n",
      "       20873, 20971, 20982, 21020, 21167, 21216, 21314, 21363, 21412, 21559,\n",
      "       21608, 21657, 21706, 22000, 22196, 22245, 22343, 22441, 22490, 22539,\n",
      "       22588, 22599, 22637, 22686, 22735, 22784, 22833, 22882, 22893, 22931,\n",
      "       22980, 23029, 23078, 23127, 23176, 23225, 23323, 23372, 23421, 23432,\n",
      "       23470, 23519, 23530, 23568, 23579, 23617, 23666, 23764, 23813, 23911,\n",
      "       23960, 24009, 24058, 24069, 24107, 24118, 24156, 24205, 24216, 24254,\n",
      "       24303, 24314, 24352],\n",
      "      dtype='int64')\n",
      "Index([    0,    46,    49,    76,    95,    98,   108,   125,   146,   147,\n",
      "       ...\n",
      "       24216, 24240, 24255, 24265, 24276, 24289, 24304, 24314, 24330, 24338],\n",
      "      dtype='int64', length=1636)\n",
      "Index([  262,   272,   311,   360,   370,   517,   703,   713,   905,   958,\n",
      "       ...\n",
      "       22671, 22867, 23154, 23350, 23448, 23546, 23668, 23700, 23749, 24085],\n",
      "      dtype='int64', length=196)\n",
      "Index([], dtype='int64')\n",
      "Index([14267], dtype='int64')\n",
      "Index([   33,    36,    37,    38,    39,    40,    41,    42,    43,    44,\n",
      "       ...\n",
      "       24300, 24337, 24340, 24341, 24344, 24345, 24346, 24347, 24348, 24349],\n",
      "      dtype='int64', length=5282)\n",
      "Index([  311,   414,   447,   496,   692,   790,   905,   907,   937,   953,\n",
      "       ...\n",
      "       22810, 22845, 22859, 22957, 23090, 23104, 23888, 23937, 23986, 24182],\n",
      "      dtype='int64', length=240)\n",
      "Index([   25,   142,   172,   188,   221,   227,   289,   311,   319,   335,\n",
      "       ...\n",
      "       24051, 24054, 24100, 24103, 24104, 24149, 24152, 24198, 24250, 24345],\n",
      "      dtype='int64', length=855)\n",
      "Index([   69,    76,   121,   285,   363,   513,   607,   608,   614,   615,\n",
      "       ...\n",
      "       23615, 23786, 23789, 23815, 23979, 24010, 24036, 24175, 24177, 24324],\n",
      "      dtype='int64', length=276)\n",
      "Index([774, 4633, 5466, 9288, 12789, 12985, 13083, 20612, 23209], dtype='int64')\n",
      "Index([    0,    46,    49,    76,    95,    98,   108,   125,   144,   146,\n",
      "       ...\n",
      "       24255, 24265, 24276, 24289, 24301, 24304, 24314, 24330, 24338, 24350],\n",
      "      dtype='int64', length=1938)\n",
      "Index([  262,   272,   311,   360,   370,   447,   496,   517,   692,   703,\n",
      "       ...\n",
      "       22671, 22867, 23154, 23350, 23448, 23546, 23668, 23700, 23749, 24085],\n",
      "      dtype='int64', length=233)\n",
      "Index([], dtype='int64')\n",
      "Index([14267], dtype='int64')\n",
      "Index([124, 7720, 10927, 12571, 19725, 20313, 23449], dtype='int64')\n",
      "Index([   44,    93,   245,   262,   343,   350,   490,   566,   588,   637,\n",
      "       ...\n",
      "       21146, 21609, 21903, 22001, 22763, 22843, 23350, 23547, 24085, 24108],\n",
      "      dtype='int64', length=103)\n",
      "Index([   44,    90,    93,    98,   186,   237,   240,   245,   262,   343,\n",
      "       ...\n",
      "       21118, 21266, 21274, 21609, 21903, 21951, 22843, 23479, 23710, 24108],\n",
      "      dtype='int64', length=177)\n",
      "Index([   44,    90,    93,    98,   245,   262,   343,   350,   490,   588,\n",
      "         637,   644,   713,   767,   926,  1029,  1127,  1274,  1421,  1617,\n",
      "        1715,  1813,  1919,  2001,  2109,  2254,  2352,  2374,  2499,  3187,\n",
      "        3381,  3482,  3505,  3506,  3507,  3677,  3724,  3871,  3920,  4144,\n",
      "        4314,  4368,  4437,  4499,  4549,  4657,  4802,  5074,  5096,  5145,\n",
      "        5202,  5417,  5480,  5488,  6166,  6525,  6560,  7244,  7636,  8651,\n",
      "        8967,  9533, 10584, 11640, 11800, 12144, 12571, 13131, 13992, 14090,\n",
      "       14531, 15021, 15413, 15973, 16022, 16325, 16626, 18040, 18173, 18179,\n",
      "       18227, 18228, 18272, 18276, 18766, 18865, 18914, 19109, 19676, 20433,\n",
      "       20923, 20999, 21118, 21266, 21609, 21903, 22843, 23547, 24085, 24108],\n",
      "      dtype='int64')\n",
      "Index([   44,    90,    93,    98,   155,   186,   237,   240,   245,   262,\n",
      "       ...\n",
      "       21274, 21355, 21609, 21903, 21951, 22744, 22843, 23479, 23710, 24108],\n",
      "      dtype='int64', length=190)\n",
      "Index([   59,   113,   163,   169,   184,   186,   191,   195,   241,   250,\n",
      "       ...\n",
      "       24219, 24247, 24248, 24250, 24251, 24255, 24268, 24296, 24297, 24299],\n",
      "      dtype='int64', length=1111)\n",
      "Index([  115,   116,   738,   739,   748,   764,   767,   768,   783,  2224,\n",
      "       ...\n",
      "       18160, 18162, 18163, 18166, 18168, 18172, 18176, 18177, 18178, 19120],\n",
      "      dtype='int64', length=586)\n",
      "Index([    0,    39,    49,    64,    71,    75,    88,    92,    98,   124,\n",
      "       ...\n",
      "       24233, 24238, 24247, 24249, 24255, 24282, 24287, 24296, 24304, 24336],\n",
      "      dtype='int64', length=1014)\n",
      "Index([  125,   174,   238,   311,   360,   370,   566,   660,   703,   713,\n",
      "       ...\n",
      "       22867, 22909, 23154, 23254, 23350, 23668, 23749, 23793, 24085, 24234],\n",
      "      dtype='int64', length=272)\n",
      "Index([], dtype='int64')\n",
      "Index([14267], dtype='int64')\n"
     ]
    }
   ],
   "source": [
    "# 테스트 데이터의 이상치도 제거\n",
    "test_outliers_deleted, deleted_indices = delete_outliers(test_imputed, outliers_columns, limits)"
   ]
  },
  {
   "cell_type": "code",
   "execution_count": null,
   "metadata": {},
   "outputs": [],
   "source": []
  }
 ],
 "metadata": {
  "kernelspec": {
   "display_name": "carbon",
   "language": "python",
   "name": "python3"
  },
  "language_info": {
   "codemirror_mode": {
    "name": "ipython",
    "version": 3
   },
   "file_extension": ".py",
   "mimetype": "text/x-python",
   "name": "python",
   "nbconvert_exporter": "python",
   "pygments_lexer": "ipython3",
   "version": "3.8.8"
  },
  "orig_nbformat": 4
 },
 "nbformat": 4,
 "nbformat_minor": 2
}
