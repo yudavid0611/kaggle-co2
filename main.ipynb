{
 "cells": [
  {
   "cell_type": "code",
   "execution_count": 1,
   "metadata": {},
   "outputs": [],
   "source": [
    "import os\n",
    "import pandas as pd\n",
    "from tools.dataset import score_dataset\n",
    "from tools.preprocessing.missing_values import get_missing_raio, delete_columns, impute_missing_values\n",
    "from tools.preprocessing.outliers import delete_outliers, impute_outliers, get_limits\n",
    "from tools.preprocessing.scaling import minmax"
   ]
  },
  {
   "cell_type": "markdown",
   "metadata": {},
   "source": [
    "# 1. 데이터 로드"
   ]
  },
  {
   "cell_type": "code",
   "execution_count": 2,
   "metadata": {},
   "outputs": [
    {
     "name": "stdout",
     "output_type": "stream",
     "text": [
      "train shape: (79023, 76)\n",
      "test shape: (24353, 75)\n"
     ]
    }
   ],
   "source": [
    "DATA_PATH = './data'\n",
    "\n",
    "train = pd.read_csv(os.path.join(DATA_PATH, 'train.csv'))\n",
    "test = pd.read_csv(os.path.join(DATA_PATH, 'test.csv'))\n",
    "\n",
    "# train_origin = train.copy()\n",
    "# test_origin = test.copy()\n",
    "\n",
    "print(f'train shape: {train.shape}')\n",
    "print(f'test shape: {test.shape}')"
   ]
  },
  {
   "cell_type": "code",
   "execution_count": 3,
   "metadata": {},
   "outputs": [
    {
     "data": {
      "text/html": [
       "<div>\n",
       "<style scoped>\n",
       "    .dataframe tbody tr th:only-of-type {\n",
       "        vertical-align: middle;\n",
       "    }\n",
       "\n",
       "    .dataframe tbody tr th {\n",
       "        vertical-align: top;\n",
       "    }\n",
       "\n",
       "    .dataframe thead th {\n",
       "        text-align: right;\n",
       "    }\n",
       "</style>\n",
       "<table border=\"1\" class=\"dataframe\">\n",
       "  <thead>\n",
       "    <tr style=\"text-align: right;\">\n",
       "      <th></th>\n",
       "      <th>ID_LAT_LON_YEAR_WEEK</th>\n",
       "      <th>latitude</th>\n",
       "      <th>longitude</th>\n",
       "      <th>year</th>\n",
       "      <th>week_no</th>\n",
       "      <th>SulphurDioxide_SO2_column_number_density</th>\n",
       "      <th>SulphurDioxide_SO2_column_number_density_amf</th>\n",
       "      <th>SulphurDioxide_SO2_slant_column_number_density</th>\n",
       "      <th>SulphurDioxide_cloud_fraction</th>\n",
       "      <th>SulphurDioxide_sensor_azimuth_angle</th>\n",
       "      <th>...</th>\n",
       "      <th>Cloud_cloud_top_height</th>\n",
       "      <th>Cloud_cloud_base_pressure</th>\n",
       "      <th>Cloud_cloud_base_height</th>\n",
       "      <th>Cloud_cloud_optical_depth</th>\n",
       "      <th>Cloud_surface_albedo</th>\n",
       "      <th>Cloud_sensor_azimuth_angle</th>\n",
       "      <th>Cloud_sensor_zenith_angle</th>\n",
       "      <th>Cloud_solar_azimuth_angle</th>\n",
       "      <th>Cloud_solar_zenith_angle</th>\n",
       "      <th>emission</th>\n",
       "    </tr>\n",
       "  </thead>\n",
       "  <tbody>\n",
       "    <tr>\n",
       "      <th>0</th>\n",
       "      <td>ID_-0.510_29.290_2019_00</td>\n",
       "      <td>-0.51</td>\n",
       "      <td>29.29</td>\n",
       "      <td>2019</td>\n",
       "      <td>0</td>\n",
       "      <td>-0.000108</td>\n",
       "      <td>0.603019</td>\n",
       "      <td>-0.000065</td>\n",
       "      <td>0.255668</td>\n",
       "      <td>-98.593887</td>\n",
       "      <td>...</td>\n",
       "      <td>3664.436218</td>\n",
       "      <td>61085.809570</td>\n",
       "      <td>2615.120483</td>\n",
       "      <td>15.568533</td>\n",
       "      <td>0.272292</td>\n",
       "      <td>-12.628986</td>\n",
       "      <td>35.632416</td>\n",
       "      <td>-138.786423</td>\n",
       "      <td>30.752140</td>\n",
       "      <td>3.750994</td>\n",
       "    </tr>\n",
       "    <tr>\n",
       "      <th>1</th>\n",
       "      <td>ID_-0.510_29.290_2019_01</td>\n",
       "      <td>-0.51</td>\n",
       "      <td>29.29</td>\n",
       "      <td>2019</td>\n",
       "      <td>1</td>\n",
       "      <td>0.000021</td>\n",
       "      <td>0.728214</td>\n",
       "      <td>0.000014</td>\n",
       "      <td>0.130988</td>\n",
       "      <td>16.592861</td>\n",
       "      <td>...</td>\n",
       "      <td>3651.190311</td>\n",
       "      <td>66969.478735</td>\n",
       "      <td>3174.572424</td>\n",
       "      <td>8.690601</td>\n",
       "      <td>0.256830</td>\n",
       "      <td>30.359375</td>\n",
       "      <td>39.557633</td>\n",
       "      <td>-145.183930</td>\n",
       "      <td>27.251779</td>\n",
       "      <td>4.025176</td>\n",
       "    </tr>\n",
       "    <tr>\n",
       "      <th>2</th>\n",
       "      <td>ID_-0.510_29.290_2019_02</td>\n",
       "      <td>-0.51</td>\n",
       "      <td>29.29</td>\n",
       "      <td>2019</td>\n",
       "      <td>2</td>\n",
       "      <td>0.000514</td>\n",
       "      <td>0.748199</td>\n",
       "      <td>0.000385</td>\n",
       "      <td>0.110018</td>\n",
       "      <td>72.795837</td>\n",
       "      <td>...</td>\n",
       "      <td>4216.986492</td>\n",
       "      <td>60068.894448</td>\n",
       "      <td>3516.282669</td>\n",
       "      <td>21.103410</td>\n",
       "      <td>0.251101</td>\n",
       "      <td>15.377883</td>\n",
       "      <td>30.401823</td>\n",
       "      <td>-142.519545</td>\n",
       "      <td>26.193296</td>\n",
       "      <td>4.231381</td>\n",
       "    </tr>\n",
       "    <tr>\n",
       "      <th>3</th>\n",
       "      <td>ID_-0.510_29.290_2019_03</td>\n",
       "      <td>-0.51</td>\n",
       "      <td>29.29</td>\n",
       "      <td>2019</td>\n",
       "      <td>3</td>\n",
       "      <td>NaN</td>\n",
       "      <td>NaN</td>\n",
       "      <td>NaN</td>\n",
       "      <td>NaN</td>\n",
       "      <td>NaN</td>\n",
       "      <td>...</td>\n",
       "      <td>5228.507736</td>\n",
       "      <td>51064.547339</td>\n",
       "      <td>4180.973322</td>\n",
       "      <td>15.386899</td>\n",
       "      <td>0.262043</td>\n",
       "      <td>-11.293399</td>\n",
       "      <td>24.380357</td>\n",
       "      <td>-132.665828</td>\n",
       "      <td>28.829155</td>\n",
       "      <td>4.305286</td>\n",
       "    </tr>\n",
       "    <tr>\n",
       "      <th>4</th>\n",
       "      <td>ID_-0.510_29.290_2019_04</td>\n",
       "      <td>-0.51</td>\n",
       "      <td>29.29</td>\n",
       "      <td>2019</td>\n",
       "      <td>4</td>\n",
       "      <td>-0.000079</td>\n",
       "      <td>0.676296</td>\n",
       "      <td>-0.000048</td>\n",
       "      <td>0.121164</td>\n",
       "      <td>4.121269</td>\n",
       "      <td>...</td>\n",
       "      <td>3980.598120</td>\n",
       "      <td>63751.125781</td>\n",
       "      <td>3355.710107</td>\n",
       "      <td>8.114694</td>\n",
       "      <td>0.235847</td>\n",
       "      <td>38.532263</td>\n",
       "      <td>37.392979</td>\n",
       "      <td>-141.509805</td>\n",
       "      <td>22.204612</td>\n",
       "      <td>4.347317</td>\n",
       "    </tr>\n",
       "  </tbody>\n",
       "</table>\n",
       "<p>5 rows × 76 columns</p>\n",
       "</div>"
      ],
      "text/plain": [
       "       ID_LAT_LON_YEAR_WEEK  latitude  longitude  year  week_no  \\\n",
       "0  ID_-0.510_29.290_2019_00     -0.51      29.29  2019        0   \n",
       "1  ID_-0.510_29.290_2019_01     -0.51      29.29  2019        1   \n",
       "2  ID_-0.510_29.290_2019_02     -0.51      29.29  2019        2   \n",
       "3  ID_-0.510_29.290_2019_03     -0.51      29.29  2019        3   \n",
       "4  ID_-0.510_29.290_2019_04     -0.51      29.29  2019        4   \n",
       "\n",
       "   SulphurDioxide_SO2_column_number_density  \\\n",
       "0                                 -0.000108   \n",
       "1                                  0.000021   \n",
       "2                                  0.000514   \n",
       "3                                       NaN   \n",
       "4                                 -0.000079   \n",
       "\n",
       "   SulphurDioxide_SO2_column_number_density_amf  \\\n",
       "0                                      0.603019   \n",
       "1                                      0.728214   \n",
       "2                                      0.748199   \n",
       "3                                           NaN   \n",
       "4                                      0.676296   \n",
       "\n",
       "   SulphurDioxide_SO2_slant_column_number_density  \\\n",
       "0                                       -0.000065   \n",
       "1                                        0.000014   \n",
       "2                                        0.000385   \n",
       "3                                             NaN   \n",
       "4                                       -0.000048   \n",
       "\n",
       "   SulphurDioxide_cloud_fraction  SulphurDioxide_sensor_azimuth_angle  ...  \\\n",
       "0                       0.255668                           -98.593887  ...   \n",
       "1                       0.130988                            16.592861  ...   \n",
       "2                       0.110018                            72.795837  ...   \n",
       "3                            NaN                                  NaN  ...   \n",
       "4                       0.121164                             4.121269  ...   \n",
       "\n",
       "   Cloud_cloud_top_height  Cloud_cloud_base_pressure  Cloud_cloud_base_height  \\\n",
       "0             3664.436218               61085.809570              2615.120483   \n",
       "1             3651.190311               66969.478735              3174.572424   \n",
       "2             4216.986492               60068.894448              3516.282669   \n",
       "3             5228.507736               51064.547339              4180.973322   \n",
       "4             3980.598120               63751.125781              3355.710107   \n",
       "\n",
       "   Cloud_cloud_optical_depth  Cloud_surface_albedo  \\\n",
       "0                  15.568533              0.272292   \n",
       "1                   8.690601              0.256830   \n",
       "2                  21.103410              0.251101   \n",
       "3                  15.386899              0.262043   \n",
       "4                   8.114694              0.235847   \n",
       "\n",
       "   Cloud_sensor_azimuth_angle  Cloud_sensor_zenith_angle  \\\n",
       "0                  -12.628986                  35.632416   \n",
       "1                   30.359375                  39.557633   \n",
       "2                   15.377883                  30.401823   \n",
       "3                  -11.293399                  24.380357   \n",
       "4                   38.532263                  37.392979   \n",
       "\n",
       "   Cloud_solar_azimuth_angle  Cloud_solar_zenith_angle  emission  \n",
       "0                -138.786423                 30.752140  3.750994  \n",
       "1                -145.183930                 27.251779  4.025176  \n",
       "2                -142.519545                 26.193296  4.231381  \n",
       "3                -132.665828                 28.829155  4.305286  \n",
       "4                -141.509805                 22.204612  4.347317  \n",
       "\n",
       "[5 rows x 76 columns]"
      ]
     },
     "execution_count": 3,
     "metadata": {},
     "output_type": "execute_result"
    }
   ],
   "source": [
    "# 데이터 일부 확인\n",
    "train.head()"
   ]
  },
  {
   "cell_type": "markdown",
   "metadata": {},
   "source": [
    "# 2. 결측값 처리"
   ]
  },
  {
   "cell_type": "markdown",
   "metadata": {},
   "source": [
    "결측값 비율이 높은 칼럼 삭제"
   ]
  },
  {
   "cell_type": "code",
   "execution_count": 4,
   "metadata": {},
   "outputs": [
    {
     "name": "stdout",
     "output_type": "stream",
     "text": [
      "삭제된 칼럼 개수: 19\n"
     ]
    }
   ],
   "source": [
    "train_deleted, deleted_columns = delete_columns(train, 0.2, target='emission')\n",
    "\n",
    "print(f'삭제된 칼럼 개수: {len(deleted_columns)}')"
   ]
  },
  {
   "cell_type": "code",
   "execution_count": 5,
   "metadata": {},
   "outputs": [],
   "source": [
    "# 테스트 데이터에도 적용\n",
    "test_deleted = test.drop(deleted_columns, axis=1)"
   ]
  },
  {
   "cell_type": "code",
   "execution_count": 5,
   "metadata": {},
   "outputs": [
    {
     "ename": "KeyboardInterrupt",
     "evalue": "",
     "output_type": "error",
     "traceback": [
      "\u001b[1;31m---------------------------------------------------------------------------\u001b[0m",
      "\u001b[1;31mKeyboardInterrupt\u001b[0m                         Traceback (most recent call last)",
      "Cell \u001b[1;32mIn[5], line 6\u001b[0m\n\u001b[0;32m      3\u001b[0m results \u001b[39m=\u001b[39m []\n\u001b[0;32m      5\u001b[0m \u001b[39mfor\u001b[39;00m name, data \u001b[39min\u001b[39;00m data_list:\n\u001b[1;32m----> 6\u001b[0m     score \u001b[39m=\u001b[39m score_dataset(data, \u001b[39m'\u001b[39;49m\u001b[39memission\u001b[39;49m\u001b[39m'\u001b[39;49m)\n\u001b[0;32m      7\u001b[0m     results\u001b[39m.\u001b[39mappend([name, score])\n\u001b[0;32m      9\u001b[0m results\n",
      "File \u001b[1;32mc:\\Users\\loven\\dev\\kaggle_competition\\carbon\\tools\\dataset.py:25\u001b[0m, in \u001b[0;36mscore_dataset\u001b[1;34m(df, target, numertic_only)\u001b[0m\n\u001b[0;32m     22\u001b[0m     \u001b[39mfor\u001b[39;00m colname \u001b[39min\u001b[39;00m X\u001b[39m.\u001b[39mselect_dtypes([\u001b[39m\"\u001b[39m\u001b[39mcategory\u001b[39m\u001b[39m\"\u001b[39m, \u001b[39m\"\u001b[39m\u001b[39mobject\u001b[39m\u001b[39m\"\u001b[39m]):\n\u001b[0;32m     23\u001b[0m         X[colname], _ \u001b[39m=\u001b[39m X[colname]\u001b[39m.\u001b[39mfactorize()\n\u001b[1;32m---> 25\u001b[0m score \u001b[39m=\u001b[39m cross_val_score(\n\u001b[0;32m     26\u001b[0m     model, X, y, cv\u001b[39m=\u001b[39;49m\u001b[39m3\u001b[39;49m, scoring\u001b[39m=\u001b[39;49m\u001b[39m\"\u001b[39;49m\u001b[39mneg_mean_absolute_error\u001b[39;49m\u001b[39m\"\u001b[39;49m,\n\u001b[0;32m     27\u001b[0m )\n\u001b[0;32m     29\u001b[0m score \u001b[39m=\u001b[39m \u001b[39m-\u001b[39m\u001b[39m1\u001b[39m \u001b[39m*\u001b[39m score\u001b[39m.\u001b[39mmean()\n\u001b[0;32m     30\u001b[0m score \u001b[39m=\u001b[39m np\u001b[39m.\u001b[39msqrt(score)\n",
      "File \u001b[1;32mc:\\Users\\loven\\dev\\kaggle_competition\\carbon\\carbon\\lib\\site-packages\\sklearn\\model_selection\\_validation.py:562\u001b[0m, in \u001b[0;36mcross_val_score\u001b[1;34m(estimator, X, y, groups, scoring, cv, n_jobs, verbose, fit_params, pre_dispatch, error_score)\u001b[0m\n\u001b[0;32m    559\u001b[0m \u001b[39m# To ensure multimetric format is not supported\u001b[39;00m\n\u001b[0;32m    560\u001b[0m scorer \u001b[39m=\u001b[39m check_scoring(estimator, scoring\u001b[39m=\u001b[39mscoring)\n\u001b[1;32m--> 562\u001b[0m cv_results \u001b[39m=\u001b[39m cross_validate(\n\u001b[0;32m    563\u001b[0m     estimator\u001b[39m=\u001b[39;49mestimator,\n\u001b[0;32m    564\u001b[0m     X\u001b[39m=\u001b[39;49mX,\n\u001b[0;32m    565\u001b[0m     y\u001b[39m=\u001b[39;49my,\n\u001b[0;32m    566\u001b[0m     groups\u001b[39m=\u001b[39;49mgroups,\n\u001b[0;32m    567\u001b[0m     scoring\u001b[39m=\u001b[39;49m{\u001b[39m\"\u001b[39;49m\u001b[39mscore\u001b[39;49m\u001b[39m\"\u001b[39;49m: scorer},\n\u001b[0;32m    568\u001b[0m     cv\u001b[39m=\u001b[39;49mcv,\n\u001b[0;32m    569\u001b[0m     n_jobs\u001b[39m=\u001b[39;49mn_jobs,\n\u001b[0;32m    570\u001b[0m     verbose\u001b[39m=\u001b[39;49mverbose,\n\u001b[0;32m    571\u001b[0m     fit_params\u001b[39m=\u001b[39;49mfit_params,\n\u001b[0;32m    572\u001b[0m     pre_dispatch\u001b[39m=\u001b[39;49mpre_dispatch,\n\u001b[0;32m    573\u001b[0m     error_score\u001b[39m=\u001b[39;49merror_score,\n\u001b[0;32m    574\u001b[0m )\n\u001b[0;32m    575\u001b[0m \u001b[39mreturn\u001b[39;00m cv_results[\u001b[39m\"\u001b[39m\u001b[39mtest_score\u001b[39m\u001b[39m\"\u001b[39m]\n",
      "File \u001b[1;32mc:\\Users\\loven\\dev\\kaggle_competition\\carbon\\carbon\\lib\\site-packages\\sklearn\\utils\\_param_validation.py:211\u001b[0m, in \u001b[0;36mvalidate_params.<locals>.decorator.<locals>.wrapper\u001b[1;34m(*args, **kwargs)\u001b[0m\n\u001b[0;32m    205\u001b[0m \u001b[39mtry\u001b[39;00m:\n\u001b[0;32m    206\u001b[0m     \u001b[39mwith\u001b[39;00m config_context(\n\u001b[0;32m    207\u001b[0m         skip_parameter_validation\u001b[39m=\u001b[39m(\n\u001b[0;32m    208\u001b[0m             prefer_skip_nested_validation \u001b[39mor\u001b[39;00m global_skip_validation\n\u001b[0;32m    209\u001b[0m         )\n\u001b[0;32m    210\u001b[0m     ):\n\u001b[1;32m--> 211\u001b[0m         \u001b[39mreturn\u001b[39;00m func(\u001b[39m*\u001b[39;49margs, \u001b[39m*\u001b[39;49m\u001b[39m*\u001b[39;49mkwargs)\n\u001b[0;32m    212\u001b[0m \u001b[39mexcept\u001b[39;00m InvalidParameterError \u001b[39mas\u001b[39;00m e:\n\u001b[0;32m    213\u001b[0m     \u001b[39m# When the function is just a wrapper around an estimator, we allow\u001b[39;00m\n\u001b[0;32m    214\u001b[0m     \u001b[39m# the function to delegate validation to the estimator, but we replace\u001b[39;00m\n\u001b[0;32m    215\u001b[0m     \u001b[39m# the name of the estimator by the name of the function in the error\u001b[39;00m\n\u001b[0;32m    216\u001b[0m     \u001b[39m# message to avoid confusion.\u001b[39;00m\n\u001b[0;32m    217\u001b[0m     msg \u001b[39m=\u001b[39m re\u001b[39m.\u001b[39msub(\n\u001b[0;32m    218\u001b[0m         \u001b[39mr\u001b[39m\u001b[39m\"\u001b[39m\u001b[39mparameter of \u001b[39m\u001b[39m\\\u001b[39m\u001b[39mw+ must be\u001b[39m\u001b[39m\"\u001b[39m,\n\u001b[0;32m    219\u001b[0m         \u001b[39mf\u001b[39m\u001b[39m\"\u001b[39m\u001b[39mparameter of \u001b[39m\u001b[39m{\u001b[39;00mfunc\u001b[39m.\u001b[39m\u001b[39m__qualname__\u001b[39m\u001b[39m}\u001b[39;00m\u001b[39m must be\u001b[39m\u001b[39m\"\u001b[39m,\n\u001b[0;32m    220\u001b[0m         \u001b[39mstr\u001b[39m(e),\n\u001b[0;32m    221\u001b[0m     )\n",
      "File \u001b[1;32mc:\\Users\\loven\\dev\\kaggle_competition\\carbon\\carbon\\lib\\site-packages\\sklearn\\model_selection\\_validation.py:309\u001b[0m, in \u001b[0;36mcross_validate\u001b[1;34m(estimator, X, y, groups, scoring, cv, n_jobs, verbose, fit_params, pre_dispatch, return_train_score, return_estimator, return_indices, error_score)\u001b[0m\n\u001b[0;32m    306\u001b[0m \u001b[39m# We clone the estimator to make sure that all the folds are\u001b[39;00m\n\u001b[0;32m    307\u001b[0m \u001b[39m# independent, and that it is pickle-able.\u001b[39;00m\n\u001b[0;32m    308\u001b[0m parallel \u001b[39m=\u001b[39m Parallel(n_jobs\u001b[39m=\u001b[39mn_jobs, verbose\u001b[39m=\u001b[39mverbose, pre_dispatch\u001b[39m=\u001b[39mpre_dispatch)\n\u001b[1;32m--> 309\u001b[0m results \u001b[39m=\u001b[39m parallel(\n\u001b[0;32m    310\u001b[0m     delayed(_fit_and_score)(\n\u001b[0;32m    311\u001b[0m         clone(estimator),\n\u001b[0;32m    312\u001b[0m         X,\n\u001b[0;32m    313\u001b[0m         y,\n\u001b[0;32m    314\u001b[0m         scorers,\n\u001b[0;32m    315\u001b[0m         train,\n\u001b[0;32m    316\u001b[0m         test,\n\u001b[0;32m    317\u001b[0m         verbose,\n\u001b[0;32m    318\u001b[0m         \u001b[39mNone\u001b[39;49;00m,\n\u001b[0;32m    319\u001b[0m         fit_params,\n\u001b[0;32m    320\u001b[0m         return_train_score\u001b[39m=\u001b[39;49mreturn_train_score,\n\u001b[0;32m    321\u001b[0m         return_times\u001b[39m=\u001b[39;49m\u001b[39mTrue\u001b[39;49;00m,\n\u001b[0;32m    322\u001b[0m         return_estimator\u001b[39m=\u001b[39;49mreturn_estimator,\n\u001b[0;32m    323\u001b[0m         error_score\u001b[39m=\u001b[39;49merror_score,\n\u001b[0;32m    324\u001b[0m     )\n\u001b[0;32m    325\u001b[0m     \u001b[39mfor\u001b[39;49;00m train, test \u001b[39min\u001b[39;49;00m indices\n\u001b[0;32m    326\u001b[0m )\n\u001b[0;32m    328\u001b[0m _warn_or_raise_about_fit_failures(results, error_score)\n\u001b[0;32m    330\u001b[0m \u001b[39m# For callable scoring, the return type is only know after calling. If the\u001b[39;00m\n\u001b[0;32m    331\u001b[0m \u001b[39m# return type is a dictionary, the error scores can now be inserted with\u001b[39;00m\n\u001b[0;32m    332\u001b[0m \u001b[39m# the correct key.\u001b[39;00m\n",
      "File \u001b[1;32mc:\\Users\\loven\\dev\\kaggle_competition\\carbon\\carbon\\lib\\site-packages\\sklearn\\utils\\parallel.py:65\u001b[0m, in \u001b[0;36mParallel.__call__\u001b[1;34m(self, iterable)\u001b[0m\n\u001b[0;32m     60\u001b[0m config \u001b[39m=\u001b[39m get_config()\n\u001b[0;32m     61\u001b[0m iterable_with_config \u001b[39m=\u001b[39m (\n\u001b[0;32m     62\u001b[0m     (_with_config(delayed_func, config), args, kwargs)\n\u001b[0;32m     63\u001b[0m     \u001b[39mfor\u001b[39;00m delayed_func, args, kwargs \u001b[39min\u001b[39;00m iterable\n\u001b[0;32m     64\u001b[0m )\n\u001b[1;32m---> 65\u001b[0m \u001b[39mreturn\u001b[39;00m \u001b[39msuper\u001b[39;49m()\u001b[39m.\u001b[39;49m\u001b[39m__call__\u001b[39;49m(iterable_with_config)\n",
      "File \u001b[1;32mc:\\Users\\loven\\dev\\kaggle_competition\\carbon\\carbon\\lib\\site-packages\\joblib\\parallel.py:1855\u001b[0m, in \u001b[0;36mParallel.__call__\u001b[1;34m(self, iterable)\u001b[0m\n\u001b[0;32m   1853\u001b[0m     output \u001b[39m=\u001b[39m \u001b[39mself\u001b[39m\u001b[39m.\u001b[39m_get_sequential_output(iterable)\n\u001b[0;32m   1854\u001b[0m     \u001b[39mnext\u001b[39m(output)\n\u001b[1;32m-> 1855\u001b[0m     \u001b[39mreturn\u001b[39;00m output \u001b[39mif\u001b[39;00m \u001b[39mself\u001b[39m\u001b[39m.\u001b[39mreturn_generator \u001b[39melse\u001b[39;00m \u001b[39mlist\u001b[39;49m(output)\n\u001b[0;32m   1857\u001b[0m \u001b[39m# Let's create an ID that uniquely identifies the current call. If the\u001b[39;00m\n\u001b[0;32m   1858\u001b[0m \u001b[39m# call is interrupted early and that the same instance is immediately\u001b[39;00m\n\u001b[0;32m   1859\u001b[0m \u001b[39m# re-used, this id will be used to prevent workers that were\u001b[39;00m\n\u001b[0;32m   1860\u001b[0m \u001b[39m# concurrently finalizing a task from the previous call to run the\u001b[39;00m\n\u001b[0;32m   1861\u001b[0m \u001b[39m# callback.\u001b[39;00m\n\u001b[0;32m   1862\u001b[0m \u001b[39mwith\u001b[39;00m \u001b[39mself\u001b[39m\u001b[39m.\u001b[39m_lock:\n",
      "File \u001b[1;32mc:\\Users\\loven\\dev\\kaggle_competition\\carbon\\carbon\\lib\\site-packages\\joblib\\parallel.py:1784\u001b[0m, in \u001b[0;36mParallel._get_sequential_output\u001b[1;34m(self, iterable)\u001b[0m\n\u001b[0;32m   1782\u001b[0m \u001b[39mself\u001b[39m\u001b[39m.\u001b[39mn_dispatched_batches \u001b[39m+\u001b[39m\u001b[39m=\u001b[39m \u001b[39m1\u001b[39m\n\u001b[0;32m   1783\u001b[0m \u001b[39mself\u001b[39m\u001b[39m.\u001b[39mn_dispatched_tasks \u001b[39m+\u001b[39m\u001b[39m=\u001b[39m \u001b[39m1\u001b[39m\n\u001b[1;32m-> 1784\u001b[0m res \u001b[39m=\u001b[39m func(\u001b[39m*\u001b[39;49margs, \u001b[39m*\u001b[39;49m\u001b[39m*\u001b[39;49mkwargs)\n\u001b[0;32m   1785\u001b[0m \u001b[39mself\u001b[39m\u001b[39m.\u001b[39mn_completed_tasks \u001b[39m+\u001b[39m\u001b[39m=\u001b[39m \u001b[39m1\u001b[39m\n\u001b[0;32m   1786\u001b[0m \u001b[39mself\u001b[39m\u001b[39m.\u001b[39mprint_progress()\n",
      "File \u001b[1;32mc:\\Users\\loven\\dev\\kaggle_competition\\carbon\\carbon\\lib\\site-packages\\sklearn\\utils\\parallel.py:127\u001b[0m, in \u001b[0;36m_FuncWrapper.__call__\u001b[1;34m(self, *args, **kwargs)\u001b[0m\n\u001b[0;32m    125\u001b[0m     config \u001b[39m=\u001b[39m {}\n\u001b[0;32m    126\u001b[0m \u001b[39mwith\u001b[39;00m config_context(\u001b[39m*\u001b[39m\u001b[39m*\u001b[39mconfig):\n\u001b[1;32m--> 127\u001b[0m     \u001b[39mreturn\u001b[39;00m \u001b[39mself\u001b[39;49m\u001b[39m.\u001b[39;49mfunction(\u001b[39m*\u001b[39;49margs, \u001b[39m*\u001b[39;49m\u001b[39m*\u001b[39;49mkwargs)\n",
      "File \u001b[1;32mc:\\Users\\loven\\dev\\kaggle_competition\\carbon\\carbon\\lib\\site-packages\\sklearn\\model_selection\\_validation.py:732\u001b[0m, in \u001b[0;36m_fit_and_score\u001b[1;34m(estimator, X, y, scorer, train, test, verbose, parameters, fit_params, return_train_score, return_parameters, return_n_test_samples, return_times, return_estimator, split_progress, candidate_progress, error_score)\u001b[0m\n\u001b[0;32m    730\u001b[0m         estimator\u001b[39m.\u001b[39mfit(X_train, \u001b[39m*\u001b[39m\u001b[39m*\u001b[39mfit_params)\n\u001b[0;32m    731\u001b[0m     \u001b[39melse\u001b[39;00m:\n\u001b[1;32m--> 732\u001b[0m         estimator\u001b[39m.\u001b[39;49mfit(X_train, y_train, \u001b[39m*\u001b[39;49m\u001b[39m*\u001b[39;49mfit_params)\n\u001b[0;32m    734\u001b[0m \u001b[39mexcept\u001b[39;00m \u001b[39mException\u001b[39;00m:\n\u001b[0;32m    735\u001b[0m     \u001b[39m# Note fit time as time until error\u001b[39;00m\n\u001b[0;32m    736\u001b[0m     fit_time \u001b[39m=\u001b[39m time\u001b[39m.\u001b[39mtime() \u001b[39m-\u001b[39m start_time\n",
      "File \u001b[1;32mc:\\Users\\loven\\dev\\kaggle_competition\\carbon\\carbon\\lib\\site-packages\\xgboost\\core.py:620\u001b[0m, in \u001b[0;36mrequire_keyword_args.<locals>.throw_if.<locals>.inner_f\u001b[1;34m(*args, **kwargs)\u001b[0m\n\u001b[0;32m    618\u001b[0m \u001b[39mfor\u001b[39;00m k, arg \u001b[39min\u001b[39;00m \u001b[39mzip\u001b[39m(sig\u001b[39m.\u001b[39mparameters, args):\n\u001b[0;32m    619\u001b[0m     kwargs[k] \u001b[39m=\u001b[39m arg\n\u001b[1;32m--> 620\u001b[0m \u001b[39mreturn\u001b[39;00m func(\u001b[39m*\u001b[39;49m\u001b[39m*\u001b[39;49mkwargs)\n",
      "File \u001b[1;32mc:\\Users\\loven\\dev\\kaggle_competition\\carbon\\carbon\\lib\\site-packages\\xgboost\\sklearn.py:1025\u001b[0m, in \u001b[0;36mXGBModel.fit\u001b[1;34m(self, X, y, sample_weight, base_margin, eval_set, eval_metric, early_stopping_rounds, verbose, xgb_model, sample_weight_eval_set, base_margin_eval_set, feature_weights, callbacks)\u001b[0m\n\u001b[0;32m   1014\u001b[0m     obj \u001b[39m=\u001b[39m \u001b[39mNone\u001b[39;00m\n\u001b[0;32m   1016\u001b[0m (\n\u001b[0;32m   1017\u001b[0m     model,\n\u001b[0;32m   1018\u001b[0m     metric,\n\u001b[1;32m   (...)\u001b[0m\n\u001b[0;32m   1023\u001b[0m     xgb_model, eval_metric, params, early_stopping_rounds, callbacks\n\u001b[0;32m   1024\u001b[0m )\n\u001b[1;32m-> 1025\u001b[0m \u001b[39mself\u001b[39m\u001b[39m.\u001b[39m_Booster \u001b[39m=\u001b[39m train(\n\u001b[0;32m   1026\u001b[0m     params,\n\u001b[0;32m   1027\u001b[0m     train_dmatrix,\n\u001b[0;32m   1028\u001b[0m     \u001b[39mself\u001b[39;49m\u001b[39m.\u001b[39;49mget_num_boosting_rounds(),\n\u001b[0;32m   1029\u001b[0m     evals\u001b[39m=\u001b[39;49mevals,\n\u001b[0;32m   1030\u001b[0m     early_stopping_rounds\u001b[39m=\u001b[39;49mearly_stopping_rounds,\n\u001b[0;32m   1031\u001b[0m     evals_result\u001b[39m=\u001b[39;49mevals_result,\n\u001b[0;32m   1032\u001b[0m     obj\u001b[39m=\u001b[39;49mobj,\n\u001b[0;32m   1033\u001b[0m     custom_metric\u001b[39m=\u001b[39;49mmetric,\n\u001b[0;32m   1034\u001b[0m     verbose_eval\u001b[39m=\u001b[39;49mverbose,\n\u001b[0;32m   1035\u001b[0m     xgb_model\u001b[39m=\u001b[39;49mmodel,\n\u001b[0;32m   1036\u001b[0m     callbacks\u001b[39m=\u001b[39;49mcallbacks,\n\u001b[0;32m   1037\u001b[0m )\n\u001b[0;32m   1039\u001b[0m \u001b[39mself\u001b[39m\u001b[39m.\u001b[39m_set_evaluation_result(evals_result)\n\u001b[0;32m   1040\u001b[0m \u001b[39mreturn\u001b[39;00m \u001b[39mself\u001b[39m\n",
      "File \u001b[1;32mc:\\Users\\loven\\dev\\kaggle_competition\\carbon\\carbon\\lib\\site-packages\\xgboost\\core.py:620\u001b[0m, in \u001b[0;36mrequire_keyword_args.<locals>.throw_if.<locals>.inner_f\u001b[1;34m(*args, **kwargs)\u001b[0m\n\u001b[0;32m    618\u001b[0m \u001b[39mfor\u001b[39;00m k, arg \u001b[39min\u001b[39;00m \u001b[39mzip\u001b[39m(sig\u001b[39m.\u001b[39mparameters, args):\n\u001b[0;32m    619\u001b[0m     kwargs[k] \u001b[39m=\u001b[39m arg\n\u001b[1;32m--> 620\u001b[0m \u001b[39mreturn\u001b[39;00m func(\u001b[39m*\u001b[39;49m\u001b[39m*\u001b[39;49mkwargs)\n",
      "File \u001b[1;32mc:\\Users\\loven\\dev\\kaggle_competition\\carbon\\carbon\\lib\\site-packages\\xgboost\\training.py:185\u001b[0m, in \u001b[0;36mtrain\u001b[1;34m(params, dtrain, num_boost_round, evals, obj, feval, maximize, early_stopping_rounds, evals_result, verbose_eval, xgb_model, callbacks, custom_metric)\u001b[0m\n\u001b[0;32m    183\u001b[0m \u001b[39mif\u001b[39;00m cb_container\u001b[39m.\u001b[39mbefore_iteration(bst, i, dtrain, evals):\n\u001b[0;32m    184\u001b[0m     \u001b[39mbreak\u001b[39;00m\n\u001b[1;32m--> 185\u001b[0m bst\u001b[39m.\u001b[39;49mupdate(dtrain, i, obj)\n\u001b[0;32m    186\u001b[0m \u001b[39mif\u001b[39;00m cb_container\u001b[39m.\u001b[39mafter_iteration(bst, i, dtrain, evals):\n\u001b[0;32m    187\u001b[0m     \u001b[39mbreak\u001b[39;00m\n",
      "File \u001b[1;32mc:\\Users\\loven\\dev\\kaggle_competition\\carbon\\carbon\\lib\\site-packages\\xgboost\\core.py:1918\u001b[0m, in \u001b[0;36mBooster.update\u001b[1;34m(self, dtrain, iteration, fobj)\u001b[0m\n\u001b[0;32m   1915\u001b[0m \u001b[39mself\u001b[39m\u001b[39m.\u001b[39m_validate_dmatrix_features(dtrain)\n\u001b[0;32m   1917\u001b[0m \u001b[39mif\u001b[39;00m fobj \u001b[39mis\u001b[39;00m \u001b[39mNone\u001b[39;00m:\n\u001b[1;32m-> 1918\u001b[0m     _check_call(_LIB\u001b[39m.\u001b[39;49mXGBoosterUpdateOneIter(\u001b[39mself\u001b[39;49m\u001b[39m.\u001b[39;49mhandle,\n\u001b[0;32m   1919\u001b[0m                                             ctypes\u001b[39m.\u001b[39;49mc_int(iteration),\n\u001b[0;32m   1920\u001b[0m                                             dtrain\u001b[39m.\u001b[39;49mhandle))\n\u001b[0;32m   1921\u001b[0m \u001b[39melse\u001b[39;00m:\n\u001b[0;32m   1922\u001b[0m     pred \u001b[39m=\u001b[39m \u001b[39mself\u001b[39m\u001b[39m.\u001b[39mpredict(dtrain, output_margin\u001b[39m=\u001b[39m\u001b[39mTrue\u001b[39;00m, training\u001b[39m=\u001b[39m\u001b[39mTrue\u001b[39;00m)\n",
      "\u001b[1;31mKeyboardInterrupt\u001b[0m: "
     ]
    }
   ],
   "source": [
    "# 결측값 제거 결과\n",
    "data_list = [['train', train], ['train_deleted', train_deleted]]\n",
    "results = []\n",
    "\n",
    "for name, data in data_list:\n",
    "    score = score_dataset(data, 'emission')\n",
    "    results.append([name, score])\n",
    "\n",
    "results"
   ]
  },
  {
   "cell_type": "markdown",
   "metadata": {},
   "source": [
    "칼럼을 삭제한 데이터셋의 스코어가 더 좋다."
   ]
  },
  {
   "cell_type": "markdown",
   "metadata": {},
   "source": [
    "가장 이상적인 결측값 대체법 찾기 "
   ]
  },
  {
   "cell_type": "code",
   "execution_count": 7,
   "metadata": {},
   "outputs": [
    {
     "ename": "AttributeError",
     "evalue": "'tuple' object has no attribute 'drop'",
     "output_type": "error",
     "traceback": [
      "\u001b[1;31m---------------------------------------------------------------------------\u001b[0m",
      "\u001b[1;31mAttributeError\u001b[0m                            Traceback (most recent call last)",
      "Cell \u001b[1;32mIn[7], line 6\u001b[0m\n\u001b[0;32m      4\u001b[0m \u001b[39mfor\u001b[39;00m method \u001b[39min\u001b[39;00m methods:\n\u001b[0;32m      5\u001b[0m     train_imputed \u001b[39m=\u001b[39m impute(train_deleted, method)\n\u001b[1;32m----> 6\u001b[0m     score \u001b[39m=\u001b[39m score_dataset(train_imputed, \u001b[39m'\u001b[39;49m\u001b[39memission\u001b[39;49m\u001b[39m'\u001b[39;49m)\n\u001b[0;32m      7\u001b[0m     results\u001b[39m.\u001b[39mappend([method, score])\n\u001b[0;32m      8\u001b[0m     \u001b[39mprint\u001b[39m(\u001b[39mf\u001b[39m\u001b[39m'\u001b[39m\u001b[39mmethod \u001b[39m\u001b[39m\"\u001b[39m\u001b[39m{\u001b[39;00mmethod\u001b[39m}\u001b[39;00m\u001b[39m\"\u001b[39m\u001b[39m 계산 완료\u001b[39m\u001b[39m'\u001b[39m)\n",
      "File \u001b[1;32mc:\\Users\\loven\\dev\\kaggle_competition\\carbon\\tools\\dataset.py:8\u001b[0m, in \u001b[0;36mscore_dataset\u001b[1;34m(df, target, numertic_only)\u001b[0m\n\u001b[0;32m      7\u001b[0m \u001b[39mdef\u001b[39;00m \u001b[39mscore_dataset\u001b[39m(df, target, numertic_only\u001b[39m=\u001b[39m\u001b[39mTrue\u001b[39;00m):\n\u001b[1;32m----> 8\u001b[0m     X \u001b[39m=\u001b[39m df\u001b[39m.\u001b[39;49mdrop(target, axis\u001b[39m=\u001b[39m\u001b[39m1\u001b[39m)\n\u001b[0;32m      9\u001b[0m     y \u001b[39m=\u001b[39m df[target]\n\u001b[0;32m     11\u001b[0m     model \u001b[39m=\u001b[39m XGBRegressor(\n\u001b[0;32m     12\u001b[0m         max_depth\u001b[39m=\u001b[39m\u001b[39m5\u001b[39m,\n\u001b[0;32m     13\u001b[0m         n_estimators\u001b[39m=\u001b[39m\u001b[39m100\u001b[39m,\n\u001b[0;32m     14\u001b[0m         eval_metric\u001b[39m=\u001b[39m\u001b[39m'\u001b[39m\u001b[39mrmsle\u001b[39m\u001b[39m'\u001b[39m,\n\u001b[0;32m     15\u001b[0m         random_state\u001b[39m=\u001b[39m\u001b[39m1\u001b[39m\n\u001b[0;32m     16\u001b[0m     )\n",
      "\u001b[1;31mAttributeError\u001b[0m: 'tuple' object has no attribute 'drop'"
     ]
    }
   ],
   "source": [
    "methods = ['mean', 'median', 'linear']\n",
    "results = []\n",
    "\n",
    "for method in methods:\n",
    "    train_imputed = impute_missing_values(train_deleted, method)\n",
    "    score = score_dataset(train_imputed, 'emission')\n",
    "    results.append([method, score])\n",
    "    print(f'method \"{method}\" 계산 완료')\n",
    "\n",
    "results"
   ]
  },
  {
   "cell_type": "markdown",
   "metadata": {},
   "source": [
    "'mean'으로 대체할 때 가장 좋은 score 기록"
   ]
  },
  {
   "cell_type": "code",
   "execution_count": 6,
   "metadata": {},
   "outputs": [],
   "source": [
    "train_imputed, tool = impute_missing_values(train_deleted, 'mean')\n",
    "\n",
    "test_imputed = test_deleted.fillna(tool)"
   ]
  },
  {
   "cell_type": "code",
   "execution_count": 23,
   "metadata": {},
   "outputs": [
    {
     "data": {
      "text/plain": [
       "8.75663387517149"
      ]
     },
     "execution_count": 23,
     "metadata": {},
     "output_type": "execute_result"
    }
   ],
   "source": [
    "# score_dataset(train_imputed, 'emission')"
   ]
  },
  {
   "cell_type": "markdown",
   "metadata": {},
   "source": [
    "# 3. 이상치 처리"
   ]
  },
  {
   "cell_type": "markdown",
   "metadata": {},
   "source": [
    "numeric 칼럼에 대해 이상치 처리"
   ]
  },
  {
   "cell_type": "code",
   "execution_count": 7,
   "metadata": {},
   "outputs": [
    {
     "data": {
      "text/plain": [
       "['latitude',\n",
       " 'longitude',\n",
       " 'year',\n",
       " 'week_no',\n",
       " 'SulphurDioxide_SO2_column_number_density',\n",
       " 'SulphurDioxide_SO2_column_number_density_amf',\n",
       " 'SulphurDioxide_SO2_slant_column_number_density',\n",
       " 'SulphurDioxide_cloud_fraction',\n",
       " 'SulphurDioxide_sensor_azimuth_angle',\n",
       " 'SulphurDioxide_sensor_zenith_angle']"
      ]
     },
     "execution_count": 7,
     "metadata": {},
     "output_type": "execute_result"
    }
   ],
   "source": [
    "outliers_columns = list(train_imputed.select_dtypes(exclude=['O']).columns)\n",
    "outliers_columns.remove('emission')\n",
    "outliers_columns[:10]"
   ]
  },
  {
   "cell_type": "markdown",
   "metadata": {},
   "source": [
    "이상치 기준이 되는 상한, 하한 구하기"
   ]
  },
  {
   "cell_type": "code",
   "execution_count": 8,
   "metadata": {},
   "outputs": [
    {
     "data": {
      "text/plain": [
       "dict_items([('latitude', [0.41900000000000026, -4.173]), ('longitude', [32.2845, 27.448500000000003]), ('year', [2024.0, 2016.0]), ('week_no', [78.0, -26.0]), ('SulphurDioxide_SO2_column_number_density', [0.0003911345979763542, -0.00033896669728099033]), ('SulphurDioxide_SO2_column_number_density_amf', [1.1669939597287828, 0.4693074770428757]), ('SulphurDioxide_SO2_slant_column_number_density', [0.00031344770484945946, -0.0002734028406228577]), ('SulphurDioxide_cloud_fraction', [0.3137327257603556, 0.009091709129575035]), ('SulphurDioxide_sensor_azimuth_angle', [140.1330893219491, -150.97045989778013]), ('SulphurDioxide_sensor_zenith_angle', [65.45264699107074, 10.663640519012876]), ('SulphurDioxide_solar_azimuth_angle', [43.523391257981416, -208.53374808358552]), ('SulphurDioxide_solar_zenith_angle', [40.21798721033717, 15.809738889080622]), ('SulphurDioxide_SO2_column_number_density_15km', [0.0001327659731399024, -0.00011663270986185858]), ('CarbonMonoxide_CO_column_number_density', [0.045953644880869234, 0.019089383959146618]), ('CarbonMonoxide_H2O_column_number_density', [3456.9707457036984, 660.0486086659146]), ('CarbonMonoxide_cloud_height', [4895.229842598959, 777.53339326789]), ('CarbonMonoxide_sensor_altitude', [830406.1480165408, 829472.6679482954]), ('CarbonMonoxide_sensor_azimuth_angle', [108.45839024997909, -129.78895318105648]), ('CarbonMonoxide_sensor_zenith_angle', [62.9626626199624, 13.09421590479911]), ('CarbonMonoxide_solar_azimuth_angle', [65.46441334532443, -237.7809929457813]), ('CarbonMonoxide_solar_zenith_angle', [42.3793148815829, 13.526484787212114]), ('Formaldehyde_tropospheric_HCHO_column_number_density', [0.00031370085162644594, -6.422220373474328e-05]), ('Formaldehyde_tropospheric_HCHO_column_number_density_amf', [1.863454775535122, 0.6004249190279605]), ('Formaldehyde_HCHO_slant_column_number_density', [0.0002871783667115601, -0.00011813970376646687]), ('Formaldehyde_cloud_fraction', [0.4697284217915495, -0.013830303523332171]), ('Formaldehyde_solar_zenith_angle', [42.47070956967656, 13.782898561269665]), ('Formaldehyde_solar_azimuth_angle', [57.624096121295054, -227.25179000218685]), ('Formaldehyde_sensor_zenith_angle', [70.15382321016676, 12.060362297020227]), ('Formaldehyde_sensor_azimuth_angle', [137.45357262569954, -149.7506347863572]), ('UvAerosolIndex_absorbing_aerosol_index', [-0.15982501084001233, -2.526509468657225]), ('UvAerosolIndex_sensor_altitude', [830372.1293367194, 829572.2542303824]), ('UvAerosolIndex_sensor_azimuth_angle', [38.56487017270769, -64.13650886587851]), ('UvAerosolIndex_sensor_zenith_angle', [56.11245116870805, 23.201869546819264]), ('UvAerosolIndex_solar_azimuth_angle', [67.55633099771498, -241.13250056673135]), ('UvAerosolIndex_solar_zenith_angle', [41.657885894991736, 14.738478722155161]), ('Ozone_O3_column_number_density', [0.1251114476730637, 0.11025172896502435]), ('Ozone_O3_column_number_density_amf', [2.945358648686392, 2.267015162739399]), ('Ozone_O3_slant_column_number_density', [0.355383548173029, 0.26499546456909795]), ('Ozone_O3_effective_temperature', [234.95068847088885, 222.53724474020783]), ('Ozone_cloud_fraction', [1.1228313290497807, 0.023656300475652037]), ('Ozone_sensor_azimuth_angle', [38.585994762193685, -64.19585502723064]), ('Ozone_sensor_zenith_angle', [55.11152272654111, 23.70158922201402]), ('Ozone_solar_azimuth_angle', [67.22814503959398, -240.82309771261544]), ('Ozone_solar_zenith_angle', [41.65923412829627, 14.820005244721651]), ('Cloud_cloud_fraction', [1.1635425046538923, 0.04312186790957934]), ('Cloud_cloud_top_pressure', [76263.66725882023, 29628.68287120433]), ('Cloud_cloud_top_height', [9432.01137234144, 1706.1735490433066]), ('Cloud_cloud_base_pressure', [84203.30763906548, 34628.4037015917]), ('Cloud_cloud_base_height', [8383.460767592369, 870.9468848668089]), ('Cloud_cloud_optical_depth', [44.25763815370888, -10.541029507303401]), ('Cloud_surface_albedo', [0.3941392741875344, 0.15023475307937678]), ('Cloud_sensor_azimuth_angle', [68.54124394512007, -89.56698543314029]), ('Cloud_sensor_zenith_angle', [57.283324102638474, 22.990948120509]), ('Cloud_solar_azimuth_angle', [68.02362544179556, -242.12999217737234]), ('Cloud_solar_zenith_angle', [41.63331882886428, 14.562147703208872])])"
      ]
     },
     "execution_count": 8,
     "metadata": {},
     "output_type": "execute_result"
    }
   ],
   "source": [
    "limits = get_limits(train_imputed, outliers_columns)\n",
    "limits.items()"
   ]
  },
  {
   "cell_type": "code",
   "execution_count": 9,
   "metadata": {},
   "outputs": [],
   "source": [
    "train_outliers_deleted, deleted_indices = delete_outliers(train_imputed, outliers_columns, limits)\n",
    "train_impute_outliers = impute_outliers(train_imputed, outliers_columns, limits)"
   ]
  },
  {
   "cell_type": "code",
   "execution_count": 10,
   "metadata": {},
   "outputs": [
    {
     "data": {
      "text/plain": [
       "43388"
      ]
     },
     "execution_count": 10,
     "metadata": {},
     "output_type": "execute_result"
    }
   ],
   "source": [
    "# 삭제된 행의 개수\n",
    "len(train_outliers_deleted)"
   ]
  },
  {
   "cell_type": "markdown",
   "metadata": {},
   "source": [
    "이상치 처리 비교(이상치 처리 전: 8.75663387517149)"
   ]
  },
  {
   "cell_type": "code",
   "execution_count": 15,
   "metadata": {},
   "outputs": [
    {
     "data": {
      "text/plain": [
       "[['deleted', 8.49429524751788], ['imputed', 8.7388773949861]]"
      ]
     },
     "execution_count": 15,
     "metadata": {},
     "output_type": "execute_result"
    }
   ],
   "source": [
    "outliers_dfs = [['deleted', train_outliers_deleted], ['imputed', train_impute_outliers]]\n",
    "results = []\n",
    "\n",
    "for name, outliers_df in outliers_dfs:\n",
    "    score = score_dataset(outliers_df, 'emission')\n",
    "    results.append([name, score])\n",
    "\n",
    "results"
   ]
  },
  {
   "cell_type": "markdown",
   "metadata": {},
   "source": [
    "이상치가 있는 행을 제거했을 때가 가장 이상적인 score 기록"
   ]
  },
  {
   "cell_type": "code",
   "execution_count": 11,
   "metadata": {},
   "outputs": [],
   "source": [
    "# 테스트 데이터의 이상치도 제거\n",
    "test_outliers_deleted, deleted_indices = delete_outliers(test_imputed, outliers_columns, limits)"
   ]
  },
  {
   "cell_type": "markdown",
   "metadata": {},
   "source": [
    "# 4. Scaling"
   ]
  },
  {
   "cell_type": "code",
   "execution_count": 12,
   "metadata": {},
   "outputs": [],
   "source": [
    "scaling_columns = list(train_outliers_deleted.select_dtypes(exclude=['O']).columns)\n",
    "scaling_columns.remove('emission')"
   ]
  },
  {
   "cell_type": "code",
   "execution_count": 13,
   "metadata": {},
   "outputs": [
    {
     "data": {
      "text/html": [
       "<div>\n",
       "<style scoped>\n",
       "    .dataframe tbody tr th:only-of-type {\n",
       "        vertical-align: middle;\n",
       "    }\n",
       "\n",
       "    .dataframe tbody tr th {\n",
       "        vertical-align: top;\n",
       "    }\n",
       "\n",
       "    .dataframe thead th {\n",
       "        text-align: right;\n",
       "    }\n",
       "</style>\n",
       "<table border=\"1\" class=\"dataframe\">\n",
       "  <thead>\n",
       "    <tr style=\"text-align: right;\">\n",
       "      <th></th>\n",
       "      <th>ID_LAT_LON_YEAR_WEEK</th>\n",
       "      <th>latitude</th>\n",
       "      <th>longitude</th>\n",
       "      <th>year</th>\n",
       "      <th>week_no</th>\n",
       "      <th>SulphurDioxide_SO2_column_number_density</th>\n",
       "      <th>SulphurDioxide_SO2_column_number_density_amf</th>\n",
       "      <th>SulphurDioxide_SO2_slant_column_number_density</th>\n",
       "      <th>SulphurDioxide_cloud_fraction</th>\n",
       "      <th>SulphurDioxide_sensor_azimuth_angle</th>\n",
       "      <th>...</th>\n",
       "      <th>Cloud_cloud_top_height</th>\n",
       "      <th>Cloud_cloud_base_pressure</th>\n",
       "      <th>Cloud_cloud_base_height</th>\n",
       "      <th>Cloud_cloud_optical_depth</th>\n",
       "      <th>Cloud_surface_albedo</th>\n",
       "      <th>Cloud_sensor_azimuth_angle</th>\n",
       "      <th>Cloud_sensor_zenith_angle</th>\n",
       "      <th>Cloud_solar_azimuth_angle</th>\n",
       "      <th>Cloud_solar_zenith_angle</th>\n",
       "      <th>emission</th>\n",
       "    </tr>\n",
       "  </thead>\n",
       "  <tbody>\n",
       "    <tr>\n",
       "      <th>0</th>\n",
       "      <td>ID_-0.510_29.290_2019_00</td>\n",
       "      <td>1.0</td>\n",
       "      <td>0.321429</td>\n",
       "      <td>0.0</td>\n",
       "      <td>0.000000</td>\n",
       "      <td>0.315841</td>\n",
       "      <td>0.190895</td>\n",
       "      <td>0.354435</td>\n",
       "      <td>0.847635</td>\n",
       "      <td>0.091993</td>\n",
       "      <td>...</td>\n",
       "      <td>0.254227</td>\n",
       "      <td>0.532466</td>\n",
       "      <td>0.183560</td>\n",
       "      <td>0.323598</td>\n",
       "      <td>0.500352</td>\n",
       "      <td>0.497417</td>\n",
       "      <td>0.365752</td>\n",
       "      <td>0.074577</td>\n",
       "      <td>0.692598</td>\n",
       "      <td>3.750994</td>\n",
       "    </tr>\n",
       "    <tr>\n",
       "      <th>1</th>\n",
       "      <td>ID_-0.510_29.290_2019_01</td>\n",
       "      <td>1.0</td>\n",
       "      <td>0.321429</td>\n",
       "      <td>0.0</td>\n",
       "      <td>0.019231</td>\n",
       "      <td>0.492357</td>\n",
       "      <td>0.370518</td>\n",
       "      <td>0.489026</td>\n",
       "      <td>0.419006</td>\n",
       "      <td>0.602869</td>\n",
       "      <td>...</td>\n",
       "      <td>0.252499</td>\n",
       "      <td>0.652630</td>\n",
       "      <td>0.262747</td>\n",
       "      <td>0.161423</td>\n",
       "      <td>0.436948</td>\n",
       "      <td>0.787278</td>\n",
       "      <td>0.480748</td>\n",
       "      <td>0.020072</td>\n",
       "      <td>0.541363</td>\n",
       "      <td>4.025176</td>\n",
       "    </tr>\n",
       "    <tr>\n",
       "      <th>3</th>\n",
       "      <td>ID_-0.510_29.290_2019_03</td>\n",
       "      <td>1.0</td>\n",
       "      <td>0.321429</td>\n",
       "      <td>0.0</td>\n",
       "      <td>0.057692</td>\n",
       "      <td>0.529828</td>\n",
       "      <td>0.523511</td>\n",
       "      <td>0.525578</td>\n",
       "      <td>0.513303</td>\n",
       "      <td>0.494124</td>\n",
       "      <td>...</td>\n",
       "      <td>0.458194</td>\n",
       "      <td>0.327798</td>\n",
       "      <td>0.405198</td>\n",
       "      <td>0.319315</td>\n",
       "      <td>0.458323</td>\n",
       "      <td>0.506422</td>\n",
       "      <td>0.036103</td>\n",
       "      <td>0.126723</td>\n",
       "      <td>0.609514</td>\n",
       "      <td>4.305286</td>\n",
       "    </tr>\n",
       "    <tr>\n",
       "      <th>4</th>\n",
       "      <td>ID_-0.510_29.290_2019_04</td>\n",
       "      <td>1.0</td>\n",
       "      <td>0.321429</td>\n",
       "      <td>0.0</td>\n",
       "      <td>0.076923</td>\n",
       "      <td>0.356349</td>\n",
       "      <td>0.296029</td>\n",
       "      <td>0.384624</td>\n",
       "      <td>0.385232</td>\n",
       "      <td>0.547555</td>\n",
       "      <td>...</td>\n",
       "      <td>0.295457</td>\n",
       "      <td>0.586901</td>\n",
       "      <td>0.288386</td>\n",
       "      <td>0.147844</td>\n",
       "      <td>0.350901</td>\n",
       "      <td>0.842386</td>\n",
       "      <td>0.417331</td>\n",
       "      <td>0.051374</td>\n",
       "      <td>0.323296</td>\n",
       "      <td>4.347317</td>\n",
       "    </tr>\n",
       "    <tr>\n",
       "      <th>5</th>\n",
       "      <td>ID_-0.510_29.290_2019_05</td>\n",
       "      <td>1.0</td>\n",
       "      <td>0.321429</td>\n",
       "      <td>0.0</td>\n",
       "      <td>0.096154</td>\n",
       "      <td>0.867410</td>\n",
       "      <td>0.576404</td>\n",
       "      <td>0.877833</td>\n",
       "      <td>0.751332</td>\n",
       "      <td>0.469607</td>\n",
       "      <td>...</td>\n",
       "      <td>0.497557</td>\n",
       "      <td>0.302911</td>\n",
       "      <td>0.449689</td>\n",
       "      <td>0.134674</td>\n",
       "      <td>0.409876</td>\n",
       "      <td>0.785721</td>\n",
       "      <td>0.406023</td>\n",
       "      <td>0.086485</td>\n",
       "      <td>0.278068</td>\n",
       "      <td>4.310819</td>\n",
       "    </tr>\n",
       "  </tbody>\n",
       "</table>\n",
       "<p>5 rows × 57 columns</p>\n",
       "</div>"
      ],
      "text/plain": [
       "       ID_LAT_LON_YEAR_WEEK  latitude  longitude  year   week_no  \\\n",
       "0  ID_-0.510_29.290_2019_00       1.0   0.321429   0.0  0.000000   \n",
       "1  ID_-0.510_29.290_2019_01       1.0   0.321429   0.0  0.019231   \n",
       "3  ID_-0.510_29.290_2019_03       1.0   0.321429   0.0  0.057692   \n",
       "4  ID_-0.510_29.290_2019_04       1.0   0.321429   0.0  0.076923   \n",
       "5  ID_-0.510_29.290_2019_05       1.0   0.321429   0.0  0.096154   \n",
       "\n",
       "   SulphurDioxide_SO2_column_number_density  \\\n",
       "0                                  0.315841   \n",
       "1                                  0.492357   \n",
       "3                                  0.529828   \n",
       "4                                  0.356349   \n",
       "5                                  0.867410   \n",
       "\n",
       "   SulphurDioxide_SO2_column_number_density_amf  \\\n",
       "0                                      0.190895   \n",
       "1                                      0.370518   \n",
       "3                                      0.523511   \n",
       "4                                      0.296029   \n",
       "5                                      0.576404   \n",
       "\n",
       "   SulphurDioxide_SO2_slant_column_number_density  \\\n",
       "0                                        0.354435   \n",
       "1                                        0.489026   \n",
       "3                                        0.525578   \n",
       "4                                        0.384624   \n",
       "5                                        0.877833   \n",
       "\n",
       "   SulphurDioxide_cloud_fraction  SulphurDioxide_sensor_azimuth_angle  ...  \\\n",
       "0                       0.847635                             0.091993  ...   \n",
       "1                       0.419006                             0.602869  ...   \n",
       "3                       0.513303                             0.494124  ...   \n",
       "4                       0.385232                             0.547555  ...   \n",
       "5                       0.751332                             0.469607  ...   \n",
       "\n",
       "   Cloud_cloud_top_height  Cloud_cloud_base_pressure  Cloud_cloud_base_height  \\\n",
       "0                0.254227                   0.532466                 0.183560   \n",
       "1                0.252499                   0.652630                 0.262747   \n",
       "3                0.458194                   0.327798                 0.405198   \n",
       "4                0.295457                   0.586901                 0.288386   \n",
       "5                0.497557                   0.302911                 0.449689   \n",
       "\n",
       "   Cloud_cloud_optical_depth  Cloud_surface_albedo  \\\n",
       "0                   0.323598              0.500352   \n",
       "1                   0.161423              0.436948   \n",
       "3                   0.319315              0.458323   \n",
       "4                   0.147844              0.350901   \n",
       "5                   0.134674              0.409876   \n",
       "\n",
       "   Cloud_sensor_azimuth_angle  Cloud_sensor_zenith_angle  \\\n",
       "0                    0.497417                   0.365752   \n",
       "1                    0.787278                   0.480748   \n",
       "3                    0.506422                   0.036103   \n",
       "4                    0.842386                   0.417331   \n",
       "5                    0.785721                   0.406023   \n",
       "\n",
       "   Cloud_solar_azimuth_angle  Cloud_solar_zenith_angle  emission  \n",
       "0                   0.074577                  0.692598  3.750994  \n",
       "1                   0.020072                  0.541363  4.025176  \n",
       "3                   0.126723                  0.609514  4.305286  \n",
       "4                   0.051374                  0.323296  4.347317  \n",
       "5                   0.086485                  0.278068  4.310819  \n",
       "\n",
       "[5 rows x 57 columns]"
      ]
     },
     "execution_count": 13,
     "metadata": {},
     "output_type": "execute_result"
    }
   ],
   "source": [
    "train_scaled, scaler = minmax(train_outliers_deleted, scaling_columns)\n",
    "train_scaled.head()"
   ]
  },
  {
   "cell_type": "code",
   "execution_count": 15,
   "metadata": {},
   "outputs": [
    {
     "data": {
      "text/plain": [
       "8.453965506427712"
      ]
     },
     "execution_count": 15,
     "metadata": {},
     "output_type": "execute_result"
    }
   ],
   "source": [
    "# score = score_dataset(train_scaled, 'emission')\n",
    "# score"
   ]
  },
  {
   "cell_type": "markdown",
   "metadata": {},
   "source": [
    "scaling을 진행한 데이터셋의 스코어가 더 이상적이다."
   ]
  },
  {
   "cell_type": "code",
   "execution_count": 14,
   "metadata": {},
   "outputs": [
    {
     "data": {
      "text/html": [
       "<div>\n",
       "<style scoped>\n",
       "    .dataframe tbody tr th:only-of-type {\n",
       "        vertical-align: middle;\n",
       "    }\n",
       "\n",
       "    .dataframe tbody tr th {\n",
       "        vertical-align: top;\n",
       "    }\n",
       "\n",
       "    .dataframe thead th {\n",
       "        text-align: right;\n",
       "    }\n",
       "</style>\n",
       "<table border=\"1\" class=\"dataframe\">\n",
       "  <thead>\n",
       "    <tr style=\"text-align: right;\">\n",
       "      <th></th>\n",
       "      <th>ID_LAT_LON_YEAR_WEEK</th>\n",
       "      <th>latitude</th>\n",
       "      <th>longitude</th>\n",
       "      <th>year</th>\n",
       "      <th>week_no</th>\n",
       "      <th>SulphurDioxide_SO2_column_number_density</th>\n",
       "      <th>SulphurDioxide_SO2_column_number_density_amf</th>\n",
       "      <th>SulphurDioxide_SO2_slant_column_number_density</th>\n",
       "      <th>SulphurDioxide_cloud_fraction</th>\n",
       "      <th>SulphurDioxide_sensor_azimuth_angle</th>\n",
       "      <th>...</th>\n",
       "      <th>Cloud_cloud_top_pressure</th>\n",
       "      <th>Cloud_cloud_top_height</th>\n",
       "      <th>Cloud_cloud_base_pressure</th>\n",
       "      <th>Cloud_cloud_base_height</th>\n",
       "      <th>Cloud_cloud_optical_depth</th>\n",
       "      <th>Cloud_surface_albedo</th>\n",
       "      <th>Cloud_sensor_azimuth_angle</th>\n",
       "      <th>Cloud_sensor_zenith_angle</th>\n",
       "      <th>Cloud_solar_azimuth_angle</th>\n",
       "      <th>Cloud_solar_zenith_angle</th>\n",
       "    </tr>\n",
       "  </thead>\n",
       "  <tbody>\n",
       "    <tr>\n",
       "      <th>2</th>\n",
       "      <td>ID_-0.510_29.290_2022_02</td>\n",
       "      <td>1.0</td>\n",
       "      <td>0.321429</td>\n",
       "      <td>0.0</td>\n",
       "      <td>0.041667</td>\n",
       "      <td>0.684135</td>\n",
       "      <td>0.190866</td>\n",
       "      <td>0.648351</td>\n",
       "      <td>0.243553</td>\n",
       "      <td>0.292511</td>\n",
       "      <td>...</td>\n",
       "      <td>0.038981</td>\n",
       "      <td>0.942150</td>\n",
       "      <td>0.039142</td>\n",
       "      <td>0.941054</td>\n",
       "      <td>0.206972</td>\n",
       "      <td>0.487669</td>\n",
       "      <td>0.857512</td>\n",
       "      <td>0.664983</td>\n",
       "      <td>0.016634</td>\n",
       "      <td>0.465836</td>\n",
       "    </tr>\n",
       "    <tr>\n",
       "      <th>3</th>\n",
       "      <td>ID_-0.510_29.290_2022_03</td>\n",
       "      <td>1.0</td>\n",
       "      <td>0.321429</td>\n",
       "      <td>0.0</td>\n",
       "      <td>0.062500</td>\n",
       "      <td>0.943950</td>\n",
       "      <td>0.323135</td>\n",
       "      <td>0.885029</td>\n",
       "      <td>0.660914</td>\n",
       "      <td>0.837590</td>\n",
       "      <td>...</td>\n",
       "      <td>0.421315</td>\n",
       "      <td>0.509300</td>\n",
       "      <td>0.437601</td>\n",
       "      <td>0.500001</td>\n",
       "      <td>0.231017</td>\n",
       "      <td>0.644403</td>\n",
       "      <td>0.419940</td>\n",
       "      <td>0.552758</td>\n",
       "      <td>0.099467</td>\n",
       "      <td>0.601213</td>\n",
       "    </tr>\n",
       "    <tr>\n",
       "      <th>4</th>\n",
       "      <td>ID_-0.510_29.290_2022_04</td>\n",
       "      <td>1.0</td>\n",
       "      <td>0.321429</td>\n",
       "      <td>0.0</td>\n",
       "      <td>0.083333</td>\n",
       "      <td>0.029188</td>\n",
       "      <td>0.155454</td>\n",
       "      <td>0.148730</td>\n",
       "      <td>0.672365</td>\n",
       "      <td>0.856780</td>\n",
       "      <td>...</td>\n",
       "      <td>0.323906</td>\n",
       "      <td>0.630926</td>\n",
       "      <td>0.336068</td>\n",
       "      <td>0.623932</td>\n",
       "      <td>0.261942</td>\n",
       "      <td>0.559009</td>\n",
       "      <td>0.499514</td>\n",
       "      <td>0.197469</td>\n",
       "      <td>0.095458</td>\n",
       "      <td>0.443763</td>\n",
       "    </tr>\n",
       "    <tr>\n",
       "      <th>5</th>\n",
       "      <td>ID_-0.510_29.290_2022_05</td>\n",
       "      <td>1.0</td>\n",
       "      <td>0.321429</td>\n",
       "      <td>0.0</td>\n",
       "      <td>0.104167</td>\n",
       "      <td>0.663442</td>\n",
       "      <td>0.303172</td>\n",
       "      <td>0.637222</td>\n",
       "      <td>0.491319</td>\n",
       "      <td>0.843780</td>\n",
       "      <td>...</td>\n",
       "      <td>0.494767</td>\n",
       "      <td>0.415232</td>\n",
       "      <td>0.513971</td>\n",
       "      <td>0.404150</td>\n",
       "      <td>0.335627</td>\n",
       "      <td>0.332187</td>\n",
       "      <td>0.649331</td>\n",
       "      <td>0.538641</td>\n",
       "      <td>0.089926</td>\n",
       "      <td>0.332803</td>\n",
       "    </tr>\n",
       "    <tr>\n",
       "      <th>6</th>\n",
       "      <td>ID_-0.510_29.290_2022_06</td>\n",
       "      <td>1.0</td>\n",
       "      <td>0.321429</td>\n",
       "      <td>0.0</td>\n",
       "      <td>0.125000</td>\n",
       "      <td>0.204186</td>\n",
       "      <td>0.488461</td>\n",
       "      <td>0.200959</td>\n",
       "      <td>0.942623</td>\n",
       "      <td>0.840409</td>\n",
       "      <td>...</td>\n",
       "      <td>0.421844</td>\n",
       "      <td>0.517844</td>\n",
       "      <td>0.429338</td>\n",
       "      <td>0.517812</td>\n",
       "      <td>0.355924</td>\n",
       "      <td>0.409996</td>\n",
       "      <td>0.246942</td>\n",
       "      <td>0.611278</td>\n",
       "      <td>0.184667</td>\n",
       "      <td>0.464801</td>\n",
       "    </tr>\n",
       "  </tbody>\n",
       "</table>\n",
       "<p>5 rows × 56 columns</p>\n",
       "</div>"
      ],
      "text/plain": [
       "       ID_LAT_LON_YEAR_WEEK  latitude  longitude  year   week_no  \\\n",
       "2  ID_-0.510_29.290_2022_02       1.0   0.321429   0.0  0.041667   \n",
       "3  ID_-0.510_29.290_2022_03       1.0   0.321429   0.0  0.062500   \n",
       "4  ID_-0.510_29.290_2022_04       1.0   0.321429   0.0  0.083333   \n",
       "5  ID_-0.510_29.290_2022_05       1.0   0.321429   0.0  0.104167   \n",
       "6  ID_-0.510_29.290_2022_06       1.0   0.321429   0.0  0.125000   \n",
       "\n",
       "   SulphurDioxide_SO2_column_number_density  \\\n",
       "2                                  0.684135   \n",
       "3                                  0.943950   \n",
       "4                                  0.029188   \n",
       "5                                  0.663442   \n",
       "6                                  0.204186   \n",
       "\n",
       "   SulphurDioxide_SO2_column_number_density_amf  \\\n",
       "2                                      0.190866   \n",
       "3                                      0.323135   \n",
       "4                                      0.155454   \n",
       "5                                      0.303172   \n",
       "6                                      0.488461   \n",
       "\n",
       "   SulphurDioxide_SO2_slant_column_number_density  \\\n",
       "2                                        0.648351   \n",
       "3                                        0.885029   \n",
       "4                                        0.148730   \n",
       "5                                        0.637222   \n",
       "6                                        0.200959   \n",
       "\n",
       "   SulphurDioxide_cloud_fraction  SulphurDioxide_sensor_azimuth_angle  ...  \\\n",
       "2                       0.243553                             0.292511  ...   \n",
       "3                       0.660914                             0.837590  ...   \n",
       "4                       0.672365                             0.856780  ...   \n",
       "5                       0.491319                             0.843780  ...   \n",
       "6                       0.942623                             0.840409  ...   \n",
       "\n",
       "   Cloud_cloud_top_pressure  Cloud_cloud_top_height  \\\n",
       "2                  0.038981                0.942150   \n",
       "3                  0.421315                0.509300   \n",
       "4                  0.323906                0.630926   \n",
       "5                  0.494767                0.415232   \n",
       "6                  0.421844                0.517844   \n",
       "\n",
       "   Cloud_cloud_base_pressure  Cloud_cloud_base_height  \\\n",
       "2                   0.039142                 0.941054   \n",
       "3                   0.437601                 0.500001   \n",
       "4                   0.336068                 0.623932   \n",
       "5                   0.513971                 0.404150   \n",
       "6                   0.429338                 0.517812   \n",
       "\n",
       "   Cloud_cloud_optical_depth  Cloud_surface_albedo  \\\n",
       "2                   0.206972              0.487669   \n",
       "3                   0.231017              0.644403   \n",
       "4                   0.261942              0.559009   \n",
       "5                   0.335627              0.332187   \n",
       "6                   0.355924              0.409996   \n",
       "\n",
       "   Cloud_sensor_azimuth_angle  Cloud_sensor_zenith_angle  \\\n",
       "2                    0.857512                   0.664983   \n",
       "3                    0.419940                   0.552758   \n",
       "4                    0.499514                   0.197469   \n",
       "5                    0.649331                   0.538641   \n",
       "6                    0.246942                   0.611278   \n",
       "\n",
       "   Cloud_solar_azimuth_angle  Cloud_solar_zenith_angle  \n",
       "2                   0.016634                  0.465836  \n",
       "3                   0.099467                  0.601213  \n",
       "4                   0.095458                  0.443763  \n",
       "5                   0.089926                  0.332803  \n",
       "6                   0.184667                  0.464801  \n",
       "\n",
       "[5 rows x 56 columns]"
      ]
     },
     "execution_count": 14,
     "metadata": {},
     "output_type": "execute_result"
    }
   ],
   "source": [
    "# 테스트 데이터에도 scaling 수행\n",
    "test_scaled, _ = minmax(test_outliers_deleted, scaling_columns)\n",
    "test_scaled.head()"
   ]
  }
 ],
 "metadata": {
  "kernelspec": {
   "display_name": "carbon",
   "language": "python",
   "name": "python3"
  },
  "language_info": {
   "codemirror_mode": {
    "name": "ipython",
    "version": 3
   },
   "file_extension": ".py",
   "mimetype": "text/x-python",
   "name": "python",
   "nbconvert_exporter": "python",
   "pygments_lexer": "ipython3",
   "version": "3.8.8"
  },
  "orig_nbformat": 4
 },
 "nbformat": 4,
 "nbformat_minor": 2
}
