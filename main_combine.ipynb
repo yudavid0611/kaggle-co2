{
 "cells": [
  {
   "cell_type": "code",
   "execution_count": 46,
   "metadata": {},
   "outputs": [],
   "source": [
    "import os\n",
    "import numpy as np\n",
    "import pandas as pd\n",
    "from sklearn.linear_model import LinearRegression"
   ]
  },
  {
   "cell_type": "code",
   "execution_count": 39,
   "metadata": {},
   "outputs": [
    {
     "name": "stdout",
     "output_type": "stream",
     "text": [
      "train shape: (79023, 76)\n",
      "test shape: (24353, 75)\n"
     ]
    }
   ],
   "source": [
    "DATA_PATH = './data'\n",
    "\n",
    "train = pd.read_csv(os.path.join(DATA_PATH, 'train.csv'))\n",
    "test = pd.read_csv(os.path.join(DATA_PATH, 'test.csv'))\n",
    "\n",
    "# train_origin = train.copy()\n",
    "# test_origin = test.copy()\n",
    "\n",
    "print(f'train shape: {train.shape}')\n",
    "print(f'test shape: {test.shape}')"
   ]
  },
  {
   "cell_type": "code",
   "execution_count": 40,
   "metadata": {},
   "outputs": [],
   "source": [
    "test['emission'] = None\n",
    "test = test[['ID_LAT_LON_YEAR_WEEK', 'emission']]"
   ]
  },
  {
   "cell_type": "code",
   "execution_count": 41,
   "metadata": {},
   "outputs": [
    {
     "data": {
      "text/html": [
       "<div>\n",
       "<style scoped>\n",
       "    .dataframe tbody tr th:only-of-type {\n",
       "        vertical-align: middle;\n",
       "    }\n",
       "\n",
       "    .dataframe tbody tr th {\n",
       "        vertical-align: top;\n",
       "    }\n",
       "\n",
       "    .dataframe thead th {\n",
       "        text-align: right;\n",
       "    }\n",
       "</style>\n",
       "<table border=\"1\" class=\"dataframe\">\n",
       "  <thead>\n",
       "    <tr style=\"text-align: right;\">\n",
       "      <th></th>\n",
       "      <th>ID_LAT_LON_YEAR_WEEK</th>\n",
       "      <th>emission</th>\n",
       "    </tr>\n",
       "  </thead>\n",
       "  <tbody>\n",
       "    <tr>\n",
       "      <th>0</th>\n",
       "      <td>ID_-0.510_29.290_2022_00</td>\n",
       "      <td>None</td>\n",
       "    </tr>\n",
       "    <tr>\n",
       "      <th>1</th>\n",
       "      <td>ID_-0.510_29.290_2022_01</td>\n",
       "      <td>None</td>\n",
       "    </tr>\n",
       "    <tr>\n",
       "      <th>2</th>\n",
       "      <td>ID_-0.510_29.290_2022_02</td>\n",
       "      <td>None</td>\n",
       "    </tr>\n",
       "    <tr>\n",
       "      <th>3</th>\n",
       "      <td>ID_-0.510_29.290_2022_03</td>\n",
       "      <td>None</td>\n",
       "    </tr>\n",
       "    <tr>\n",
       "      <th>4</th>\n",
       "      <td>ID_-0.510_29.290_2022_04</td>\n",
       "      <td>None</td>\n",
       "    </tr>\n",
       "    <tr>\n",
       "      <th>...</th>\n",
       "      <td>...</td>\n",
       "      <td>...</td>\n",
       "    </tr>\n",
       "    <tr>\n",
       "      <th>24348</th>\n",
       "      <td>ID_-3.299_30.301_2022_44</td>\n",
       "      <td>None</td>\n",
       "    </tr>\n",
       "    <tr>\n",
       "      <th>24349</th>\n",
       "      <td>ID_-3.299_30.301_2022_45</td>\n",
       "      <td>None</td>\n",
       "    </tr>\n",
       "    <tr>\n",
       "      <th>24350</th>\n",
       "      <td>ID_-3.299_30.301_2022_46</td>\n",
       "      <td>None</td>\n",
       "    </tr>\n",
       "    <tr>\n",
       "      <th>24351</th>\n",
       "      <td>ID_-3.299_30.301_2022_47</td>\n",
       "      <td>None</td>\n",
       "    </tr>\n",
       "    <tr>\n",
       "      <th>24352</th>\n",
       "      <td>ID_-3.299_30.301_2022_48</td>\n",
       "      <td>None</td>\n",
       "    </tr>\n",
       "  </tbody>\n",
       "</table>\n",
       "<p>24353 rows × 2 columns</p>\n",
       "</div>"
      ],
      "text/plain": [
       "           ID_LAT_LON_YEAR_WEEK emission\n",
       "0      ID_-0.510_29.290_2022_00     None\n",
       "1      ID_-0.510_29.290_2022_01     None\n",
       "2      ID_-0.510_29.290_2022_02     None\n",
       "3      ID_-0.510_29.290_2022_03     None\n",
       "4      ID_-0.510_29.290_2022_04     None\n",
       "...                         ...      ...\n",
       "24348  ID_-3.299_30.301_2022_44     None\n",
       "24349  ID_-3.299_30.301_2022_45     None\n",
       "24350  ID_-3.299_30.301_2022_46     None\n",
       "24351  ID_-3.299_30.301_2022_47     None\n",
       "24352  ID_-3.299_30.301_2022_48     None\n",
       "\n",
       "[24353 rows x 2 columns]"
      ]
     },
     "execution_count": 41,
     "metadata": {},
     "output_type": "execute_result"
    }
   ],
   "source": [
    "test"
   ]
  },
  {
   "cell_type": "code",
   "execution_count": 42,
   "metadata": {},
   "outputs": [
    {
     "data": {
      "text/plain": [
       "array(['ID_-0.510_29.290_2022_00', 'ID_-0.510_29.290_2022_01',\n",
       "       'ID_-0.510_29.290_2022_02', ..., 'ID_-3.299_30.301_2022_46',\n",
       "       'ID_-3.299_30.301_2022_47', 'ID_-3.299_30.301_2022_48'],\n",
       "      dtype=object)"
      ]
     },
     "execution_count": 42,
     "metadata": {},
     "output_type": "execute_result"
    }
   ],
   "source": [
    "test_ids = test['ID_LAT_LON_YEAR_WEEK'].values\n",
    "test_ids"
   ]
  },
  {
   "cell_type": "code",
   "execution_count": 47,
   "metadata": {},
   "outputs": [],
   "source": [
    "for i in test_ids:\n",
    "    # ID_LAT_LON\n",
    "    id_lat_lon_idx = i.index('2022')\n",
    "    id_lat_lon = i[:id_lat_lon_idx - 1]\n",
    "\n",
    "    # week\n",
    "    week = i[-2:]\n",
    "\n",
    "    # train에서 같은 ID 찾기\n",
    "    df = train.loc[train['ID_LAT_LON_YEAR_WEEK'].str.startswith(id_lat_lon)]\n",
    "    df = df.loc[df['ID_LAT_LON_YEAR_WEEK'].str.endswith(week)]\n",
    "\n",
    "    # 상관계수 구하기\n",
    "    corr = df[['year', 'emission']].corr()\n",
    "    if abs(corr['emission']['year']) >= 0.8:\n",
    "        X = np.expand_dims(df.loc[:, 'year'].values, axis=1)\n",
    "        y = np.expand_dims(df.loc[:, 'emission'].values, axis=1)\n",
    "        \n",
    "        lr = LinearRegression(fit_intercept=True)\n",
    "\n",
    "        lr.fit(X, y)\n",
    "        value = lr.predict([[2022]])\n",
    "        \n",
    "    else:\n",
    "        value = None\n",
    "    \n",
    "    test.loc[test['ID_LAT_LON_YEAR_WEEK'] == i, 'emission'] = value"
   ]
  },
  {
   "cell_type": "code",
   "execution_count": 49,
   "metadata": {},
   "outputs": [],
   "source": [
    "# test.to_csv('test_origin.csv')"
   ]
  },
  {
   "cell_type": "code",
   "execution_count": 50,
   "metadata": {},
   "outputs": [
    {
     "data": {
      "text/plain": [
       "ID_LAT_LON_YEAR_WEEK        0\n",
       "emission                19188\n",
       "dtype: int64"
      ]
     },
     "execution_count": 50,
     "metadata": {},
     "output_type": "execute_result"
    }
   ],
   "source": [
    "test.isna().sum()"
   ]
  },
  {
   "cell_type": "code",
   "execution_count": 63,
   "metadata": {},
   "outputs": [],
   "source": [
    "test_new = test.copy()"
   ]
  },
  {
   "cell_type": "code",
   "execution_count": 64,
   "metadata": {},
   "outputs": [
    {
     "data": {
      "text/html": [
       "<div>\n",
       "<style scoped>\n",
       "    .dataframe tbody tr th:only-of-type {\n",
       "        vertical-align: middle;\n",
       "    }\n",
       "\n",
       "    .dataframe tbody tr th {\n",
       "        vertical-align: top;\n",
       "    }\n",
       "\n",
       "    .dataframe thead th {\n",
       "        text-align: right;\n",
       "    }\n",
       "</style>\n",
       "<table border=\"1\" class=\"dataframe\">\n",
       "  <thead>\n",
       "    <tr style=\"text-align: right;\">\n",
       "      <th></th>\n",
       "      <th>ID_LAT_LON_YEAR_WEEK</th>\n",
       "      <th>emission</th>\n",
       "    </tr>\n",
       "  </thead>\n",
       "  <tbody>\n",
       "    <tr>\n",
       "      <th>0</th>\n",
       "      <td>ID_-0.510_29.290_2022_00</td>\n",
       "      <td>3.176613</td>\n",
       "    </tr>\n",
       "    <tr>\n",
       "      <th>1</th>\n",
       "      <td>ID_-0.510_29.290_2022_01</td>\n",
       "      <td>None</td>\n",
       "    </tr>\n",
       "    <tr>\n",
       "      <th>2</th>\n",
       "      <td>ID_-0.510_29.290_2022_02</td>\n",
       "      <td>3.938143</td>\n",
       "    </tr>\n",
       "    <tr>\n",
       "      <th>3</th>\n",
       "      <td>ID_-0.510_29.290_2022_03</td>\n",
       "      <td>3.962625</td>\n",
       "    </tr>\n",
       "    <tr>\n",
       "      <th>4</th>\n",
       "      <td>ID_-0.510_29.290_2022_04</td>\n",
       "      <td>4.062005</td>\n",
       "    </tr>\n",
       "    <tr>\n",
       "      <th>...</th>\n",
       "      <td>...</td>\n",
       "      <td>...</td>\n",
       "    </tr>\n",
       "    <tr>\n",
       "      <th>24348</th>\n",
       "      <td>ID_-3.299_30.301_2022_44</td>\n",
       "      <td>None</td>\n",
       "    </tr>\n",
       "    <tr>\n",
       "      <th>24349</th>\n",
       "      <td>ID_-3.299_30.301_2022_45</td>\n",
       "      <td>None</td>\n",
       "    </tr>\n",
       "    <tr>\n",
       "      <th>24350</th>\n",
       "      <td>ID_-3.299_30.301_2022_46</td>\n",
       "      <td>None</td>\n",
       "    </tr>\n",
       "    <tr>\n",
       "      <th>24351</th>\n",
       "      <td>ID_-3.299_30.301_2022_47</td>\n",
       "      <td>None</td>\n",
       "    </tr>\n",
       "    <tr>\n",
       "      <th>24352</th>\n",
       "      <td>ID_-3.299_30.301_2022_48</td>\n",
       "      <td>None</td>\n",
       "    </tr>\n",
       "  </tbody>\n",
       "</table>\n",
       "<p>24353 rows × 2 columns</p>\n",
       "</div>"
      ],
      "text/plain": [
       "           ID_LAT_LON_YEAR_WEEK  emission\n",
       "0      ID_-0.510_29.290_2022_00  3.176613\n",
       "1      ID_-0.510_29.290_2022_01      None\n",
       "2      ID_-0.510_29.290_2022_02  3.938143\n",
       "3      ID_-0.510_29.290_2022_03  3.962625\n",
       "4      ID_-0.510_29.290_2022_04  4.062005\n",
       "...                         ...       ...\n",
       "24348  ID_-3.299_30.301_2022_44      None\n",
       "24349  ID_-3.299_30.301_2022_45      None\n",
       "24350  ID_-3.299_30.301_2022_46      None\n",
       "24351  ID_-3.299_30.301_2022_47      None\n",
       "24352  ID_-3.299_30.301_2022_48      None\n",
       "\n",
       "[24353 rows x 2 columns]"
      ]
     },
     "execution_count": 64,
     "metadata": {},
     "output_type": "execute_result"
    }
   ],
   "source": [
    "test_new"
   ]
  },
  {
   "cell_type": "code",
   "execution_count": 69,
   "metadata": {},
   "outputs": [
    {
     "data": {
      "text/html": [
       "<div>\n",
       "<style scoped>\n",
       "    .dataframe tbody tr th:only-of-type {\n",
       "        vertical-align: middle;\n",
       "    }\n",
       "\n",
       "    .dataframe tbody tr th {\n",
       "        vertical-align: top;\n",
       "    }\n",
       "\n",
       "    .dataframe thead th {\n",
       "        text-align: right;\n",
       "    }\n",
       "</style>\n",
       "<table border=\"1\" class=\"dataframe\">\n",
       "  <thead>\n",
       "    <tr style=\"text-align: right;\">\n",
       "      <th></th>\n",
       "      <th>ID_LAT_LON_YEAR_WEEK</th>\n",
       "      <th>emission</th>\n",
       "    </tr>\n",
       "  </thead>\n",
       "  <tbody>\n",
       "    <tr>\n",
       "      <th>1</th>\n",
       "      <td>ID_-0.510_29.290_2022_01</td>\n",
       "      <td>None</td>\n",
       "    </tr>\n",
       "    <tr>\n",
       "      <th>5</th>\n",
       "      <td>ID_-0.510_29.290_2022_05</td>\n",
       "      <td>None</td>\n",
       "    </tr>\n",
       "    <tr>\n",
       "      <th>8</th>\n",
       "      <td>ID_-0.510_29.290_2022_08</td>\n",
       "      <td>None</td>\n",
       "    </tr>\n",
       "    <tr>\n",
       "      <th>10</th>\n",
       "      <td>ID_-0.510_29.290_2022_10</td>\n",
       "      <td>None</td>\n",
       "    </tr>\n",
       "    <tr>\n",
       "      <th>11</th>\n",
       "      <td>ID_-0.510_29.290_2022_11</td>\n",
       "      <td>None</td>\n",
       "    </tr>\n",
       "    <tr>\n",
       "      <th>...</th>\n",
       "      <td>...</td>\n",
       "      <td>...</td>\n",
       "    </tr>\n",
       "    <tr>\n",
       "      <th>24348</th>\n",
       "      <td>ID_-3.299_30.301_2022_44</td>\n",
       "      <td>None</td>\n",
       "    </tr>\n",
       "    <tr>\n",
       "      <th>24349</th>\n",
       "      <td>ID_-3.299_30.301_2022_45</td>\n",
       "      <td>None</td>\n",
       "    </tr>\n",
       "    <tr>\n",
       "      <th>24350</th>\n",
       "      <td>ID_-3.299_30.301_2022_46</td>\n",
       "      <td>None</td>\n",
       "    </tr>\n",
       "    <tr>\n",
       "      <th>24351</th>\n",
       "      <td>ID_-3.299_30.301_2022_47</td>\n",
       "      <td>None</td>\n",
       "    </tr>\n",
       "    <tr>\n",
       "      <th>24352</th>\n",
       "      <td>ID_-3.299_30.301_2022_48</td>\n",
       "      <td>None</td>\n",
       "    </tr>\n",
       "  </tbody>\n",
       "</table>\n",
       "<p>19188 rows × 2 columns</p>\n",
       "</div>"
      ],
      "text/plain": [
       "           ID_LAT_LON_YEAR_WEEK emission\n",
       "1      ID_-0.510_29.290_2022_01     None\n",
       "5      ID_-0.510_29.290_2022_05     None\n",
       "8      ID_-0.510_29.290_2022_08     None\n",
       "10     ID_-0.510_29.290_2022_10     None\n",
       "11     ID_-0.510_29.290_2022_11     None\n",
       "...                         ...      ...\n",
       "24348  ID_-3.299_30.301_2022_44     None\n",
       "24349  ID_-3.299_30.301_2022_45     None\n",
       "24350  ID_-3.299_30.301_2022_46     None\n",
       "24351  ID_-3.299_30.301_2022_47     None\n",
       "24352  ID_-3.299_30.301_2022_48     None\n",
       "\n",
       "[19188 rows x 2 columns]"
      ]
     },
     "execution_count": 69,
     "metadata": {},
     "output_type": "execute_result"
    }
   ],
   "source": [
    "test_new_na = test_new.loc[test_new['emission'].isna()]\n",
    "test_new_na"
   ]
  },
  {
   "cell_type": "code",
   "execution_count": 70,
   "metadata": {},
   "outputs": [
    {
     "data": {
      "text/plain": [
       "array(['ID_-0.510_29.290_2022_01', 'ID_-0.510_29.290_2022_05',\n",
       "       'ID_-0.510_29.290_2022_08', ..., 'ID_-3.299_30.301_2022_46',\n",
       "       'ID_-3.299_30.301_2022_47', 'ID_-3.299_30.301_2022_48'],\n",
       "      dtype=object)"
      ]
     },
     "execution_count": 70,
     "metadata": {},
     "output_type": "execute_result"
    }
   ],
   "source": [
    "test_new_na_ids = test_new_na['ID_LAT_LON_YEAR_WEEK'].values\n",
    "test_new_na_ids"
   ]
  },
  {
   "cell_type": "code",
   "execution_count": 74,
   "metadata": {},
   "outputs": [
    {
     "name": "stderr",
     "output_type": "stream",
     "text": [
      "C:\\Users\\loven\\AppData\\Local\\Temp\\ipykernel_13600\\775044384.py:22: SettingWithCopyWarning: \n",
      "A value is trying to be set on a copy of a slice from a DataFrame\n",
      "\n",
      "See the caveats in the documentation: https://pandas.pydata.org/pandas-docs/stable/user_guide/indexing.html#returning-a-view-versus-a-copy\n",
      "  test_new_na.loc[test_new_na['ID_LAT_LON_YEAR_WEEK'] == i, 'emission'] = value\n"
     ]
    }
   ],
   "source": [
    "for i in test_new_na_ids:\n",
    "    # ID_LAT_LON\n",
    "    id_lat_lon_idx = i.index('2022')\n",
    "    id_lat_lon = i[:id_lat_lon_idx - 1]\n",
    "\n",
    "    # week\n",
    "    week = i[-2:]\n",
    "\n",
    "    # train에서 같은 ID 찾기\n",
    "    df = train.loc[train['ID_LAT_LON_YEAR_WEEK'].str.startswith(id_lat_lon)]\n",
    "    df = df.loc[df['ID_LAT_LON_YEAR_WEEK'].str.endswith(week)]\n",
    "\n",
    "    # emission 최대 최소 차이가 5 미만일 경우\n",
    "    em_max = df['emission'].max()\n",
    "    em_min = df['emission'].min()\n",
    "    if em_max - em_min < 5:\n",
    "        em_2019 = df.loc[df['year'] == 2019, 'emission'].values[0]\n",
    "        em_2020 = df.loc[df['year'] == 2020, 'emission'].values[0]\n",
    "        em_2021 = df.loc[df['year'] == 2021, 'emission'].values[0]\n",
    "        value = em_2021 * 0.5 + em_2020 * 0.2 + em_2019 * 0.3\n",
    "\n",
    "        test_new_na.loc[test_new_na['ID_LAT_LON_YEAR_WEEK'] == i, 'emission'] = value"
   ]
  },
  {
   "cell_type": "code",
   "execution_count": 86,
   "metadata": {},
   "outputs": [
    {
     "data": {
      "text/plain": [
       "ID_LAT_LON_YEAR_WEEK        0\n",
       "emission                10471\n",
       "dtype: int64"
      ]
     },
     "execution_count": 86,
     "metadata": {},
     "output_type": "execute_result"
    }
   ],
   "source": [
    "test_new_na.isna().sum()"
   ]
  },
  {
   "cell_type": "code",
   "execution_count": 87,
   "metadata": {},
   "outputs": [],
   "source": [
    "test_new_drop = test_new.dropna()"
   ]
  },
  {
   "cell_type": "code",
   "execution_count": 88,
   "metadata": {},
   "outputs": [
    {
     "data": {
      "text/html": [
       "<div>\n",
       "<style scoped>\n",
       "    .dataframe tbody tr th:only-of-type {\n",
       "        vertical-align: middle;\n",
       "    }\n",
       "\n",
       "    .dataframe tbody tr th {\n",
       "        vertical-align: top;\n",
       "    }\n",
       "\n",
       "    .dataframe thead th {\n",
       "        text-align: right;\n",
       "    }\n",
       "</style>\n",
       "<table border=\"1\" class=\"dataframe\">\n",
       "  <thead>\n",
       "    <tr style=\"text-align: right;\">\n",
       "      <th></th>\n",
       "      <th>ID_LAT_LON_YEAR_WEEK</th>\n",
       "      <th>emission</th>\n",
       "    </tr>\n",
       "  </thead>\n",
       "  <tbody>\n",
       "    <tr>\n",
       "      <th>0</th>\n",
       "      <td>ID_-0.510_29.290_2022_00</td>\n",
       "      <td>3.176613</td>\n",
       "    </tr>\n",
       "    <tr>\n",
       "      <th>1</th>\n",
       "      <td>ID_-0.510_29.290_2022_01</td>\n",
       "      <td>4.003853</td>\n",
       "    </tr>\n",
       "    <tr>\n",
       "      <th>2</th>\n",
       "      <td>ID_-0.510_29.290_2022_02</td>\n",
       "      <td>3.938143</td>\n",
       "    </tr>\n",
       "    <tr>\n",
       "      <th>3</th>\n",
       "      <td>ID_-0.510_29.290_2022_03</td>\n",
       "      <td>3.962625</td>\n",
       "    </tr>\n",
       "    <tr>\n",
       "      <th>4</th>\n",
       "      <td>ID_-0.510_29.290_2022_04</td>\n",
       "      <td>4.062005</td>\n",
       "    </tr>\n",
       "    <tr>\n",
       "      <th>...</th>\n",
       "      <td>...</td>\n",
       "      <td>...</td>\n",
       "    </tr>\n",
       "    <tr>\n",
       "      <th>24348</th>\n",
       "      <td>ID_-3.299_30.301_2022_44</td>\n",
       "      <td>29.071867</td>\n",
       "    </tr>\n",
       "    <tr>\n",
       "      <th>24349</th>\n",
       "      <td>ID_-3.299_30.301_2022_45</td>\n",
       "      <td>29.417032</td>\n",
       "    </tr>\n",
       "    <tr>\n",
       "      <th>24350</th>\n",
       "      <td>ID_-3.299_30.301_2022_46</td>\n",
       "      <td>29.578025</td>\n",
       "    </tr>\n",
       "    <tr>\n",
       "      <th>24351</th>\n",
       "      <td>ID_-3.299_30.301_2022_47</td>\n",
       "      <td>30.109667</td>\n",
       "    </tr>\n",
       "    <tr>\n",
       "      <th>24352</th>\n",
       "      <td>ID_-3.299_30.301_2022_48</td>\n",
       "      <td>29.071237</td>\n",
       "    </tr>\n",
       "  </tbody>\n",
       "</table>\n",
       "<p>24353 rows × 2 columns</p>\n",
       "</div>"
      ],
      "text/plain": [
       "           ID_LAT_LON_YEAR_WEEK   emission\n",
       "0      ID_-0.510_29.290_2022_00   3.176613\n",
       "1      ID_-0.510_29.290_2022_01   4.003853\n",
       "2      ID_-0.510_29.290_2022_02   3.938143\n",
       "3      ID_-0.510_29.290_2022_03   3.962625\n",
       "4      ID_-0.510_29.290_2022_04   4.062005\n",
       "...                         ...        ...\n",
       "24348  ID_-3.299_30.301_2022_44  29.071867\n",
       "24349  ID_-3.299_30.301_2022_45  29.417032\n",
       "24350  ID_-3.299_30.301_2022_46  29.578025\n",
       "24351  ID_-3.299_30.301_2022_47  30.109667\n",
       "24352  ID_-3.299_30.301_2022_48  29.071237\n",
       "\n",
       "[24353 rows x 2 columns]"
      ]
     },
     "execution_count": 88,
     "metadata": {},
     "output_type": "execute_result"
    }
   ],
   "source": [
    "test_new2 = pd.concat([test_new_drop, test_new_na])\n",
    "test_new2.sort_index(inplace=True)\n",
    "test_new2"
   ]
  },
  {
   "cell_type": "code",
   "execution_count": 89,
   "metadata": {},
   "outputs": [],
   "source": [
    "# test_new2.to_csv('test_origin2.csv')"
   ]
  },
  {
   "cell_type": "code",
   "execution_count": 90,
   "metadata": {},
   "outputs": [
    {
     "data": {
      "text/plain": [
       "ID_LAT_LON_YEAR_WEEK        0\n",
       "emission                10471\n",
       "dtype: int64"
      ]
     },
     "execution_count": 90,
     "metadata": {},
     "output_type": "execute_result"
    }
   ],
   "source": [
    "test_new2.isna().sum()"
   ]
  },
  {
   "cell_type": "code",
   "execution_count": 95,
   "metadata": {},
   "outputs": [
    {
     "data": {
      "text/plain": [
       "['ID_-0.510_29.290_2022_00',\n",
       " 'ID_-0.510_29.290_2022_01',\n",
       " 'ID_-0.510_29.290_2022_02',\n",
       " 'ID_-0.510_29.290_2022_03',\n",
       " 'ID_-0.510_29.290_2022_04',\n",
       " 'ID_-0.510_29.290_2022_05',\n",
       " 'ID_-0.510_29.290_2022_06',\n",
       " 'ID_-0.510_29.290_2022_07',\n",
       " 'ID_-0.510_29.290_2022_08',\n",
       " 'ID_-0.510_29.290_2022_09']"
      ]
     },
     "execution_count": 95,
     "metadata": {},
     "output_type": "execute_result"
    }
   ],
   "source": [
    "subset_ids = list(test_new2['ID_LAT_LON_YEAR_WEEK'])\n",
    "subset_ids[:10]"
   ]
  },
  {
   "cell_type": "code",
   "execution_count": 111,
   "metadata": {},
   "outputs": [],
   "source": [
    "train_subset = pd.DataFrame(columns=train.columns)"
   ]
  },
  {
   "cell_type": "code",
   "execution_count": 112,
   "metadata": {},
   "outputs": [
    {
     "data": {
      "text/html": [
       "<div>\n",
       "<style scoped>\n",
       "    .dataframe tbody tr th:only-of-type {\n",
       "        vertical-align: middle;\n",
       "    }\n",
       "\n",
       "    .dataframe tbody tr th {\n",
       "        vertical-align: top;\n",
       "    }\n",
       "\n",
       "    .dataframe thead th {\n",
       "        text-align: right;\n",
       "    }\n",
       "</style>\n",
       "<table border=\"1\" class=\"dataframe\">\n",
       "  <thead>\n",
       "    <tr style=\"text-align: right;\">\n",
       "      <th></th>\n",
       "      <th>ID_LAT_LON_YEAR_WEEK</th>\n",
       "      <th>latitude</th>\n",
       "      <th>longitude</th>\n",
       "      <th>year</th>\n",
       "      <th>week_no</th>\n",
       "      <th>SulphurDioxide_SO2_column_number_density</th>\n",
       "      <th>SulphurDioxide_SO2_column_number_density_amf</th>\n",
       "      <th>SulphurDioxide_SO2_slant_column_number_density</th>\n",
       "      <th>SulphurDioxide_cloud_fraction</th>\n",
       "      <th>SulphurDioxide_sensor_azimuth_angle</th>\n",
       "      <th>...</th>\n",
       "      <th>Cloud_cloud_top_height</th>\n",
       "      <th>Cloud_cloud_base_pressure</th>\n",
       "      <th>Cloud_cloud_base_height</th>\n",
       "      <th>Cloud_cloud_optical_depth</th>\n",
       "      <th>Cloud_surface_albedo</th>\n",
       "      <th>Cloud_sensor_azimuth_angle</th>\n",
       "      <th>Cloud_sensor_zenith_angle</th>\n",
       "      <th>Cloud_solar_azimuth_angle</th>\n",
       "      <th>Cloud_solar_zenith_angle</th>\n",
       "      <th>emission</th>\n",
       "    </tr>\n",
       "  </thead>\n",
       "  <tbody>\n",
       "  </tbody>\n",
       "</table>\n",
       "<p>0 rows × 76 columns</p>\n",
       "</div>"
      ],
      "text/plain": [
       "Empty DataFrame\n",
       "Columns: [ID_LAT_LON_YEAR_WEEK, latitude, longitude, year, week_no, SulphurDioxide_SO2_column_number_density, SulphurDioxide_SO2_column_number_density_amf, SulphurDioxide_SO2_slant_column_number_density, SulphurDioxide_cloud_fraction, SulphurDioxide_sensor_azimuth_angle, SulphurDioxide_sensor_zenith_angle, SulphurDioxide_solar_azimuth_angle, SulphurDioxide_solar_zenith_angle, SulphurDioxide_SO2_column_number_density_15km, CarbonMonoxide_CO_column_number_density, CarbonMonoxide_H2O_column_number_density, CarbonMonoxide_cloud_height, CarbonMonoxide_sensor_altitude, CarbonMonoxide_sensor_azimuth_angle, CarbonMonoxide_sensor_zenith_angle, CarbonMonoxide_solar_azimuth_angle, CarbonMonoxide_solar_zenith_angle, NitrogenDioxide_NO2_column_number_density, NitrogenDioxide_tropospheric_NO2_column_number_density, NitrogenDioxide_stratospheric_NO2_column_number_density, NitrogenDioxide_NO2_slant_column_number_density, NitrogenDioxide_tropopause_pressure, NitrogenDioxide_absorbing_aerosol_index, NitrogenDioxide_cloud_fraction, NitrogenDioxide_sensor_altitude, NitrogenDioxide_sensor_azimuth_angle, NitrogenDioxide_sensor_zenith_angle, NitrogenDioxide_solar_azimuth_angle, NitrogenDioxide_solar_zenith_angle, Formaldehyde_tropospheric_HCHO_column_number_density, Formaldehyde_tropospheric_HCHO_column_number_density_amf, Formaldehyde_HCHO_slant_column_number_density, Formaldehyde_cloud_fraction, Formaldehyde_solar_zenith_angle, Formaldehyde_solar_azimuth_angle, Formaldehyde_sensor_zenith_angle, Formaldehyde_sensor_azimuth_angle, UvAerosolIndex_absorbing_aerosol_index, UvAerosolIndex_sensor_altitude, UvAerosolIndex_sensor_azimuth_angle, UvAerosolIndex_sensor_zenith_angle, UvAerosolIndex_solar_azimuth_angle, UvAerosolIndex_solar_zenith_angle, Ozone_O3_column_number_density, Ozone_O3_column_number_density_amf, Ozone_O3_slant_column_number_density, Ozone_O3_effective_temperature, Ozone_cloud_fraction, Ozone_sensor_azimuth_angle, Ozone_sensor_zenith_angle, Ozone_solar_azimuth_angle, Ozone_solar_zenith_angle, UvAerosolLayerHeight_aerosol_height, UvAerosolLayerHeight_aerosol_pressure, UvAerosolLayerHeight_aerosol_optical_depth, UvAerosolLayerHeight_sensor_zenith_angle, UvAerosolLayerHeight_sensor_azimuth_angle, UvAerosolLayerHeight_solar_azimuth_angle, UvAerosolLayerHeight_solar_zenith_angle, Cloud_cloud_fraction, Cloud_cloud_top_pressure, Cloud_cloud_top_height, Cloud_cloud_base_pressure, Cloud_cloud_base_height, Cloud_cloud_optical_depth, Cloud_surface_albedo, Cloud_sensor_azimuth_angle, Cloud_sensor_zenith_angle, Cloud_solar_azimuth_angle, Cloud_solar_zenith_angle, emission]\n",
       "Index: []\n",
       "\n",
       "[0 rows x 76 columns]"
      ]
     },
     "execution_count": 112,
     "metadata": {},
     "output_type": "execute_result"
    }
   ],
   "source": [
    "train_subset"
   ]
  },
  {
   "cell_type": "code",
   "execution_count": 105,
   "metadata": {},
   "outputs": [],
   "source": [
    "temp = train.iloc[[1]]"
   ]
  },
  {
   "cell_type": "code",
   "execution_count": 113,
   "metadata": {},
   "outputs": [
    {
     "data": {
      "text/html": [
       "<div>\n",
       "<style scoped>\n",
       "    .dataframe tbody tr th:only-of-type {\n",
       "        vertical-align: middle;\n",
       "    }\n",
       "\n",
       "    .dataframe tbody tr th {\n",
       "        vertical-align: top;\n",
       "    }\n",
       "\n",
       "    .dataframe thead th {\n",
       "        text-align: right;\n",
       "    }\n",
       "</style>\n",
       "<table border=\"1\" class=\"dataframe\">\n",
       "  <thead>\n",
       "    <tr style=\"text-align: right;\">\n",
       "      <th></th>\n",
       "      <th>ID_LAT_LON_YEAR_WEEK</th>\n",
       "      <th>latitude</th>\n",
       "      <th>longitude</th>\n",
       "      <th>year</th>\n",
       "      <th>week_no</th>\n",
       "      <th>SulphurDioxide_SO2_column_number_density</th>\n",
       "      <th>SulphurDioxide_SO2_column_number_density_amf</th>\n",
       "      <th>SulphurDioxide_SO2_slant_column_number_density</th>\n",
       "      <th>SulphurDioxide_cloud_fraction</th>\n",
       "      <th>SulphurDioxide_sensor_azimuth_angle</th>\n",
       "      <th>...</th>\n",
       "      <th>Cloud_cloud_top_height</th>\n",
       "      <th>Cloud_cloud_base_pressure</th>\n",
       "      <th>Cloud_cloud_base_height</th>\n",
       "      <th>Cloud_cloud_optical_depth</th>\n",
       "      <th>Cloud_surface_albedo</th>\n",
       "      <th>Cloud_sensor_azimuth_angle</th>\n",
       "      <th>Cloud_sensor_zenith_angle</th>\n",
       "      <th>Cloud_solar_azimuth_angle</th>\n",
       "      <th>Cloud_solar_zenith_angle</th>\n",
       "      <th>emission</th>\n",
       "    </tr>\n",
       "  </thead>\n",
       "  <tbody>\n",
       "    <tr>\n",
       "      <th>1</th>\n",
       "      <td>ID_-0.510_29.290_2019_01</td>\n",
       "      <td>-0.51</td>\n",
       "      <td>29.29</td>\n",
       "      <td>2019</td>\n",
       "      <td>1</td>\n",
       "      <td>0.000021</td>\n",
       "      <td>0.728214</td>\n",
       "      <td>0.000014</td>\n",
       "      <td>0.130988</td>\n",
       "      <td>16.592861</td>\n",
       "      <td>...</td>\n",
       "      <td>3651.190311</td>\n",
       "      <td>66969.478735</td>\n",
       "      <td>3174.572424</td>\n",
       "      <td>8.690601</td>\n",
       "      <td>0.25683</td>\n",
       "      <td>30.359375</td>\n",
       "      <td>39.557633</td>\n",
       "      <td>-145.18393</td>\n",
       "      <td>27.251779</td>\n",
       "      <td>4.025176</td>\n",
       "    </tr>\n",
       "  </tbody>\n",
       "</table>\n",
       "<p>1 rows × 76 columns</p>\n",
       "</div>"
      ],
      "text/plain": [
       "       ID_LAT_LON_YEAR_WEEK  latitude  longitude  year  week_no  \\\n",
       "1  ID_-0.510_29.290_2019_01     -0.51      29.29  2019        1   \n",
       "\n",
       "   SulphurDioxide_SO2_column_number_density  \\\n",
       "1                                  0.000021   \n",
       "\n",
       "   SulphurDioxide_SO2_column_number_density_amf  \\\n",
       "1                                      0.728214   \n",
       "\n",
       "   SulphurDioxide_SO2_slant_column_number_density  \\\n",
       "1                                        0.000014   \n",
       "\n",
       "   SulphurDioxide_cloud_fraction  SulphurDioxide_sensor_azimuth_angle  ...  \\\n",
       "1                       0.130988                            16.592861  ...   \n",
       "\n",
       "   Cloud_cloud_top_height  Cloud_cloud_base_pressure  Cloud_cloud_base_height  \\\n",
       "1             3651.190311               66969.478735              3174.572424   \n",
       "\n",
       "   Cloud_cloud_optical_depth  Cloud_surface_albedo  \\\n",
       "1                   8.690601               0.25683   \n",
       "\n",
       "   Cloud_sensor_azimuth_angle  Cloud_sensor_zenith_angle  \\\n",
       "1                   30.359375                  39.557633   \n",
       "\n",
       "   Cloud_solar_azimuth_angle  Cloud_solar_zenith_angle  emission  \n",
       "1                 -145.18393                 27.251779  4.025176  \n",
       "\n",
       "[1 rows x 76 columns]"
      ]
     },
     "execution_count": 113,
     "metadata": {},
     "output_type": "execute_result"
    }
   ],
   "source": [
    "temp"
   ]
  },
  {
   "cell_type": "code",
   "execution_count": 108,
   "metadata": {},
   "outputs": [
    {
     "data": {
      "text/html": [
       "<div>\n",
       "<style scoped>\n",
       "    .dataframe tbody tr th:only-of-type {\n",
       "        vertical-align: middle;\n",
       "    }\n",
       "\n",
       "    .dataframe tbody tr th {\n",
       "        vertical-align: top;\n",
       "    }\n",
       "\n",
       "    .dataframe thead th {\n",
       "        text-align: right;\n",
       "    }\n",
       "</style>\n",
       "<table border=\"1\" class=\"dataframe\">\n",
       "  <thead>\n",
       "    <tr style=\"text-align: right;\">\n",
       "      <th></th>\n",
       "      <th>ID_LAT_LON_YEAR_WEEK</th>\n",
       "      <th>latitude</th>\n",
       "      <th>longitude</th>\n",
       "      <th>year</th>\n",
       "      <th>week_no</th>\n",
       "      <th>SulphurDioxide_SO2_column_number_density</th>\n",
       "      <th>SulphurDioxide_SO2_column_number_density_amf</th>\n",
       "      <th>SulphurDioxide_SO2_slant_column_number_density</th>\n",
       "      <th>SulphurDioxide_cloud_fraction</th>\n",
       "      <th>SulphurDioxide_sensor_azimuth_angle</th>\n",
       "      <th>...</th>\n",
       "      <th>Cloud_cloud_top_height</th>\n",
       "      <th>Cloud_cloud_base_pressure</th>\n",
       "      <th>Cloud_cloud_base_height</th>\n",
       "      <th>Cloud_cloud_optical_depth</th>\n",
       "      <th>Cloud_surface_albedo</th>\n",
       "      <th>Cloud_sensor_azimuth_angle</th>\n",
       "      <th>Cloud_sensor_zenith_angle</th>\n",
       "      <th>Cloud_solar_azimuth_angle</th>\n",
       "      <th>Cloud_solar_zenith_angle</th>\n",
       "      <th>emission</th>\n",
       "    </tr>\n",
       "  </thead>\n",
       "  <tbody>\n",
       "  </tbody>\n",
       "</table>\n",
       "<p>0 rows × 76 columns</p>\n",
       "</div>"
      ],
      "text/plain": [
       "Empty DataFrame\n",
       "Columns: [ID_LAT_LON_YEAR_WEEK, latitude, longitude, year, week_no, SulphurDioxide_SO2_column_number_density, SulphurDioxide_SO2_column_number_density_amf, SulphurDioxide_SO2_slant_column_number_density, SulphurDioxide_cloud_fraction, SulphurDioxide_sensor_azimuth_angle, SulphurDioxide_sensor_zenith_angle, SulphurDioxide_solar_azimuth_angle, SulphurDioxide_solar_zenith_angle, SulphurDioxide_SO2_column_number_density_15km, CarbonMonoxide_CO_column_number_density, CarbonMonoxide_H2O_column_number_density, CarbonMonoxide_cloud_height, CarbonMonoxide_sensor_altitude, CarbonMonoxide_sensor_azimuth_angle, CarbonMonoxide_sensor_zenith_angle, CarbonMonoxide_solar_azimuth_angle, CarbonMonoxide_solar_zenith_angle, NitrogenDioxide_NO2_column_number_density, NitrogenDioxide_tropospheric_NO2_column_number_density, NitrogenDioxide_stratospheric_NO2_column_number_density, NitrogenDioxide_NO2_slant_column_number_density, NitrogenDioxide_tropopause_pressure, NitrogenDioxide_absorbing_aerosol_index, NitrogenDioxide_cloud_fraction, NitrogenDioxide_sensor_altitude, NitrogenDioxide_sensor_azimuth_angle, NitrogenDioxide_sensor_zenith_angle, NitrogenDioxide_solar_azimuth_angle, NitrogenDioxide_solar_zenith_angle, Formaldehyde_tropospheric_HCHO_column_number_density, Formaldehyde_tropospheric_HCHO_column_number_density_amf, Formaldehyde_HCHO_slant_column_number_density, Formaldehyde_cloud_fraction, Formaldehyde_solar_zenith_angle, Formaldehyde_solar_azimuth_angle, Formaldehyde_sensor_zenith_angle, Formaldehyde_sensor_azimuth_angle, UvAerosolIndex_absorbing_aerosol_index, UvAerosolIndex_sensor_altitude, UvAerosolIndex_sensor_azimuth_angle, UvAerosolIndex_sensor_zenith_angle, UvAerosolIndex_solar_azimuth_angle, UvAerosolIndex_solar_zenith_angle, Ozone_O3_column_number_density, Ozone_O3_column_number_density_amf, Ozone_O3_slant_column_number_density, Ozone_O3_effective_temperature, Ozone_cloud_fraction, Ozone_sensor_azimuth_angle, Ozone_sensor_zenith_angle, Ozone_solar_azimuth_angle, Ozone_solar_zenith_angle, UvAerosolLayerHeight_aerosol_height, UvAerosolLayerHeight_aerosol_pressure, UvAerosolLayerHeight_aerosol_optical_depth, UvAerosolLayerHeight_sensor_zenith_angle, UvAerosolLayerHeight_sensor_azimuth_angle, UvAerosolLayerHeight_solar_azimuth_angle, UvAerosolLayerHeight_solar_zenith_angle, Cloud_cloud_fraction, Cloud_cloud_top_pressure, Cloud_cloud_top_height, Cloud_cloud_base_pressure, Cloud_cloud_base_height, Cloud_cloud_optical_depth, Cloud_surface_albedo, Cloud_sensor_azimuth_angle, Cloud_sensor_zenith_angle, Cloud_solar_azimuth_angle, Cloud_solar_zenith_angle, emission]\n",
       "Index: []\n",
       "\n",
       "[0 rows x 76 columns]"
      ]
     },
     "execution_count": 108,
     "metadata": {},
     "output_type": "execute_result"
    }
   ],
   "source": [
    "train_subset"
   ]
  },
  {
   "cell_type": "code",
   "execution_count": 110,
   "metadata": {},
   "outputs": [
    {
     "ename": "ValueError",
     "evalue": "cannot set a row with mismatched columns",
     "output_type": "error",
     "traceback": [
      "\u001b[1;31m---------------------------------------------------------------------------\u001b[0m",
      "\u001b[1;31mValueError\u001b[0m                                Traceback (most recent call last)",
      "Cell \u001b[1;32mIn[110], line 1\u001b[0m\n\u001b[1;32m----> 1\u001b[0m train_subset\u001b[39m.\u001b[39;49mloc[\u001b[39mlen\u001b[39;49m(train_subset)] \u001b[39m=\u001b[39m temp\n",
      "File \u001b[1;32mc:\\Users\\loven\\dev\\kaggle_competition\\carbon\\carbon\\lib\\site-packages\\pandas\\core\\indexing.py:849\u001b[0m, in \u001b[0;36m_LocationIndexer.__setitem__\u001b[1;34m(self, key, value)\u001b[0m\n\u001b[0;32m    846\u001b[0m \u001b[39mself\u001b[39m\u001b[39m.\u001b[39m_has_valid_setitem_indexer(key)\n\u001b[0;32m    848\u001b[0m iloc \u001b[39m=\u001b[39m \u001b[39mself\u001b[39m \u001b[39mif\u001b[39;00m \u001b[39mself\u001b[39m\u001b[39m.\u001b[39mname \u001b[39m==\u001b[39m \u001b[39m\"\u001b[39m\u001b[39miloc\u001b[39m\u001b[39m\"\u001b[39m \u001b[39melse\u001b[39;00m \u001b[39mself\u001b[39m\u001b[39m.\u001b[39mobj\u001b[39m.\u001b[39miloc\n\u001b[1;32m--> 849\u001b[0m iloc\u001b[39m.\u001b[39;49m_setitem_with_indexer(indexer, value, \u001b[39mself\u001b[39;49m\u001b[39m.\u001b[39;49mname)\n",
      "File \u001b[1;32mc:\\Users\\loven\\dev\\kaggle_competition\\carbon\\carbon\\lib\\site-packages\\pandas\\core\\indexing.py:1825\u001b[0m, in \u001b[0;36m_iLocIndexer._setitem_with_indexer\u001b[1;34m(self, indexer, value, name)\u001b[0m\n\u001b[0;32m   1822\u001b[0m     indexer, missing \u001b[39m=\u001b[39m convert_missing_indexer(indexer)\n\u001b[0;32m   1824\u001b[0m     \u001b[39mif\u001b[39;00m missing:\n\u001b[1;32m-> 1825\u001b[0m         \u001b[39mself\u001b[39;49m\u001b[39m.\u001b[39;49m_setitem_with_indexer_missing(indexer, value)\n\u001b[0;32m   1826\u001b[0m         \u001b[39mreturn\u001b[39;00m\n\u001b[0;32m   1828\u001b[0m \u001b[39mif\u001b[39;00m name \u001b[39m==\u001b[39m \u001b[39m\"\u001b[39m\u001b[39mloc\u001b[39m\u001b[39m\"\u001b[39m:\n\u001b[0;32m   1829\u001b[0m     \u001b[39m# must come after setting of missing\u001b[39;00m\n",
      "File \u001b[1;32mc:\\Users\\loven\\dev\\kaggle_competition\\carbon\\carbon\\lib\\site-packages\\pandas\\core\\indexing.py:2158\u001b[0m, in \u001b[0;36m_iLocIndexer._setitem_with_indexer_missing\u001b[1;34m(self, indexer, value)\u001b[0m\n\u001b[0;32m   2155\u001b[0m     \u001b[39mif\u001b[39;00m is_list_like_indexer(value):\n\u001b[0;32m   2156\u001b[0m         \u001b[39m# must have conforming columns\u001b[39;00m\n\u001b[0;32m   2157\u001b[0m         \u001b[39mif\u001b[39;00m \u001b[39mlen\u001b[39m(value) \u001b[39m!=\u001b[39m \u001b[39mlen\u001b[39m(\u001b[39mself\u001b[39m\u001b[39m.\u001b[39mobj\u001b[39m.\u001b[39mcolumns):\n\u001b[1;32m-> 2158\u001b[0m             \u001b[39mraise\u001b[39;00m \u001b[39mValueError\u001b[39;00m(\u001b[39m\"\u001b[39m\u001b[39mcannot set a row with mismatched columns\u001b[39m\u001b[39m\"\u001b[39m)\n\u001b[0;32m   2160\u001b[0m     value \u001b[39m=\u001b[39m Series(value, index\u001b[39m=\u001b[39m\u001b[39mself\u001b[39m\u001b[39m.\u001b[39mobj\u001b[39m.\u001b[39mcolumns, name\u001b[39m=\u001b[39mindexer)\n\u001b[0;32m   2162\u001b[0m \u001b[39mif\u001b[39;00m \u001b[39mnot\u001b[39;00m \u001b[39mlen\u001b[39m(\u001b[39mself\u001b[39m\u001b[39m.\u001b[39mobj):\n\u001b[0;32m   2163\u001b[0m     \u001b[39m# We will ignore the existing dtypes instead of using\u001b[39;00m\n\u001b[0;32m   2164\u001b[0m     \u001b[39m#  internals.concat logic\u001b[39;00m\n",
      "\u001b[1;31mValueError\u001b[0m: cannot set a row with mismatched columns"
     ]
    }
   ],
   "source": [
    "train_subset.iloc[len(train_subset)] = temp"
   ]
  },
  {
   "cell_type": "code",
   "execution_count": 33,
   "metadata": {},
   "outputs": [],
   "source": [
    "ANNUAL_INCREASEMENT_RATIO = 1.09738621"
   ]
  },
  {
   "cell_type": "code",
   "execution_count": 36,
   "metadata": {},
   "outputs": [
    {
     "data": {
      "text/html": [
       "<div>\n",
       "<style scoped>\n",
       "    .dataframe tbody tr th:only-of-type {\n",
       "        vertical-align: middle;\n",
       "    }\n",
       "\n",
       "    .dataframe tbody tr th {\n",
       "        vertical-align: top;\n",
       "    }\n",
       "\n",
       "    .dataframe thead th {\n",
       "        text-align: right;\n",
       "    }\n",
       "</style>\n",
       "<table border=\"1\" class=\"dataframe\">\n",
       "  <thead>\n",
       "    <tr style=\"text-align: right;\">\n",
       "      <th></th>\n",
       "      <th>ID_LAT_LON_YEAR_WEEK</th>\n",
       "      <th>emission</th>\n",
       "    </tr>\n",
       "  </thead>\n",
       "  <tbody>\n",
       "    <tr>\n",
       "      <th>0</th>\n",
       "      <td>ID_-0.510_29.290_2022_00</td>\n",
       "      <td>3.535276</td>\n",
       "    </tr>\n",
       "    <tr>\n",
       "      <th>1</th>\n",
       "      <td>ID_-0.510_29.290_2022_01</td>\n",
       "      <td>3.998495</td>\n",
       "    </tr>\n",
       "    <tr>\n",
       "      <th>2</th>\n",
       "      <td>ID_-0.510_29.290_2022_02</td>\n",
       "      <td>4.131075</td>\n",
       "    </tr>\n",
       "    <tr>\n",
       "      <th>3</th>\n",
       "      <td>ID_-0.510_29.290_2022_03</td>\n",
       "      <td>4.194229</td>\n",
       "    </tr>\n",
       "    <tr>\n",
       "      <th>4</th>\n",
       "      <td>ID_-0.510_29.290_2022_04</td>\n",
       "      <td>4.254535</td>\n",
       "    </tr>\n",
       "    <tr>\n",
       "      <th>...</th>\n",
       "      <td>...</td>\n",
       "      <td>...</td>\n",
       "    </tr>\n",
       "    <tr>\n",
       "      <th>24348</th>\n",
       "      <td>ID_-3.299_30.301_2022_44</td>\n",
       "      <td>29.836845</td>\n",
       "    </tr>\n",
       "    <tr>\n",
       "      <th>24349</th>\n",
       "      <td>ID_-3.299_30.301_2022_45</td>\n",
       "      <td>30.249885</td>\n",
       "    </tr>\n",
       "    <tr>\n",
       "      <th>24350</th>\n",
       "      <td>ID_-3.299_30.301_2022_46</td>\n",
       "      <td>30.432126</td>\n",
       "    </tr>\n",
       "    <tr>\n",
       "      <th>24351</th>\n",
       "      <td>ID_-3.299_30.301_2022_47</td>\n",
       "      <td>30.86862</td>\n",
       "    </tr>\n",
       "    <tr>\n",
       "      <th>24352</th>\n",
       "      <td>ID_-3.299_30.301_2022_48</td>\n",
       "      <td>29.674269</td>\n",
       "    </tr>\n",
       "  </tbody>\n",
       "</table>\n",
       "<p>24353 rows × 2 columns</p>\n",
       "</div>"
      ],
      "text/plain": [
       "           ID_LAT_LON_YEAR_WEEK   emission\n",
       "0      ID_-0.510_29.290_2022_00   3.535276\n",
       "1      ID_-0.510_29.290_2022_01   3.998495\n",
       "2      ID_-0.510_29.290_2022_02   4.131075\n",
       "3      ID_-0.510_29.290_2022_03   4.194229\n",
       "4      ID_-0.510_29.290_2022_04   4.254535\n",
       "...                         ...        ...\n",
       "24348  ID_-3.299_30.301_2022_44  29.836845\n",
       "24349  ID_-3.299_30.301_2022_45  30.249885\n",
       "24350  ID_-3.299_30.301_2022_46  30.432126\n",
       "24351  ID_-3.299_30.301_2022_47   30.86862\n",
       "24352  ID_-3.299_30.301_2022_48  29.674269\n",
       "\n",
       "[24353 rows x 2 columns]"
      ]
     },
     "execution_count": 36,
     "metadata": {},
     "output_type": "execute_result"
    }
   ],
   "source": [
    "test['emission'] = test['emission'] / ANNUAL_INCREASEMENT_RATIO\n",
    "test"
   ]
  },
  {
   "cell_type": "code",
   "execution_count": 35,
   "metadata": {},
   "outputs": [],
   "source": [
    "test.to_csv('test6_3.csv')"
   ]
  }
 ],
 "metadata": {
  "kernelspec": {
   "display_name": "carbon",
   "language": "python",
   "name": "python3"
  },
  "language_info": {
   "codemirror_mode": {
    "name": "ipython",
    "version": 3
   },
   "file_extension": ".py",
   "mimetype": "text/x-python",
   "name": "python",
   "nbconvert_exporter": "python",
   "pygments_lexer": "ipython3",
   "version": "3.8.8"
  },
  "orig_nbformat": 4
 },
 "nbformat": 4,
 "nbformat_minor": 2
}
