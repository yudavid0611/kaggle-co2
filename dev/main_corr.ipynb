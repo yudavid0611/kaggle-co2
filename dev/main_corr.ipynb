{
 "cells": [
  {
   "cell_type": "code",
   "execution_count": 113,
   "metadata": {},
   "outputs": [],
   "source": [
    "import os\n",
    "import pandas as pd\n",
    "\n",
    "from sklearn.linear_model import LinearRegression\n",
    "import numpy as np\n"
   ]
  },
  {
   "cell_type": "code",
   "execution_count": 114,
   "metadata": {},
   "outputs": [
    {
     "name": "stdout",
     "output_type": "stream",
     "text": [
      "train shape: (79023, 76)\n",
      "test shape: (24353, 75)\n"
     ]
    }
   ],
   "source": [
    "DATA_PATH = './data'\n",
    "\n",
    "train = pd.read_csv(os.path.join(DATA_PATH, 'train.csv'))\n",
    "test = pd.read_csv(os.path.join(DATA_PATH, 'test.csv'))\n",
    "\n",
    "# train_origin = train.copy()\n",
    "# test_origin = test.copy()\n",
    "\n",
    "print(f'train shape: {train.shape}')\n",
    "print(f'test shape: {test.shape}')"
   ]
  },
  {
   "cell_type": "code",
   "execution_count": 115,
   "metadata": {},
   "outputs": [],
   "source": [
    "test['emission'] = None\n",
    "test = test[['ID_LAT_LON_YEAR_WEEK', 'emission']]"
   ]
  },
  {
   "cell_type": "code",
   "execution_count": 116,
   "metadata": {},
   "outputs": [
    {
     "data": {
      "text/html": [
       "<div>\n",
       "<style scoped>\n",
       "    .dataframe tbody tr th:only-of-type {\n",
       "        vertical-align: middle;\n",
       "    }\n",
       "\n",
       "    .dataframe tbody tr th {\n",
       "        vertical-align: top;\n",
       "    }\n",
       "\n",
       "    .dataframe thead th {\n",
       "        text-align: right;\n",
       "    }\n",
       "</style>\n",
       "<table border=\"1\" class=\"dataframe\">\n",
       "  <thead>\n",
       "    <tr style=\"text-align: right;\">\n",
       "      <th></th>\n",
       "      <th>ID_LAT_LON_YEAR_WEEK</th>\n",
       "      <th>emission</th>\n",
       "    </tr>\n",
       "  </thead>\n",
       "  <tbody>\n",
       "    <tr>\n",
       "      <th>0</th>\n",
       "      <td>ID_-0.510_29.290_2022_00</td>\n",
       "      <td>None</td>\n",
       "    </tr>\n",
       "    <tr>\n",
       "      <th>1</th>\n",
       "      <td>ID_-0.510_29.290_2022_01</td>\n",
       "      <td>None</td>\n",
       "    </tr>\n",
       "    <tr>\n",
       "      <th>2</th>\n",
       "      <td>ID_-0.510_29.290_2022_02</td>\n",
       "      <td>None</td>\n",
       "    </tr>\n",
       "    <tr>\n",
       "      <th>3</th>\n",
       "      <td>ID_-0.510_29.290_2022_03</td>\n",
       "      <td>None</td>\n",
       "    </tr>\n",
       "    <tr>\n",
       "      <th>4</th>\n",
       "      <td>ID_-0.510_29.290_2022_04</td>\n",
       "      <td>None</td>\n",
       "    </tr>\n",
       "    <tr>\n",
       "      <th>...</th>\n",
       "      <td>...</td>\n",
       "      <td>...</td>\n",
       "    </tr>\n",
       "    <tr>\n",
       "      <th>24348</th>\n",
       "      <td>ID_-3.299_30.301_2022_44</td>\n",
       "      <td>None</td>\n",
       "    </tr>\n",
       "    <tr>\n",
       "      <th>24349</th>\n",
       "      <td>ID_-3.299_30.301_2022_45</td>\n",
       "      <td>None</td>\n",
       "    </tr>\n",
       "    <tr>\n",
       "      <th>24350</th>\n",
       "      <td>ID_-3.299_30.301_2022_46</td>\n",
       "      <td>None</td>\n",
       "    </tr>\n",
       "    <tr>\n",
       "      <th>24351</th>\n",
       "      <td>ID_-3.299_30.301_2022_47</td>\n",
       "      <td>None</td>\n",
       "    </tr>\n",
       "    <tr>\n",
       "      <th>24352</th>\n",
       "      <td>ID_-3.299_30.301_2022_48</td>\n",
       "      <td>None</td>\n",
       "    </tr>\n",
       "  </tbody>\n",
       "</table>\n",
       "<p>24353 rows × 2 columns</p>\n",
       "</div>"
      ],
      "text/plain": [
       "           ID_LAT_LON_YEAR_WEEK emission\n",
       "0      ID_-0.510_29.290_2022_00     None\n",
       "1      ID_-0.510_29.290_2022_01     None\n",
       "2      ID_-0.510_29.290_2022_02     None\n",
       "3      ID_-0.510_29.290_2022_03     None\n",
       "4      ID_-0.510_29.290_2022_04     None\n",
       "...                         ...      ...\n",
       "24348  ID_-3.299_30.301_2022_44     None\n",
       "24349  ID_-3.299_30.301_2022_45     None\n",
       "24350  ID_-3.299_30.301_2022_46     None\n",
       "24351  ID_-3.299_30.301_2022_47     None\n",
       "24352  ID_-3.299_30.301_2022_48     None\n",
       "\n",
       "[24353 rows x 2 columns]"
      ]
     },
     "execution_count": 116,
     "metadata": {},
     "output_type": "execute_result"
    }
   ],
   "source": [
    "test"
   ]
  },
  {
   "cell_type": "code",
   "execution_count": 117,
   "metadata": {},
   "outputs": [
    {
     "data": {
      "text/plain": [
       "array(['ID_-0.510_29.290_2022_00', 'ID_-0.510_29.290_2022_01',\n",
       "       'ID_-0.510_29.290_2022_02', ..., 'ID_-3.299_30.301_2022_46',\n",
       "       'ID_-3.299_30.301_2022_47', 'ID_-3.299_30.301_2022_48'],\n",
       "      dtype=object)"
      ]
     },
     "execution_count": 117,
     "metadata": {},
     "output_type": "execute_result"
    }
   ],
   "source": [
    "test_ids = test['ID_LAT_LON_YEAR_WEEK'].values\n",
    "test_ids"
   ]
  },
  {
   "cell_type": "code",
   "execution_count": 118,
   "metadata": {},
   "outputs": [],
   "source": [
    "for i in test_ids:\n",
    "    # ID_LAT_LON\n",
    "    id_lat_lon_idx = i.index('2022')\n",
    "    id_lat_lon = i[:id_lat_lon_idx - 1]\n",
    "\n",
    "    # week\n",
    "    week = i[-2:]\n",
    "\n",
    "    # train에서 같은 ID 찾기\n",
    "    df = train.loc[train['ID_LAT_LON_YEAR_WEEK'].str.startswith(id_lat_lon)]\n",
    "    df = df.loc[df['ID_LAT_LON_YEAR_WEEK'].str.endswith(week)]\n",
    "\n",
    "    # 상관계수 구하기\n",
    "    corr = df[['year', 'emission']].corr()\n",
    "    if abs(corr['emission']['year']) >= 0.8:\n",
    "        X = np.expand_dims(df.loc[:, 'year'].values, axis=1)\n",
    "        y = np.expand_dims(df.loc[:, 'emission'].values, axis=1)\n",
    "        \n",
    "        lr = LinearRegression(fit_intercept=True)\n",
    "\n",
    "        lr.fit(X, y) ## 모형 적합\n",
    "        value = lr.predict([[2022]])\n",
    "        \n",
    "    else:\n",
    "        value = df['emission'].mean()\n",
    "    \n",
    "    test.loc[test['ID_LAT_LON_YEAR_WEEK'] == i, 'emission'] = value"
   ]
  },
  {
   "cell_type": "code",
   "execution_count": 139,
   "metadata": {},
   "outputs": [],
   "source": [
    "test"
   ]
  },
  {
   "cell_type": "code",
   "execution_count": 143,
   "metadata": {},
   "outputs": [
    {
     "data": {
      "text/html": [
       "<div>\n",
       "<style scoped>\n",
       "    .dataframe tbody tr th:only-of-type {\n",
       "        vertical-align: middle;\n",
       "    }\n",
       "\n",
       "    .dataframe tbody tr th {\n",
       "        vertical-align: top;\n",
       "    }\n",
       "\n",
       "    .dataframe thead th {\n",
       "        text-align: right;\n",
       "    }\n",
       "</style>\n",
       "<table border=\"1\" class=\"dataframe\">\n",
       "  <thead>\n",
       "    <tr style=\"text-align: right;\">\n",
       "      <th></th>\n",
       "      <th>ID_LAT_LON_YEAR_WEEK</th>\n",
       "      <th>emission</th>\n",
       "    </tr>\n",
       "  </thead>\n",
       "  <tbody>\n",
       "    <tr>\n",
       "      <th>0</th>\n",
       "      <td>ID_-0.510_29.290_2022_00</td>\n",
       "      <td>3.176613</td>\n",
       "    </tr>\n",
       "    <tr>\n",
       "      <th>1</th>\n",
       "      <td>ID_-0.510_29.290_2022_01</td>\n",
       "      <td>4.016319</td>\n",
       "    </tr>\n",
       "    <tr>\n",
       "      <th>2</th>\n",
       "      <td>ID_-0.510_29.290_2022_02</td>\n",
       "      <td>3.938143</td>\n",
       "    </tr>\n",
       "    <tr>\n",
       "      <th>3</th>\n",
       "      <td>ID_-0.510_29.290_2022_03</td>\n",
       "      <td>3.962625</td>\n",
       "    </tr>\n",
       "    <tr>\n",
       "      <th>4</th>\n",
       "      <td>ID_-0.510_29.290_2022_04</td>\n",
       "      <td>4.062005</td>\n",
       "    </tr>\n",
       "    <tr>\n",
       "      <th>...</th>\n",
       "      <td>...</td>\n",
       "      <td>...</td>\n",
       "    </tr>\n",
       "    <tr>\n",
       "      <th>24348</th>\n",
       "      <td>ID_-3.299_30.301_2022_44</td>\n",
       "      <td>28.725407</td>\n",
       "    </tr>\n",
       "    <tr>\n",
       "      <th>24349</th>\n",
       "      <td>ID_-3.299_30.301_2022_45</td>\n",
       "      <td>29.048892</td>\n",
       "    </tr>\n",
       "    <tr>\n",
       "      <th>24350</th>\n",
       "      <td>ID_-3.299_30.301_2022_46</td>\n",
       "      <td>29.252211</td>\n",
       "    </tr>\n",
       "    <tr>\n",
       "      <th>24351</th>\n",
       "      <td>ID_-3.299_30.301_2022_47</td>\n",
       "      <td>29.794027</td>\n",
       "    </tr>\n",
       "    <tr>\n",
       "      <th>24352</th>\n",
       "      <td>ID_-3.299_30.301_2022_48</td>\n",
       "      <td>28.759248</td>\n",
       "    </tr>\n",
       "  </tbody>\n",
       "</table>\n",
       "<p>24353 rows × 2 columns</p>\n",
       "</div>"
      ],
      "text/plain": [
       "           ID_LAT_LON_YEAR_WEEK   emission\n",
       "0      ID_-0.510_29.290_2022_00   3.176613\n",
       "1      ID_-0.510_29.290_2022_01   4.016319\n",
       "2      ID_-0.510_29.290_2022_02   3.938143\n",
       "3      ID_-0.510_29.290_2022_03   3.962625\n",
       "4      ID_-0.510_29.290_2022_04   4.062005\n",
       "...                         ...        ...\n",
       "24348  ID_-3.299_30.301_2022_44  28.725407\n",
       "24349  ID_-3.299_30.301_2022_45  29.048892\n",
       "24350  ID_-3.299_30.301_2022_46  29.252211\n",
       "24351  ID_-3.299_30.301_2022_47  29.794027\n",
       "24352  ID_-3.299_30.301_2022_48  28.759248\n",
       "\n",
       "[24353 rows x 2 columns]"
      ]
     },
     "execution_count": 143,
     "metadata": {},
     "output_type": "execute_result"
    }
   ],
   "source": [
    "test['emission'] = test['emission'] * 1.06\n",
    "test"
   ]
  },
  {
   "cell_type": "code",
   "execution_count": 142,
   "metadata": {},
   "outputs": [],
   "source": [
    "test.to_csv('test2.csv')"
   ]
  }
 ],
 "metadata": {
  "kernelspec": {
   "display_name": "carbon",
   "language": "python",
   "name": "python3"
  },
  "language_info": {
   "codemirror_mode": {
    "name": "ipython",
    "version": 3
   },
   "file_extension": ".py",
   "mimetype": "text/x-python",
   "name": "python",
   "nbconvert_exporter": "python",
   "pygments_lexer": "ipython3",
   "version": "3.8.8"
  },
  "orig_nbformat": 4
 },
 "nbformat": 4,
 "nbformat_minor": 2
}
