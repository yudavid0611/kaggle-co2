{
 "cells": [
  {
   "cell_type": "code",
   "execution_count": 1,
   "metadata": {},
   "outputs": [],
   "source": [
    "import os\n",
    "import pandas as pd\n",
    "from tools.dataset import score_dataset\n",
    "from tools.preprocessing.missing_values import get_missing_raio, delete_columns, impute_missing_values\n",
    "from tools.preprocessing.outliers import delete_outliers, impute_outliers, get_limits\n",
    "from tools.preprocessing.scaling import minmax\n",
    "from tools.engineering.mi import mi_score\n",
    "from tools.engineering.encoding import one_hot\n",
    "from tools.engineering.clustering import kmc\n"
   ]
  },
  {
   "cell_type": "markdown",
   "metadata": {},
   "source": [
    "# 1. 데이터 로드"
   ]
  },
  {
   "cell_type": "code",
   "execution_count": 2,
   "metadata": {},
   "outputs": [
    {
     "name": "stdout",
     "output_type": "stream",
     "text": [
      "train shape: (79023, 76)\n",
      "test shape: (24353, 75)\n"
     ]
    }
   ],
   "source": [
    "DATA_PATH = './data'\n",
    "\n",
    "train = pd.read_csv(os.path.join(DATA_PATH, 'train.csv'))\n",
    "test = pd.read_csv(os.path.join(DATA_PATH, 'test.csv'))\n",
    "\n",
    "# train_origin = train.copy()\n",
    "# test_origin = test.copy()\n",
    "\n",
    "print(f'train shape: {train.shape}')\n",
    "print(f'test shape: {test.shape}')"
   ]
  },
  {
   "cell_type": "code",
   "execution_count": 3,
   "metadata": {},
   "outputs": [
    {
     "data": {
      "text/html": [
       "<div>\n",
       "<style scoped>\n",
       "    .dataframe tbody tr th:only-of-type {\n",
       "        vertical-align: middle;\n",
       "    }\n",
       "\n",
       "    .dataframe tbody tr th {\n",
       "        vertical-align: top;\n",
       "    }\n",
       "\n",
       "    .dataframe thead th {\n",
       "        text-align: right;\n",
       "    }\n",
       "</style>\n",
       "<table border=\"1\" class=\"dataframe\">\n",
       "  <thead>\n",
       "    <tr style=\"text-align: right;\">\n",
       "      <th></th>\n",
       "      <th>ID_LAT_LON_YEAR_WEEK</th>\n",
       "      <th>latitude</th>\n",
       "      <th>longitude</th>\n",
       "      <th>year</th>\n",
       "      <th>week_no</th>\n",
       "      <th>SulphurDioxide_SO2_column_number_density</th>\n",
       "      <th>SulphurDioxide_SO2_column_number_density_amf</th>\n",
       "      <th>SulphurDioxide_SO2_slant_column_number_density</th>\n",
       "      <th>SulphurDioxide_cloud_fraction</th>\n",
       "      <th>SulphurDioxide_sensor_azimuth_angle</th>\n",
       "      <th>...</th>\n",
       "      <th>Cloud_cloud_top_height</th>\n",
       "      <th>Cloud_cloud_base_pressure</th>\n",
       "      <th>Cloud_cloud_base_height</th>\n",
       "      <th>Cloud_cloud_optical_depth</th>\n",
       "      <th>Cloud_surface_albedo</th>\n",
       "      <th>Cloud_sensor_azimuth_angle</th>\n",
       "      <th>Cloud_sensor_zenith_angle</th>\n",
       "      <th>Cloud_solar_azimuth_angle</th>\n",
       "      <th>Cloud_solar_zenith_angle</th>\n",
       "      <th>emission</th>\n",
       "    </tr>\n",
       "  </thead>\n",
       "  <tbody>\n",
       "    <tr>\n",
       "      <th>0</th>\n",
       "      <td>ID_-0.510_29.290_2019_00</td>\n",
       "      <td>-0.51</td>\n",
       "      <td>29.29</td>\n",
       "      <td>2019</td>\n",
       "      <td>0</td>\n",
       "      <td>-0.000108</td>\n",
       "      <td>0.603019</td>\n",
       "      <td>-0.000065</td>\n",
       "      <td>0.255668</td>\n",
       "      <td>-98.593887</td>\n",
       "      <td>...</td>\n",
       "      <td>3664.436218</td>\n",
       "      <td>61085.809570</td>\n",
       "      <td>2615.120483</td>\n",
       "      <td>15.568533</td>\n",
       "      <td>0.272292</td>\n",
       "      <td>-12.628986</td>\n",
       "      <td>35.632416</td>\n",
       "      <td>-138.786423</td>\n",
       "      <td>30.752140</td>\n",
       "      <td>3.750994</td>\n",
       "    </tr>\n",
       "    <tr>\n",
       "      <th>1</th>\n",
       "      <td>ID_-0.510_29.290_2019_01</td>\n",
       "      <td>-0.51</td>\n",
       "      <td>29.29</td>\n",
       "      <td>2019</td>\n",
       "      <td>1</td>\n",
       "      <td>0.000021</td>\n",
       "      <td>0.728214</td>\n",
       "      <td>0.000014</td>\n",
       "      <td>0.130988</td>\n",
       "      <td>16.592861</td>\n",
       "      <td>...</td>\n",
       "      <td>3651.190311</td>\n",
       "      <td>66969.478735</td>\n",
       "      <td>3174.572424</td>\n",
       "      <td>8.690601</td>\n",
       "      <td>0.256830</td>\n",
       "      <td>30.359375</td>\n",
       "      <td>39.557633</td>\n",
       "      <td>-145.183930</td>\n",
       "      <td>27.251779</td>\n",
       "      <td>4.025176</td>\n",
       "    </tr>\n",
       "    <tr>\n",
       "      <th>2</th>\n",
       "      <td>ID_-0.510_29.290_2019_02</td>\n",
       "      <td>-0.51</td>\n",
       "      <td>29.29</td>\n",
       "      <td>2019</td>\n",
       "      <td>2</td>\n",
       "      <td>0.000514</td>\n",
       "      <td>0.748199</td>\n",
       "      <td>0.000385</td>\n",
       "      <td>0.110018</td>\n",
       "      <td>72.795837</td>\n",
       "      <td>...</td>\n",
       "      <td>4216.986492</td>\n",
       "      <td>60068.894448</td>\n",
       "      <td>3516.282669</td>\n",
       "      <td>21.103410</td>\n",
       "      <td>0.251101</td>\n",
       "      <td>15.377883</td>\n",
       "      <td>30.401823</td>\n",
       "      <td>-142.519545</td>\n",
       "      <td>26.193296</td>\n",
       "      <td>4.231381</td>\n",
       "    </tr>\n",
       "    <tr>\n",
       "      <th>3</th>\n",
       "      <td>ID_-0.510_29.290_2019_03</td>\n",
       "      <td>-0.51</td>\n",
       "      <td>29.29</td>\n",
       "      <td>2019</td>\n",
       "      <td>3</td>\n",
       "      <td>NaN</td>\n",
       "      <td>NaN</td>\n",
       "      <td>NaN</td>\n",
       "      <td>NaN</td>\n",
       "      <td>NaN</td>\n",
       "      <td>...</td>\n",
       "      <td>5228.507736</td>\n",
       "      <td>51064.547339</td>\n",
       "      <td>4180.973322</td>\n",
       "      <td>15.386899</td>\n",
       "      <td>0.262043</td>\n",
       "      <td>-11.293399</td>\n",
       "      <td>24.380357</td>\n",
       "      <td>-132.665828</td>\n",
       "      <td>28.829155</td>\n",
       "      <td>4.305286</td>\n",
       "    </tr>\n",
       "    <tr>\n",
       "      <th>4</th>\n",
       "      <td>ID_-0.510_29.290_2019_04</td>\n",
       "      <td>-0.51</td>\n",
       "      <td>29.29</td>\n",
       "      <td>2019</td>\n",
       "      <td>4</td>\n",
       "      <td>-0.000079</td>\n",
       "      <td>0.676296</td>\n",
       "      <td>-0.000048</td>\n",
       "      <td>0.121164</td>\n",
       "      <td>4.121269</td>\n",
       "      <td>...</td>\n",
       "      <td>3980.598120</td>\n",
       "      <td>63751.125781</td>\n",
       "      <td>3355.710107</td>\n",
       "      <td>8.114694</td>\n",
       "      <td>0.235847</td>\n",
       "      <td>38.532263</td>\n",
       "      <td>37.392979</td>\n",
       "      <td>-141.509805</td>\n",
       "      <td>22.204612</td>\n",
       "      <td>4.347317</td>\n",
       "    </tr>\n",
       "  </tbody>\n",
       "</table>\n",
       "<p>5 rows × 76 columns</p>\n",
       "</div>"
      ],
      "text/plain": [
       "       ID_LAT_LON_YEAR_WEEK  latitude  longitude  year  week_no  \\\n",
       "0  ID_-0.510_29.290_2019_00     -0.51      29.29  2019        0   \n",
       "1  ID_-0.510_29.290_2019_01     -0.51      29.29  2019        1   \n",
       "2  ID_-0.510_29.290_2019_02     -0.51      29.29  2019        2   \n",
       "3  ID_-0.510_29.290_2019_03     -0.51      29.29  2019        3   \n",
       "4  ID_-0.510_29.290_2019_04     -0.51      29.29  2019        4   \n",
       "\n",
       "   SulphurDioxide_SO2_column_number_density  \\\n",
       "0                                 -0.000108   \n",
       "1                                  0.000021   \n",
       "2                                  0.000514   \n",
       "3                                       NaN   \n",
       "4                                 -0.000079   \n",
       "\n",
       "   SulphurDioxide_SO2_column_number_density_amf  \\\n",
       "0                                      0.603019   \n",
       "1                                      0.728214   \n",
       "2                                      0.748199   \n",
       "3                                           NaN   \n",
       "4                                      0.676296   \n",
       "\n",
       "   SulphurDioxide_SO2_slant_column_number_density  \\\n",
       "0                                       -0.000065   \n",
       "1                                        0.000014   \n",
       "2                                        0.000385   \n",
       "3                                             NaN   \n",
       "4                                       -0.000048   \n",
       "\n",
       "   SulphurDioxide_cloud_fraction  SulphurDioxide_sensor_azimuth_angle  ...  \\\n",
       "0                       0.255668                           -98.593887  ...   \n",
       "1                       0.130988                            16.592861  ...   \n",
       "2                       0.110018                            72.795837  ...   \n",
       "3                            NaN                                  NaN  ...   \n",
       "4                       0.121164                             4.121269  ...   \n",
       "\n",
       "   Cloud_cloud_top_height  Cloud_cloud_base_pressure  Cloud_cloud_base_height  \\\n",
       "0             3664.436218               61085.809570              2615.120483   \n",
       "1             3651.190311               66969.478735              3174.572424   \n",
       "2             4216.986492               60068.894448              3516.282669   \n",
       "3             5228.507736               51064.547339              4180.973322   \n",
       "4             3980.598120               63751.125781              3355.710107   \n",
       "\n",
       "   Cloud_cloud_optical_depth  Cloud_surface_albedo  \\\n",
       "0                  15.568533              0.272292   \n",
       "1                   8.690601              0.256830   \n",
       "2                  21.103410              0.251101   \n",
       "3                  15.386899              0.262043   \n",
       "4                   8.114694              0.235847   \n",
       "\n",
       "   Cloud_sensor_azimuth_angle  Cloud_sensor_zenith_angle  \\\n",
       "0                  -12.628986                  35.632416   \n",
       "1                   30.359375                  39.557633   \n",
       "2                   15.377883                  30.401823   \n",
       "3                  -11.293399                  24.380357   \n",
       "4                   38.532263                  37.392979   \n",
       "\n",
       "   Cloud_solar_azimuth_angle  Cloud_solar_zenith_angle  emission  \n",
       "0                -138.786423                 30.752140  3.750994  \n",
       "1                -145.183930                 27.251779  4.025176  \n",
       "2                -142.519545                 26.193296  4.231381  \n",
       "3                -132.665828                 28.829155  4.305286  \n",
       "4                -141.509805                 22.204612  4.347317  \n",
       "\n",
       "[5 rows x 76 columns]"
      ]
     },
     "execution_count": 3,
     "metadata": {},
     "output_type": "execute_result"
    }
   ],
   "source": [
    "# 데이터 일부 확인\n",
    "train.head()"
   ]
  },
  {
   "cell_type": "code",
   "execution_count": 4,
   "metadata": {},
   "outputs": [],
   "source": [
    "# train.drop(['ID_LAT_LON_YEAR_WEEK'], axis=1, inplace=True)\n",
    "# test.drop(['ID_LAT_LON_YEAR_WEEK'], axis=1, inplace=True)"
   ]
  },
  {
   "cell_type": "markdown",
   "metadata": {},
   "source": [
    "# 2. 결측값 처리"
   ]
  },
  {
   "cell_type": "code",
   "execution_count": 28,
   "metadata": {},
   "outputs": [],
   "source": [
    "# 삭제하지 않을 칼럼\n",
    "protected_columns = ['latitude', 'longitude', 'week_no', 'year']"
   ]
  },
  {
   "cell_type": "markdown",
   "metadata": {},
   "source": [
    "결측값 비율이 높은 칼럼 삭제"
   ]
  },
  {
   "cell_type": "code",
   "execution_count": 6,
   "metadata": {},
   "outputs": [
    {
     "name": "stdout",
     "output_type": "stream",
     "text": [
      "삭제된 칼럼 개수: 7\n"
     ]
    }
   ],
   "source": [
    "train_deleted, deleted_columns = delete_columns(train, 0.3, target='emission')\n",
    "\n",
    "print(f'삭제된 칼럼 개수: {len(deleted_columns)}')"
   ]
  },
  {
   "cell_type": "code",
   "execution_count": 7,
   "metadata": {},
   "outputs": [],
   "source": [
    "# 테스트 데이터에도 적용\n",
    "test_deleted = test.drop(deleted_columns, axis=1)"
   ]
  },
  {
   "cell_type": "code",
   "execution_count": 8,
   "metadata": {},
   "outputs": [],
   "source": [
    "# # 결측값 제거 결과\n",
    "# data_list = [['train', train], ['train_deleted', train_deleted]]\n",
    "# results = []\n",
    "\n",
    "# for name, data in data_list:\n",
    "#     score = score_dataset(data, 'emission')\n",
    "#     results.append([name, score])\n",
    "\n",
    "# results"
   ]
  },
  {
   "cell_type": "markdown",
   "metadata": {},
   "source": [
    "칼럼을 삭제한 데이터셋의 스코어가 더 좋다."
   ]
  },
  {
   "cell_type": "markdown",
   "metadata": {},
   "source": [
    "가장 이상적인 결측값 대체법 찾기 "
   ]
  },
  {
   "cell_type": "code",
   "execution_count": 9,
   "metadata": {},
   "outputs": [],
   "source": [
    "# methods = ['mean', 'linear', 'fill']\n",
    "# results = []\n",
    "\n",
    "# for method in methods:\n",
    "#     train_imputed, _ = impute_missing_values(train_deleted, method)\n",
    "#     score = score_dataset(train_imputed, 'emission')\n",
    "#     results.append([method, score])\n",
    "#     print(f'method \"{method}\" 계산 완료')\n",
    "\n",
    "# results"
   ]
  },
  {
   "cell_type": "code",
   "execution_count": 10,
   "metadata": {},
   "outputs": [],
   "source": [
    "# best_method = sorted(results, key=lambda x: x[1])[0]\n",
    "# print(f'best method: {best_method}')"
   ]
  },
  {
   "cell_type": "code",
   "execution_count": 11,
   "metadata": {},
   "outputs": [],
   "source": [
    "# train_imputed, _ = impute_missing_values(train_deleted, best_method[0])\n",
    "# test_imputed, _ = impute_missing_values(test_deleted, best_method[0])\n",
    "\n",
    "train_imputed, _ = impute_missing_values(train_deleted, 'fill')\n",
    "test_imputed, _ = impute_missing_values(test_deleted, 'fill')"
   ]
  },
  {
   "cell_type": "code",
   "execution_count": 12,
   "metadata": {},
   "outputs": [],
   "source": [
    "train_now = train_imputed\n",
    "test_now = test_imputed"
   ]
  },
  {
   "cell_type": "code",
   "execution_count": 13,
   "metadata": {},
   "outputs": [],
   "source": [
    "# score_dataset(train_now, 'emission')"
   ]
  },
  {
   "cell_type": "markdown",
   "metadata": {},
   "source": [
    "# 3. 칼럼 추가"
   ]
  },
  {
   "cell_type": "markdown",
   "metadata": {},
   "source": [
    "month 및 covid 칼럼 추가"
   ]
  },
  {
   "cell_type": "code",
   "execution_count": 14,
   "metadata": {},
   "outputs": [],
   "source": [
    "train_now['date'] = pd.to_datetime('2021' + train_now['week_no'].astype(str) + '0', format='%Y%W%w')\n",
    "train_now['month_no'] = train_now['date'].dt.month\n",
    "train_now.drop(columns=['date'], inplace=True)\n",
    "\n",
    "train_now['covid'] = (train_now.year == 2020) & (train_now.month_no > 2)"
   ]
  },
  {
   "cell_type": "code",
   "execution_count": 15,
   "metadata": {},
   "outputs": [],
   "source": [
    "test_now['date'] = pd.to_datetime('2021' + test_now['week_no'].astype(str) + '0', format='%Y%W%w')\n",
    "test_now['month_no'] = test_now['date'].dt.month\n",
    "test_now.drop(columns=['date'], inplace=True)\n",
    "\n",
    "test_now['covid'] = (test_now.year == 2020) & (test_now.month_no > 2)"
   ]
  },
  {
   "cell_type": "code",
   "execution_count": 16,
   "metadata": {},
   "outputs": [
    {
     "name": "stderr",
     "output_type": "stream",
     "text": [
      "c:\\Users\\loven\\dev\\kaggle_competition\\carbon\\carbon\\lib\\site-packages\\sklearn\\preprocessing\\_encoders.py:972: FutureWarning: `sparse` was renamed to `sparse_output` in version 1.2 and will be removed in 1.4. `sparse_output` is ignored unless you leave `sparse` to its default value.\n",
      "  warnings.warn(\n"
     ]
    }
   ],
   "source": [
    "train_now, encoder = one_hot(train_now, 'covid')\n",
    "test_now, _ = one_hot(test_now, 'covid', encoder)"
   ]
  },
  {
   "cell_type": "code",
   "execution_count": 17,
   "metadata": {},
   "outputs": [],
   "source": [
    "train_now.rename(columns={0: 'covid_false', 1: 'covid_true'}, inplace=True)\n",
    "test_now.rename(columns={0: 'covid_false', 1: 'covid_true'}, inplace=True)"
   ]
  },
  {
   "cell_type": "code",
   "execution_count": 29,
   "metadata": {},
   "outputs": [],
   "source": [
    "protected_columns.extend(['covid_False', 'covid_True'])"
   ]
  },
  {
   "cell_type": "markdown",
   "metadata": {},
   "source": [
    "월별 데이터셋 따로 구성"
   ]
  },
  {
   "cell_type": "code",
   "execution_count": 19,
   "metadata": {},
   "outputs": [],
   "source": [
    "train_sets = []\n",
    "test_sets = []\n",
    "\n",
    "for i in range(1, 13):\n",
    "    train_month = train_now.loc[train_now['month_no'] == i]\n",
    "    train_month = train_month.drop('month_no', axis=1)\n",
    "    train_sets.append(train_month)\n",
    "\n",
    "    test_month = test_now.loc[test_now['month_no'] == i]\n",
    "    test_month = test_month.drop('month_no', axis=1)\n",
    "    test_sets.append(test_month)"
   ]
  },
  {
   "cell_type": "code",
   "execution_count": 20,
   "metadata": {},
   "outputs": [
    {
     "data": {
      "text/plain": [
       "(12, 12)"
      ]
     },
     "execution_count": 20,
     "metadata": {},
     "output_type": "execute_result"
    }
   ],
   "source": [
    "len(train_sets), len(test_sets)"
   ]
  },
  {
   "cell_type": "code",
   "execution_count": 26,
   "metadata": {},
   "outputs": [
    {
     "data": {
      "text/html": [
       "<div>\n",
       "<style scoped>\n",
       "    .dataframe tbody tr th:only-of-type {\n",
       "        vertical-align: middle;\n",
       "    }\n",
       "\n",
       "    .dataframe tbody tr th {\n",
       "        vertical-align: top;\n",
       "    }\n",
       "\n",
       "    .dataframe thead th {\n",
       "        text-align: right;\n",
       "    }\n",
       "</style>\n",
       "<table border=\"1\" class=\"dataframe\">\n",
       "  <thead>\n",
       "    <tr style=\"text-align: right;\">\n",
       "      <th></th>\n",
       "      <th>ID_LAT_LON_YEAR_WEEK</th>\n",
       "      <th>latitude</th>\n",
       "      <th>longitude</th>\n",
       "      <th>year</th>\n",
       "      <th>week_no</th>\n",
       "      <th>SulphurDioxide_SO2_column_number_density</th>\n",
       "      <th>SulphurDioxide_SO2_column_number_density_amf</th>\n",
       "      <th>SulphurDioxide_SO2_slant_column_number_density</th>\n",
       "      <th>SulphurDioxide_cloud_fraction</th>\n",
       "      <th>SulphurDioxide_sensor_azimuth_angle</th>\n",
       "      <th>...</th>\n",
       "      <th>Cloud_cloud_base_height</th>\n",
       "      <th>Cloud_cloud_optical_depth</th>\n",
       "      <th>Cloud_surface_albedo</th>\n",
       "      <th>Cloud_sensor_azimuth_angle</th>\n",
       "      <th>Cloud_sensor_zenith_angle</th>\n",
       "      <th>Cloud_solar_azimuth_angle</th>\n",
       "      <th>Cloud_solar_zenith_angle</th>\n",
       "      <th>emission</th>\n",
       "      <th>covid_False</th>\n",
       "      <th>covid_True</th>\n",
       "    </tr>\n",
       "  </thead>\n",
       "  <tbody>\n",
       "    <tr>\n",
       "      <th>48</th>\n",
       "      <td>ID_-0.510_29.290_2019_48</td>\n",
       "      <td>-0.510</td>\n",
       "      <td>29.290</td>\n",
       "      <td>2019</td>\n",
       "      <td>48</td>\n",
       "      <td>-0.000048</td>\n",
       "      <td>1.458318</td>\n",
       "      <td>-0.000063</td>\n",
       "      <td>0.246529</td>\n",
       "      <td>-12.885389</td>\n",
       "      <td>...</td>\n",
       "      <td>3440.042912</td>\n",
       "      <td>11.203506</td>\n",
       "      <td>0.324199</td>\n",
       "      <td>-12.896338</td>\n",
       "      <td>30.172556</td>\n",
       "      <td>-134.022436</td>\n",
       "      <td>32.437827</td>\n",
       "      <td>4.441943</td>\n",
       "      <td>1.0</td>\n",
       "      <td>0.0</td>\n",
       "    </tr>\n",
       "    <tr>\n",
       "      <th>49</th>\n",
       "      <td>ID_-0.510_29.290_2019_49</td>\n",
       "      <td>-0.510</td>\n",
       "      <td>29.290</td>\n",
       "      <td>2019</td>\n",
       "      <td>49</td>\n",
       "      <td>0.000252</td>\n",
       "      <td>0.866398</td>\n",
       "      <td>0.000228</td>\n",
       "      <td>0.145260</td>\n",
       "      <td>73.240585</td>\n",
       "      <td>...</td>\n",
       "      <td>4967.352908</td>\n",
       "      <td>33.751743</td>\n",
       "      <td>0.274405</td>\n",
       "      <td>15.586374</td>\n",
       "      <td>49.483856</td>\n",
       "      <td>-140.201218</td>\n",
       "      <td>30.735814</td>\n",
       "      <td>4.351813</td>\n",
       "      <td>1.0</td>\n",
       "      <td>0.0</td>\n",
       "    </tr>\n",
       "    <tr>\n",
       "      <th>50</th>\n",
       "      <td>ID_-0.510_29.290_2019_50</td>\n",
       "      <td>-0.510</td>\n",
       "      <td>29.290</td>\n",
       "      <td>2019</td>\n",
       "      <td>50</td>\n",
       "      <td>-0.000055</td>\n",
       "      <td>1.008103</td>\n",
       "      <td>-0.000057</td>\n",
       "      <td>0.081973</td>\n",
       "      <td>-12.900699</td>\n",
       "      <td>...</td>\n",
       "      <td>6025.432331</td>\n",
       "      <td>19.281656</td>\n",
       "      <td>0.339029</td>\n",
       "      <td>-99.362143</td>\n",
       "      <td>41.805481</td>\n",
       "      <td>-130.304616</td>\n",
       "      <td>36.869808</td>\n",
       "      <td>4.439641</td>\n",
       "      <td>1.0</td>\n",
       "      <td>0.0</td>\n",
       "    </tr>\n",
       "    <tr>\n",
       "      <th>51</th>\n",
       "      <td>ID_-0.510_29.290_2019_51</td>\n",
       "      <td>-0.510</td>\n",
       "      <td>29.290</td>\n",
       "      <td>2019</td>\n",
       "      <td>51</td>\n",
       "      <td>0.000723</td>\n",
       "      <td>1.003793</td>\n",
       "      <td>0.000622</td>\n",
       "      <td>0.172089</td>\n",
       "      <td>-13.285339</td>\n",
       "      <td>...</td>\n",
       "      <td>4691.211910</td>\n",
       "      <td>14.043937</td>\n",
       "      <td>0.291180</td>\n",
       "      <td>-0.026138</td>\n",
       "      <td>34.530260</td>\n",
       "      <td>-139.225956</td>\n",
       "      <td>31.530672</td>\n",
       "      <td>4.008589</td>\n",
       "      <td>1.0</td>\n",
       "      <td>0.0</td>\n",
       "    </tr>\n",
       "    <tr>\n",
       "      <th>101</th>\n",
       "      <td>ID_-0.510_29.290_2020_48</td>\n",
       "      <td>-0.510</td>\n",
       "      <td>29.290</td>\n",
       "      <td>2020</td>\n",
       "      <td>48</td>\n",
       "      <td>-0.000032</td>\n",
       "      <td>0.844771</td>\n",
       "      <td>-0.000027</td>\n",
       "      <td>0.023310</td>\n",
       "      <td>72.170433</td>\n",
       "      <td>...</td>\n",
       "      <td>7454.968820</td>\n",
       "      <td>25.529804</td>\n",
       "      <td>0.366663</td>\n",
       "      <td>15.521822</td>\n",
       "      <td>38.571108</td>\n",
       "      <td>-137.222735</td>\n",
       "      <td>30.416937</td>\n",
       "      <td>4.173133</td>\n",
       "      <td>0.0</td>\n",
       "      <td>1.0</td>\n",
       "    </tr>\n",
       "    <tr>\n",
       "      <th>...</th>\n",
       "      <td>...</td>\n",
       "      <td>...</td>\n",
       "      <td>...</td>\n",
       "      <td>...</td>\n",
       "      <td>...</td>\n",
       "      <td>...</td>\n",
       "      <td>...</td>\n",
       "      <td>...</td>\n",
       "      <td>...</td>\n",
       "      <td>...</td>\n",
       "      <td>...</td>\n",
       "      <td>...</td>\n",
       "      <td>...</td>\n",
       "      <td>...</td>\n",
       "      <td>...</td>\n",
       "      <td>...</td>\n",
       "      <td>...</td>\n",
       "      <td>...</td>\n",
       "      <td>...</td>\n",
       "      <td>...</td>\n",
       "      <td>...</td>\n",
       "    </tr>\n",
       "    <tr>\n",
       "      <th>78968</th>\n",
       "      <td>ID_-3.299_30.301_2020_51</td>\n",
       "      <td>-3.299</td>\n",
       "      <td>30.301</td>\n",
       "      <td>2020</td>\n",
       "      <td>51</td>\n",
       "      <td>-0.000235</td>\n",
       "      <td>0.633192</td>\n",
       "      <td>-0.000149</td>\n",
       "      <td>0.257000</td>\n",
       "      <td>-99.141518</td>\n",
       "      <td>...</td>\n",
       "      <td>3858.187453</td>\n",
       "      <td>14.519789</td>\n",
       "      <td>0.248484</td>\n",
       "      <td>30.840922</td>\n",
       "      <td>39.529722</td>\n",
       "      <td>-138.964016</td>\n",
       "      <td>28.574091</td>\n",
       "      <td>25.591976</td>\n",
       "      <td>0.0</td>\n",
       "      <td>1.0</td>\n",
       "    </tr>\n",
       "    <tr>\n",
       "      <th>79018</th>\n",
       "      <td>ID_-3.299_30.301_2021_48</td>\n",
       "      <td>-3.299</td>\n",
       "      <td>30.301</td>\n",
       "      <td>2021</td>\n",
       "      <td>48</td>\n",
       "      <td>0.000284</td>\n",
       "      <td>1.195643</td>\n",
       "      <td>0.000340</td>\n",
       "      <td>0.191313</td>\n",
       "      <td>72.820518</td>\n",
       "      <td>...</td>\n",
       "      <td>4590.879504</td>\n",
       "      <td>20.245954</td>\n",
       "      <td>0.304797</td>\n",
       "      <td>-35.140368</td>\n",
       "      <td>40.113533</td>\n",
       "      <td>-129.935508</td>\n",
       "      <td>32.095214</td>\n",
       "      <td>29.404171</td>\n",
       "      <td>1.0</td>\n",
       "      <td>0.0</td>\n",
       "    </tr>\n",
       "    <tr>\n",
       "      <th>79019</th>\n",
       "      <td>ID_-3.299_30.301_2021_49</td>\n",
       "      <td>-3.299</td>\n",
       "      <td>30.301</td>\n",
       "      <td>2021</td>\n",
       "      <td>49</td>\n",
       "      <td>0.000083</td>\n",
       "      <td>1.130868</td>\n",
       "      <td>0.000063</td>\n",
       "      <td>0.177222</td>\n",
       "      <td>-12.856753</td>\n",
       "      <td>...</td>\n",
       "      <td>4659.130378</td>\n",
       "      <td>6.104610</td>\n",
       "      <td>0.314015</td>\n",
       "      <td>4.667058</td>\n",
       "      <td>47.528435</td>\n",
       "      <td>-134.252871</td>\n",
       "      <td>30.771469</td>\n",
       "      <td>29.186497</td>\n",
       "      <td>1.0</td>\n",
       "      <td>0.0</td>\n",
       "    </tr>\n",
       "    <tr>\n",
       "      <th>79020</th>\n",
       "      <td>ID_-3.299_30.301_2021_50</td>\n",
       "      <td>-3.299</td>\n",
       "      <td>30.301</td>\n",
       "      <td>2021</td>\n",
       "      <td>50</td>\n",
       "      <td>0.000083</td>\n",
       "      <td>1.130868</td>\n",
       "      <td>0.000063</td>\n",
       "      <td>0.177222</td>\n",
       "      <td>-12.856753</td>\n",
       "      <td>...</td>\n",
       "      <td>5222.646823</td>\n",
       "      <td>14.817885</td>\n",
       "      <td>0.288058</td>\n",
       "      <td>-0.340922</td>\n",
       "      <td>35.328098</td>\n",
       "      <td>-134.731723</td>\n",
       "      <td>30.716166</td>\n",
       "      <td>29.131205</td>\n",
       "      <td>1.0</td>\n",
       "      <td>0.0</td>\n",
       "    </tr>\n",
       "    <tr>\n",
       "      <th>79021</th>\n",
       "      <td>ID_-3.299_30.301_2021_51</td>\n",
       "      <td>-3.299</td>\n",
       "      <td>30.301</td>\n",
       "      <td>2021</td>\n",
       "      <td>51</td>\n",
       "      <td>-0.000034</td>\n",
       "      <td>0.879397</td>\n",
       "      <td>-0.000028</td>\n",
       "      <td>0.184209</td>\n",
       "      <td>-100.344827</td>\n",
       "      <td>...</td>\n",
       "      <td>6946.858022</td>\n",
       "      <td>32.594768</td>\n",
       "      <td>0.274047</td>\n",
       "      <td>8.427699</td>\n",
       "      <td>48.295652</td>\n",
       "      <td>-139.447849</td>\n",
       "      <td>29.112868</td>\n",
       "      <td>28.125792</td>\n",
       "      <td>1.0</td>\n",
       "      <td>0.0</td>\n",
       "    </tr>\n",
       "  </tbody>\n",
       "</table>\n",
       "<p>5964 rows × 71 columns</p>\n",
       "</div>"
      ],
      "text/plain": [
       "           ID_LAT_LON_YEAR_WEEK  latitude  longitude  year  week_no  \\\n",
       "48     ID_-0.510_29.290_2019_48    -0.510     29.290  2019       48   \n",
       "49     ID_-0.510_29.290_2019_49    -0.510     29.290  2019       49   \n",
       "50     ID_-0.510_29.290_2019_50    -0.510     29.290  2019       50   \n",
       "51     ID_-0.510_29.290_2019_51    -0.510     29.290  2019       51   \n",
       "101    ID_-0.510_29.290_2020_48    -0.510     29.290  2020       48   \n",
       "...                         ...       ...        ...   ...      ...   \n",
       "78968  ID_-3.299_30.301_2020_51    -3.299     30.301  2020       51   \n",
       "79018  ID_-3.299_30.301_2021_48    -3.299     30.301  2021       48   \n",
       "79019  ID_-3.299_30.301_2021_49    -3.299     30.301  2021       49   \n",
       "79020  ID_-3.299_30.301_2021_50    -3.299     30.301  2021       50   \n",
       "79021  ID_-3.299_30.301_2021_51    -3.299     30.301  2021       51   \n",
       "\n",
       "       SulphurDioxide_SO2_column_number_density  \\\n",
       "48                                    -0.000048   \n",
       "49                                     0.000252   \n",
       "50                                    -0.000055   \n",
       "51                                     0.000723   \n",
       "101                                   -0.000032   \n",
       "...                                         ...   \n",
       "78968                                 -0.000235   \n",
       "79018                                  0.000284   \n",
       "79019                                  0.000083   \n",
       "79020                                  0.000083   \n",
       "79021                                 -0.000034   \n",
       "\n",
       "       SulphurDioxide_SO2_column_number_density_amf  \\\n",
       "48                                         1.458318   \n",
       "49                                         0.866398   \n",
       "50                                         1.008103   \n",
       "51                                         1.003793   \n",
       "101                                        0.844771   \n",
       "...                                             ...   \n",
       "78968                                      0.633192   \n",
       "79018                                      1.195643   \n",
       "79019                                      1.130868   \n",
       "79020                                      1.130868   \n",
       "79021                                      0.879397   \n",
       "\n",
       "       SulphurDioxide_SO2_slant_column_number_density  \\\n",
       "48                                          -0.000063   \n",
       "49                                           0.000228   \n",
       "50                                          -0.000057   \n",
       "51                                           0.000622   \n",
       "101                                         -0.000027   \n",
       "...                                               ...   \n",
       "78968                                       -0.000149   \n",
       "79018                                        0.000340   \n",
       "79019                                        0.000063   \n",
       "79020                                        0.000063   \n",
       "79021                                       -0.000028   \n",
       "\n",
       "       SulphurDioxide_cloud_fraction  SulphurDioxide_sensor_azimuth_angle  \\\n",
       "48                          0.246529                           -12.885389   \n",
       "49                          0.145260                            73.240585   \n",
       "50                          0.081973                           -12.900699   \n",
       "51                          0.172089                           -13.285339   \n",
       "101                         0.023310                            72.170433   \n",
       "...                              ...                                  ...   \n",
       "78968                       0.257000                           -99.141518   \n",
       "79018                       0.191313                            72.820518   \n",
       "79019                       0.177222                           -12.856753   \n",
       "79020                       0.177222                           -12.856753   \n",
       "79021                       0.184209                          -100.344827   \n",
       "\n",
       "       ...  Cloud_cloud_base_height  Cloud_cloud_optical_depth  \\\n",
       "48     ...              3440.042912                  11.203506   \n",
       "49     ...              4967.352908                  33.751743   \n",
       "50     ...              6025.432331                  19.281656   \n",
       "51     ...              4691.211910                  14.043937   \n",
       "101    ...              7454.968820                  25.529804   \n",
       "...    ...                      ...                        ...   \n",
       "78968  ...              3858.187453                  14.519789   \n",
       "79018  ...              4590.879504                  20.245954   \n",
       "79019  ...              4659.130378                   6.104610   \n",
       "79020  ...              5222.646823                  14.817885   \n",
       "79021  ...              6946.858022                  32.594768   \n",
       "\n",
       "       Cloud_surface_albedo  Cloud_sensor_azimuth_angle  \\\n",
       "48                 0.324199                  -12.896338   \n",
       "49                 0.274405                   15.586374   \n",
       "50                 0.339029                  -99.362143   \n",
       "51                 0.291180                   -0.026138   \n",
       "101                0.366663                   15.521822   \n",
       "...                     ...                         ...   \n",
       "78968              0.248484                   30.840922   \n",
       "79018              0.304797                  -35.140368   \n",
       "79019              0.314015                    4.667058   \n",
       "79020              0.288058                   -0.340922   \n",
       "79021              0.274047                    8.427699   \n",
       "\n",
       "       Cloud_sensor_zenith_angle  Cloud_solar_azimuth_angle  \\\n",
       "48                     30.172556                -134.022436   \n",
       "49                     49.483856                -140.201218   \n",
       "50                     41.805481                -130.304616   \n",
       "51                     34.530260                -139.225956   \n",
       "101                    38.571108                -137.222735   \n",
       "...                          ...                        ...   \n",
       "78968                  39.529722                -138.964016   \n",
       "79018                  40.113533                -129.935508   \n",
       "79019                  47.528435                -134.252871   \n",
       "79020                  35.328098                -134.731723   \n",
       "79021                  48.295652                -139.447849   \n",
       "\n",
       "       Cloud_solar_zenith_angle   emission  covid_False  covid_True  \n",
       "48                    32.437827   4.441943          1.0         0.0  \n",
       "49                    30.735814   4.351813          1.0         0.0  \n",
       "50                    36.869808   4.439641          1.0         0.0  \n",
       "51                    31.530672   4.008589          1.0         0.0  \n",
       "101                   30.416937   4.173133          0.0         1.0  \n",
       "...                         ...        ...          ...         ...  \n",
       "78968                 28.574091  25.591976          0.0         1.0  \n",
       "79018                 32.095214  29.404171          1.0         0.0  \n",
       "79019                 30.771469  29.186497          1.0         0.0  \n",
       "79020                 30.716166  29.131205          1.0         0.0  \n",
       "79021                 29.112868  28.125792          1.0         0.0  \n",
       "\n",
       "[5964 rows x 71 columns]"
      ]
     },
     "execution_count": 26,
     "metadata": {},
     "output_type": "execute_result"
    }
   ],
   "source": [
    "train_sets[11]"
   ]
  },
  {
   "cell_type": "markdown",
   "metadata": {},
   "source": [
    "# 4. Feature Selection(by Mutual Information, Correlation)"
   ]
  },
  {
   "cell_type": "code",
   "execution_count": 30,
   "metadata": {},
   "outputs": [
    {
     "name": "stdout",
     "output_type": "stream",
     "text": [
      "0 train의 칼럼 개수: 17\n",
      "1 train의 칼럼 개수: 8\n",
      "2 train의 칼럼 개수: 8\n",
      "3 train의 칼럼 개수: 8\n",
      "4 train의 칼럼 개수: 8\n",
      "5 train의 칼럼 개수: 8\n",
      "6 train의 칼럼 개수: 8\n",
      "7 train의 칼럼 개수: 8\n",
      "8 train의 칼럼 개수: 8\n",
      "9 train의 칼럼 개수: 8\n",
      "10 train의 칼럼 개수: 8\n",
      "11 train의 칼럼 개수: 8\n"
     ]
    }
   ],
   "source": [
    "selected_columns = []\n",
    "\n",
    "for idx, train in enumerate(train_sets):\n",
    "    df, columns, _ = mi_score(train, 'emission', 0.4, corr=True, corr_threshold=0.4, protected=protected_columns)\n",
    "    columns.remove('emission')\n",
    "    selected_columns.append(columns)\n",
    "    train_sets[idx] = df\n",
    "    print(f'{idx} train의 칼럼 개수: {len(train_sets[idx].columns)}')"
   ]
  },
  {
   "cell_type": "code",
   "execution_count": 36,
   "metadata": {},
   "outputs": [
    {
     "name": "stdout",
     "output_type": "stream",
     "text": [
      "8.62455871289881\n",
      "9.119747537430815\n",
      "8.416802220257834\n",
      "9.750885651367195\n",
      "7.794948428798791\n",
      "8.09821217590328\n",
      "8.15032913657319\n",
      "7.911346516400593\n",
      "8.222657767182522\n",
      "10.030696144839013\n",
      "8.89252907599103\n",
      "8.85778518199263\n"
     ]
    }
   ],
   "source": [
    "for train in train_sets:\n",
    "    print(score_dataset(train, 'emission'))"
   ]
  },
  {
   "cell_type": "code",
   "execution_count": 31,
   "metadata": {},
   "outputs": [],
   "source": [
    "for idx, test in enumerate(test_sets):\n",
    "    test_sets[idx] = test.loc[:, selected_columns[idx]]"
   ]
  },
  {
   "cell_type": "markdown",
   "metadata": {},
   "source": [
    "# 5. Clustering"
   ]
  },
  {
   "cell_type": "code",
   "execution_count": 28,
   "metadata": {},
   "outputs": [],
   "source": [
    "# features = ['latitude', 'longitude']"
   ]
  },
  {
   "cell_type": "code",
   "execution_count": 29,
   "metadata": {},
   "outputs": [
    {
     "name": "stdout",
     "output_type": "stream",
     "text": [
      "The elbow method is excecuting\n"
     ]
    },
    {
     "name": "stderr",
     "output_type": "stream",
     "text": [
      "c:\\Users\\loven\\dev\\kaggle_competition\\carbon\\carbon\\lib\\site-packages\\sklearn\\preprocessing\\_encoders.py:972: FutureWarning: `sparse` was renamed to `sparse_output` in version 1.2 and will be removed in 1.4. `sparse_output` is ignored unless you leave `sparse` to its default value.\n",
      "  warnings.warn(\n"
     ]
    },
    {
     "name": "stdout",
     "output_type": "stream",
     "text": [
      "The elbow method is excecuting\n"
     ]
    },
    {
     "name": "stderr",
     "output_type": "stream",
     "text": [
      "c:\\Users\\loven\\dev\\kaggle_competition\\carbon\\carbon\\lib\\site-packages\\sklearn\\preprocessing\\_encoders.py:972: FutureWarning: `sparse` was renamed to `sparse_output` in version 1.2 and will be removed in 1.4. `sparse_output` is ignored unless you leave `sparse` to its default value.\n",
      "  warnings.warn(\n"
     ]
    },
    {
     "name": "stdout",
     "output_type": "stream",
     "text": [
      "The elbow method is excecuting\n"
     ]
    },
    {
     "name": "stderr",
     "output_type": "stream",
     "text": [
      "c:\\Users\\loven\\dev\\kaggle_competition\\carbon\\carbon\\lib\\site-packages\\sklearn\\preprocessing\\_encoders.py:972: FutureWarning: `sparse` was renamed to `sparse_output` in version 1.2 and will be removed in 1.4. `sparse_output` is ignored unless you leave `sparse` to its default value.\n",
      "  warnings.warn(\n"
     ]
    },
    {
     "name": "stdout",
     "output_type": "stream",
     "text": [
      "The elbow method is excecuting\n"
     ]
    },
    {
     "name": "stderr",
     "output_type": "stream",
     "text": [
      "c:\\Users\\loven\\dev\\kaggle_competition\\carbon\\carbon\\lib\\site-packages\\sklearn\\preprocessing\\_encoders.py:972: FutureWarning: `sparse` was renamed to `sparse_output` in version 1.2 and will be removed in 1.4. `sparse_output` is ignored unless you leave `sparse` to its default value.\n",
      "  warnings.warn(\n"
     ]
    }
   ],
   "source": [
    "# clusters = []\n",
    "# encoders = []\n",
    "# for idx, train in enumerate(train_sets):\n",
    "#     df, cluster, encoder, n_clusters = kmc(train, features, n_clusters=20, elbow=True, encoding=True)\n",
    "#     encoders.append(encoder)\n",
    "#     train_sets[idx] = df\n",
    "#     clusters.append(cluster)"
   ]
  },
  {
   "cell_type": "code",
   "execution_count": 30,
   "metadata": {},
   "outputs": [],
   "source": [
    "# for idx, test in enumerate(test_sets):\n",
    "#     df, _, _, _ = kmc(test, features, cluster=clusters[idx], encoding=True, encoder=encoders[idx])\n",
    "#     test_sets[idx] = df"
   ]
  },
  {
   "cell_type": "markdown",
   "metadata": {},
   "source": [
    "# 7. 최종 데이터셋"
   ]
  },
  {
   "cell_type": "code",
   "execution_count": 32,
   "metadata": {},
   "outputs": [
    {
     "data": {
      "text/plain": [
       "[1, 2, 3, 4, 5, 6, 7, 8, 9, 10, 11, 12]"
      ]
     },
     "execution_count": 32,
     "metadata": {},
     "output_type": "execute_result"
    }
   ],
   "source": [
    "months = [i for i in range(1, 13)]\n",
    "months"
   ]
  },
  {
   "cell_type": "code",
   "execution_count": 33,
   "metadata": {},
   "outputs": [],
   "source": [
    "train_columns = []\n",
    "\n",
    "for idx, train in enumerate(train_sets):\n",
    "    col = list(map(str, list(train.columns)))\n",
    "    train.columns = col\n",
    "    col.sort()\n",
    "    train_reordered = train[col]\n",
    "    col.remove('emission')\n",
    "    train_columns.append(col)\n",
    "    data_name = os.path.join(DATA_PATH, '0808/train_{}_4.csv'.format(months[idx]))\n",
    "    train_reordered.to_csv(data_name)"
   ]
  },
  {
   "cell_type": "code",
   "execution_count": 35,
   "metadata": {},
   "outputs": [],
   "source": [
    "for idx, test in enumerate(test_sets):\n",
    "    col = list(map(str, list(test.columns)))\n",
    "    test.columns = col\n",
    "    test_reordered = test[train_columns[idx]]\n",
    "    data_name = os.path.join(DATA_PATH, '0808/test_{}_4.csv'.format(months[idx]))\n",
    "    test_reordered.to_csv(data_name)"
   ]
  },
  {
   "cell_type": "code",
   "execution_count": null,
   "metadata": {},
   "outputs": [],
   "source": []
  }
 ],
 "metadata": {
  "kernelspec": {
   "display_name": "carbon",
   "language": "python",
   "name": "python3"
  },
  "language_info": {
   "codemirror_mode": {
    "name": "ipython",
    "version": 3
   },
   "file_extension": ".py",
   "mimetype": "text/x-python",
   "name": "python",
   "nbconvert_exporter": "python",
   "pygments_lexer": "ipython3",
   "version": "3.8.8"
  },
  "orig_nbformat": 4
 },
 "nbformat": 4,
 "nbformat_minor": 2
}
